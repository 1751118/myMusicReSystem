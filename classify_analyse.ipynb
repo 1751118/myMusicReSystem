{
 "cells": [
  {
   "cell_type": "code",
   "execution_count": 1,
   "id": "fe08ef5c",
   "metadata": {
    "ExecuteTime": {
     "end_time": "2024-04-15T12:43:27.485262Z",
     "start_time": "2024-04-15T12:43:26.203745Z"
    }
   },
   "outputs": [
    {
     "name": "stdout",
     "output_type": "stream",
     "text": [
      "<class 'pandas.core.frame.DataFrame'>\n",
      "RangeIndex: 354667 entries, 0 to 354666\n",
      "Data columns (total 12 columns):\n",
      " #   Column      Non-Null Count   Dtype  \n",
      "---  ------      --------------   -----  \n",
      " 0   score       354667 non-null  float64\n",
      " 1   hashtag     354667 non-null  object \n",
      " 2   lang        354667 non-null  object \n",
      " 3   tweet_lang  354667 non-null  object \n",
      " 4   time_zone   354667 non-null  object \n",
      " 5   created_at  354667 non-null  object \n",
      " 6   season      354667 non-null  int64  \n",
      " 7   month       354667 non-null  int64  \n",
      " 8   day_time    354667 non-null  object \n",
      " 9   hours       354667 non-null  int64  \n",
      " 10  track_id    354667 non-null  object \n",
      " 11  valence     354667 non-null  float64\n",
      "dtypes: float64(2), int64(3), object(7)\n",
      "memory usage: 32.5+ MB\n"
     ]
    }
   ],
   "source": [
    "import pandas as pd\n",
    "\n",
    "df = pd.read_csv('./classify_data.csv')\n",
    "df.info()"
   ]
  },
  {
   "cell_type": "code",
   "execution_count": 2,
   "id": "6ad2204c",
   "metadata": {
    "ExecuteTime": {
     "end_time": "2024-04-15T12:43:27.515152Z",
     "start_time": "2024-04-15T12:43:27.487751Z"
    }
   },
   "outputs": [
    {
     "name": "stdout",
     "output_type": "stream",
     "text": [
      "<class 'pandas.core.frame.DataFrame'>\n",
      "RangeIndex: 26106 entries, 0 to 26105\n",
      "Data columns (total 2 columns):\n",
      " #   Column    Non-Null Count  Dtype \n",
      "---  ------    --------------  ----- \n",
      " 0   track_id  26106 non-null  object\n",
      " 1   labels    26106 non-null  int64 \n",
      "dtypes: int64(1), object(1)\n",
      "memory usage: 408.0+ KB\n"
     ]
    }
   ],
   "source": [
    "track_to_label = pd.read_csv('./track_to_labels.csv')\n",
    "track_to_label.info()"
   ]
  },
  {
   "cell_type": "code",
   "execution_count": 3,
   "id": "15672c18",
   "metadata": {
    "ExecuteTime": {
     "end_time": "2024-04-15T12:43:27.649674Z",
     "start_time": "2024-04-15T12:43:27.517280Z"
    }
   },
   "outputs": [
    {
     "data": {
      "text/html": [
       "<div>\n",
       "<style scoped>\n",
       "    .dataframe tbody tr th:only-of-type {\n",
       "        vertical-align: middle;\n",
       "    }\n",
       "\n",
       "    .dataframe tbody tr th {\n",
       "        vertical-align: top;\n",
       "    }\n",
       "\n",
       "    .dataframe thead th {\n",
       "        text-align: right;\n",
       "    }\n",
       "</style>\n",
       "<table border=\"1\" class=\"dataframe\">\n",
       "  <thead>\n",
       "    <tr style=\"text-align: right;\">\n",
       "      <th></th>\n",
       "      <th>score</th>\n",
       "      <th>hashtag</th>\n",
       "      <th>lang</th>\n",
       "      <th>tweet_lang</th>\n",
       "      <th>time_zone</th>\n",
       "      <th>created_at</th>\n",
       "      <th>season</th>\n",
       "      <th>month</th>\n",
       "      <th>day_time</th>\n",
       "      <th>hours</th>\n",
       "      <th>track_id</th>\n",
       "      <th>valence</th>\n",
       "      <th>labels</th>\n",
       "    </tr>\n",
       "  </thead>\n",
       "  <tbody>\n",
       "    <tr>\n",
       "      <th>0</th>\n",
       "      <td>0.8</td>\n",
       "      <td>kiss92</td>\n",
       "      <td>en</td>\n",
       "      <td>en</td>\n",
       "      <td>Beijing</td>\n",
       "      <td>2014-01-01 05:59:38</td>\n",
       "      <td>0</td>\n",
       "      <td>1</td>\n",
       "      <td>Wee hours(00:00 - 6:00)</td>\n",
       "      <td>5</td>\n",
       "      <td>b129f3e0a0bdc1e61c57ce994f9d2932</td>\n",
       "      <td>0.320</td>\n",
       "      <td>0</td>\n",
       "    </tr>\n",
       "    <tr>\n",
       "      <th>1</th>\n",
       "      <td>0.8</td>\n",
       "      <td>kiss92</td>\n",
       "      <td>en</td>\n",
       "      <td>en</td>\n",
       "      <td>Beijing</td>\n",
       "      <td>2014-01-01 06:06:15</td>\n",
       "      <td>0</td>\n",
       "      <td>1</td>\n",
       "      <td>Morning(6:00 - 12:00)</td>\n",
       "      <td>6</td>\n",
       "      <td>64b30f6ac1acecb7cef9dc890e1c3ea7</td>\n",
       "      <td>0.380</td>\n",
       "      <td>2</td>\n",
       "    </tr>\n",
       "    <tr>\n",
       "      <th>2</th>\n",
       "      <td>0.8</td>\n",
       "      <td>kiss92</td>\n",
       "      <td>en</td>\n",
       "      <td>en</td>\n",
       "      <td>Beijing</td>\n",
       "      <td>2014-01-01 06:11:07</td>\n",
       "      <td>0</td>\n",
       "      <td>1</td>\n",
       "      <td>Morning(6:00 - 12:00)</td>\n",
       "      <td>6</td>\n",
       "      <td>cc1a46ee0446538ecf6b65db01c30cd8</td>\n",
       "      <td>0.270</td>\n",
       "      <td>2</td>\n",
       "    </tr>\n",
       "    <tr>\n",
       "      <th>3</th>\n",
       "      <td>0.8</td>\n",
       "      <td>kiss92</td>\n",
       "      <td>en</td>\n",
       "      <td>en</td>\n",
       "      <td>Beijing</td>\n",
       "      <td>2014-01-01 06:19:43</td>\n",
       "      <td>0</td>\n",
       "      <td>1</td>\n",
       "      <td>Morning(6:00 - 12:00)</td>\n",
       "      <td>6</td>\n",
       "      <td>dbbd8525c1bc48cc791bfe618b74bac6</td>\n",
       "      <td>0.576</td>\n",
       "      <td>4</td>\n",
       "    </tr>\n",
       "    <tr>\n",
       "      <th>4</th>\n",
       "      <td>0.8</td>\n",
       "      <td>kiss92</td>\n",
       "      <td>en</td>\n",
       "      <td>en</td>\n",
       "      <td>Beijing</td>\n",
       "      <td>2014-01-01 06:23:47</td>\n",
       "      <td>0</td>\n",
       "      <td>1</td>\n",
       "      <td>Morning(6:00 - 12:00)</td>\n",
       "      <td>6</td>\n",
       "      <td>dbdbb866939c1ab1dfd0d5cfac740eaa</td>\n",
       "      <td>0.768</td>\n",
       "      <td>4</td>\n",
       "    </tr>\n",
       "  </tbody>\n",
       "</table>\n",
       "</div>"
      ],
      "text/plain": [
       "   score hashtag lang tweet_lang time_zone           created_at  season  \\\n",
       "0    0.8  kiss92   en         en   Beijing  2014-01-01 05:59:38       0   \n",
       "1    0.8  kiss92   en         en   Beijing  2014-01-01 06:06:15       0   \n",
       "2    0.8  kiss92   en         en   Beijing  2014-01-01 06:11:07       0   \n",
       "3    0.8  kiss92   en         en   Beijing  2014-01-01 06:19:43       0   \n",
       "4    0.8  kiss92   en         en   Beijing  2014-01-01 06:23:47       0   \n",
       "\n",
       "   month                 day_time  hours                          track_id  \\\n",
       "0      1  Wee hours(00:00 - 6:00)      5  b129f3e0a0bdc1e61c57ce994f9d2932   \n",
       "1      1    Morning(6:00 - 12:00)      6  64b30f6ac1acecb7cef9dc890e1c3ea7   \n",
       "2      1    Morning(6:00 - 12:00)      6  cc1a46ee0446538ecf6b65db01c30cd8   \n",
       "3      1    Morning(6:00 - 12:00)      6  dbbd8525c1bc48cc791bfe618b74bac6   \n",
       "4      1    Morning(6:00 - 12:00)      6  dbdbb866939c1ab1dfd0d5cfac740eaa   \n",
       "\n",
       "   valence  labels  \n",
       "0    0.320       0  \n",
       "1    0.380       2  \n",
       "2    0.270       2  \n",
       "3    0.576       4  \n",
       "4    0.768       4  "
      ]
     },
     "execution_count": 3,
     "metadata": {},
     "output_type": "execute_result"
    }
   ],
   "source": [
    "df = df.merge(track_to_label, on='track_id', how='left')\n",
    "df.head()"
   ]
  },
  {
   "cell_type": "code",
   "execution_count": 4,
   "id": "8c582239",
   "metadata": {
    "ExecuteTime": {
     "end_time": "2024-04-15T12:43:27.761766Z",
     "start_time": "2024-04-15T12:43:27.651682Z"
    }
   },
   "outputs": [
    {
     "name": "stdout",
     "output_type": "stream",
     "text": [
      "<class 'pandas.core.frame.DataFrame'>\n",
      "RangeIndex: 354667 entries, 0 to 354666\n",
      "Data columns (total 13 columns):\n",
      " #   Column      Non-Null Count   Dtype  \n",
      "---  ------      --------------   -----  \n",
      " 0   score       354667 non-null  float64\n",
      " 1   hashtag     354667 non-null  object \n",
      " 2   lang        354667 non-null  object \n",
      " 3   tweet_lang  354667 non-null  object \n",
      " 4   time_zone   354667 non-null  object \n",
      " 5   created_at  354667 non-null  object \n",
      " 6   season      354667 non-null  int64  \n",
      " 7   month       354667 non-null  int64  \n",
      " 8   day_time    354667 non-null  object \n",
      " 9   hours       354667 non-null  int64  \n",
      " 10  track_id    354667 non-null  object \n",
      " 11  valence     354667 non-null  float64\n",
      " 12  labels      354667 non-null  int64  \n",
      "dtypes: float64(2), int64(4), object(7)\n",
      "memory usage: 35.2+ MB\n"
     ]
    }
   ],
   "source": [
    "df.info()"
   ]
  },
  {
   "cell_type": "code",
   "execution_count": 5,
   "id": "f0d08583",
   "metadata": {
    "ExecuteTime": {
     "end_time": "2024-04-15T12:43:27.771305Z",
     "start_time": "2024-04-15T12:43:27.764739Z"
    }
   },
   "outputs": [
    {
     "data": {
      "text/plain": [
       "labels\n",
       "4    96195\n",
       "2    86444\n",
       "1    66020\n",
       "3    59237\n",
       "0    46771\n",
       "Name: count, dtype: int64"
      ]
     },
     "execution_count": 5,
     "metadata": {},
     "output_type": "execute_result"
    }
   ],
   "source": [
    "df.labels.value_counts()"
   ]
  },
  {
   "cell_type": "code",
   "execution_count": 6,
   "id": "d0d837cd",
   "metadata": {
    "ExecuteTime": {
     "end_time": "2024-04-15T12:43:27.836921Z",
     "start_time": "2024-04-15T12:43:27.773209Z"
    }
   },
   "outputs": [
    {
     "data": {
      "text/plain": [
       "labels\n",
       "4    96195\n",
       "2    86444\n",
       "1    66020\n",
       "3    59237\n",
       "0    46771\n",
       "Name: count, dtype: int64"
      ]
     },
     "execution_count": 6,
     "metadata": {},
     "output_type": "execute_result"
    }
   ],
   "source": [
    "# 去除离群点\n",
    "df = df[df['labels'] != -1]\n",
    "df.labels.value_counts()"
   ]
  },
  {
   "cell_type": "code",
   "execution_count": 7,
   "id": "62056dec",
   "metadata": {
    "ExecuteTime": {
     "end_time": "2024-04-15T12:43:27.850238Z",
     "start_time": "2024-04-15T12:43:27.838989Z"
    }
   },
   "outputs": [
    {
     "data": {
      "text/html": [
       "<div>\n",
       "<style scoped>\n",
       "    .dataframe tbody tr th:only-of-type {\n",
       "        vertical-align: middle;\n",
       "    }\n",
       "\n",
       "    .dataframe tbody tr th {\n",
       "        vertical-align: top;\n",
       "    }\n",
       "\n",
       "    .dataframe thead th {\n",
       "        text-align: right;\n",
       "    }\n",
       "</style>\n",
       "<table border=\"1\" class=\"dataframe\">\n",
       "  <thead>\n",
       "    <tr style=\"text-align: right;\">\n",
       "      <th></th>\n",
       "      <th>score</th>\n",
       "      <th>hashtag</th>\n",
       "      <th>lang</th>\n",
       "      <th>tweet_lang</th>\n",
       "      <th>time_zone</th>\n",
       "      <th>created_at</th>\n",
       "      <th>season</th>\n",
       "      <th>month</th>\n",
       "      <th>day_time</th>\n",
       "      <th>hours</th>\n",
       "      <th>track_id</th>\n",
       "      <th>valence</th>\n",
       "      <th>labels</th>\n",
       "    </tr>\n",
       "  </thead>\n",
       "  <tbody>\n",
       "    <tr>\n",
       "      <th>0</th>\n",
       "      <td>0.8</td>\n",
       "      <td>kiss92</td>\n",
       "      <td>en</td>\n",
       "      <td>en</td>\n",
       "      <td>Beijing</td>\n",
       "      <td>2014-01-01 05:59:38</td>\n",
       "      <td>0</td>\n",
       "      <td>1</td>\n",
       "      <td>Wee hours(00:00 - 6:00)</td>\n",
       "      <td>5</td>\n",
       "      <td>b129f3e0a0bdc1e61c57ce994f9d2932</td>\n",
       "      <td>0.320</td>\n",
       "      <td>0</td>\n",
       "    </tr>\n",
       "    <tr>\n",
       "      <th>1</th>\n",
       "      <td>0.8</td>\n",
       "      <td>kiss92</td>\n",
       "      <td>en</td>\n",
       "      <td>en</td>\n",
       "      <td>Beijing</td>\n",
       "      <td>2014-01-01 06:06:15</td>\n",
       "      <td>0</td>\n",
       "      <td>1</td>\n",
       "      <td>Morning(6:00 - 12:00)</td>\n",
       "      <td>6</td>\n",
       "      <td>64b30f6ac1acecb7cef9dc890e1c3ea7</td>\n",
       "      <td>0.380</td>\n",
       "      <td>2</td>\n",
       "    </tr>\n",
       "    <tr>\n",
       "      <th>2</th>\n",
       "      <td>0.8</td>\n",
       "      <td>kiss92</td>\n",
       "      <td>en</td>\n",
       "      <td>en</td>\n",
       "      <td>Beijing</td>\n",
       "      <td>2014-01-01 06:11:07</td>\n",
       "      <td>0</td>\n",
       "      <td>1</td>\n",
       "      <td>Morning(6:00 - 12:00)</td>\n",
       "      <td>6</td>\n",
       "      <td>cc1a46ee0446538ecf6b65db01c30cd8</td>\n",
       "      <td>0.270</td>\n",
       "      <td>2</td>\n",
       "    </tr>\n",
       "    <tr>\n",
       "      <th>3</th>\n",
       "      <td>0.8</td>\n",
       "      <td>kiss92</td>\n",
       "      <td>en</td>\n",
       "      <td>en</td>\n",
       "      <td>Beijing</td>\n",
       "      <td>2014-01-01 06:19:43</td>\n",
       "      <td>0</td>\n",
       "      <td>1</td>\n",
       "      <td>Morning(6:00 - 12:00)</td>\n",
       "      <td>6</td>\n",
       "      <td>dbbd8525c1bc48cc791bfe618b74bac6</td>\n",
       "      <td>0.576</td>\n",
       "      <td>4</td>\n",
       "    </tr>\n",
       "    <tr>\n",
       "      <th>4</th>\n",
       "      <td>0.8</td>\n",
       "      <td>kiss92</td>\n",
       "      <td>en</td>\n",
       "      <td>en</td>\n",
       "      <td>Beijing</td>\n",
       "      <td>2014-01-01 06:23:47</td>\n",
       "      <td>0</td>\n",
       "      <td>1</td>\n",
       "      <td>Morning(6:00 - 12:00)</td>\n",
       "      <td>6</td>\n",
       "      <td>dbdbb866939c1ab1dfd0d5cfac740eaa</td>\n",
       "      <td>0.768</td>\n",
       "      <td>4</td>\n",
       "    </tr>\n",
       "  </tbody>\n",
       "</table>\n",
       "</div>"
      ],
      "text/plain": [
       "   score hashtag lang tweet_lang time_zone           created_at  season  \\\n",
       "0    0.8  kiss92   en         en   Beijing  2014-01-01 05:59:38       0   \n",
       "1    0.8  kiss92   en         en   Beijing  2014-01-01 06:06:15       0   \n",
       "2    0.8  kiss92   en         en   Beijing  2014-01-01 06:11:07       0   \n",
       "3    0.8  kiss92   en         en   Beijing  2014-01-01 06:19:43       0   \n",
       "4    0.8  kiss92   en         en   Beijing  2014-01-01 06:23:47       0   \n",
       "\n",
       "   month                 day_time  hours                          track_id  \\\n",
       "0      1  Wee hours(00:00 - 6:00)      5  b129f3e0a0bdc1e61c57ce994f9d2932   \n",
       "1      1    Morning(6:00 - 12:00)      6  64b30f6ac1acecb7cef9dc890e1c3ea7   \n",
       "2      1    Morning(6:00 - 12:00)      6  cc1a46ee0446538ecf6b65db01c30cd8   \n",
       "3      1    Morning(6:00 - 12:00)      6  dbbd8525c1bc48cc791bfe618b74bac6   \n",
       "4      1    Morning(6:00 - 12:00)      6  dbdbb866939c1ab1dfd0d5cfac740eaa   \n",
       "\n",
       "   valence  labels  \n",
       "0    0.320       0  \n",
       "1    0.380       2  \n",
       "2    0.270       2  \n",
       "3    0.576       4  \n",
       "4    0.768       4  "
      ]
     },
     "execution_count": 7,
     "metadata": {},
     "output_type": "execute_result"
    }
   ],
   "source": [
    "df.head()"
   ]
  },
  {
   "cell_type": "code",
   "execution_count": 8,
   "id": "dcfa30e5",
   "metadata": {
    "ExecuteTime": {
     "end_time": "2024-04-15T12:43:28.206848Z",
     "start_time": "2024-04-15T12:43:27.852107Z"
    }
   },
   "outputs": [
    {
     "name": "stdout",
     "output_type": "stream",
     "text": [
      "   score hashtag lang tweet_lang time_zone           created_at  season  \\\n",
      "0    0.8  kiss92   en         en   Beijing  2014-01-01 05:59:38       0   \n",
      "1    0.8  kiss92   en         en   Beijing  2014-01-01 06:06:15       0   \n",
      "2    0.8  kiss92   en         en   Beijing  2014-01-01 06:11:07       0   \n",
      "3    0.8  kiss92   en         en   Beijing  2014-01-01 06:19:43       0   \n",
      "4    0.8  kiss92   en         en   Beijing  2014-01-01 06:23:47       0   \n",
      "\n",
      "   month                 day_time  hours                          track_id  \\\n",
      "0      1  Wee hours(00:00 - 6:00)      5  b129f3e0a0bdc1e61c57ce994f9d2932   \n",
      "1      1    Morning(6:00 - 12:00)      6  64b30f6ac1acecb7cef9dc890e1c3ea7   \n",
      "2      1    Morning(6:00 - 12:00)      6  cc1a46ee0446538ecf6b65db01c30cd8   \n",
      "3      1    Morning(6:00 - 12:00)      6  dbbd8525c1bc48cc791bfe618b74bac6   \n",
      "4      1    Morning(6:00 - 12:00)      6  dbdbb866939c1ab1dfd0d5cfac740eaa   \n",
      "\n",
      "   valence  labels             month_day_time             day_time_hours  \n",
      "0    0.320       0  1_Wee hours(00:00 - 6:00)  Wee hours(00:00 - 6:00)_5  \n",
      "1    0.380       2    1_Morning(6:00 - 12:00)    Morning(6:00 - 12:00)_6  \n",
      "2    0.270       2    1_Morning(6:00 - 12:00)    Morning(6:00 - 12:00)_6  \n",
      "3    0.576       4    1_Morning(6:00 - 12:00)    Morning(6:00 - 12:00)_6  \n",
      "4    0.768       4    1_Morning(6:00 - 12:00)    Morning(6:00 - 12:00)_6  \n"
     ]
    }
   ],
   "source": [
    "# 创建交叉组合特征\n",
    "df['month_day_time'] = df['month'].astype(str) + '_' + df['day_time']\n",
    "df['day_time_hours'] = df['day_time'] + '_' + df['hours'].astype(str)\n",
    "\n",
    "# 查看结果\n",
    "print(df.head())"
   ]
  },
  {
   "cell_type": "code",
   "execution_count": 9,
   "id": "519a23fc",
   "metadata": {
    "ExecuteTime": {
     "end_time": "2024-04-15T12:43:28.211744Z",
     "start_time": "2024-04-15T12:43:28.208874Z"
    }
   },
   "outputs": [],
   "source": [
    "# import torch\n",
    "# import torch.nn as nn\n",
    "\n",
    "# num_categories = 24  # 示例：10个类别\n",
    "# embedding_dim = 5  # 嵌入向量的维度\n",
    "\n",
    "# # 创建嵌入层\n",
    "# embedding_layer = nn.Embedding(num_categories, embedding_dim)\n",
    "\n",
    "# # 示例：对一批类别数据进行嵌入\n",
    "# category_data = torch.tensor(df['hours'], dtype=torch.long)  # 假设的类别数据\n",
    "# embeddings = embedding_layer(category_data)  # 获取嵌入向量\n",
    "\n",
    "# print(embeddings)  # 输出嵌入向量\n"
   ]
  },
  {
   "cell_type": "code",
   "execution_count": 10,
   "id": "1f84dbfa",
   "metadata": {
    "ExecuteTime": {
     "end_time": "2024-04-15T12:43:28.415434Z",
     "start_time": "2024-04-15T12:43:28.213760Z"
    }
   },
   "outputs": [
    {
     "name": "stdout",
     "output_type": "stream",
     "text": [
      "<class 'pandas.core.frame.DataFrame'>\n",
      "RangeIndex: 354667 entries, 0 to 354666\n",
      "Data columns (total 16 columns):\n",
      " #   Column          Non-Null Count   Dtype  \n",
      "---  ------          --------------   -----  \n",
      " 0   score           354667 non-null  float64\n",
      " 1   hashtag         354667 non-null  object \n",
      " 2   lang            354667 non-null  object \n",
      " 3   tweet_lang      354667 non-null  object \n",
      " 4   time_zone       354667 non-null  object \n",
      " 5   created_at      354667 non-null  object \n",
      " 6   season          354667 non-null  int64  \n",
      " 7   month           354667 non-null  int64  \n",
      " 8   day_time        354667 non-null  object \n",
      " 9   hours           354667 non-null  int64  \n",
      " 10  track_id        354667 non-null  object \n",
      " 11  valence         354667 non-null  float64\n",
      " 12  labels          354667 non-null  int64  \n",
      " 13  month_day_time  354667 non-null  object \n",
      " 14  day_time_hours  354667 non-null  object \n",
      " 15  mood_label      354667 non-null  int8   \n",
      "dtypes: float64(2), int64(4), int8(1), object(9)\n",
      "memory usage: 40.9+ MB\n"
     ]
    }
   ],
   "source": [
    "# 对情绪分数score进行分箱操作\n",
    "labels = ['很悲伤', '悲伤', '平静', '开心', '很开心']\n",
    "bins = [0.0, 0.2, 0.4, 0.6, 0.8, 1.0]\n",
    "df['mood'] = pd.cut(df['score'], labels=labels, bins = bins, include_lowest=True)\n",
    "df['mood_label'] = df['mood'].cat.codes\n",
    "df.drop(['mood'], axis = 1, inplace = True)\n",
    "df.info()"
   ]
  },
  {
   "cell_type": "code",
   "execution_count": 11,
   "id": "4cb58cbd",
   "metadata": {
    "ExecuteTime": {
     "end_time": "2024-04-15T12:43:28.880143Z",
     "start_time": "2024-04-15T12:43:28.417806Z"
    }
   },
   "outputs": [
    {
     "name": "stdout",
     "output_type": "stream",
     "text": [
      "<class 'pandas.core.frame.DataFrame'>\n",
      "RangeIndex: 354667 entries, 0 to 354666\n",
      "Data columns (total 89 columns):\n",
      " #   Column                                      Non-Null Count   Dtype  \n",
      "---  ------                                      --------------   -----  \n",
      " 0   score                                       354667 non-null  float64\n",
      " 1   hashtag                                     354667 non-null  object \n",
      " 2   lang                                        354667 non-null  object \n",
      " 3   tweet_lang                                  354667 non-null  object \n",
      " 4   time_zone                                   354667 non-null  object \n",
      " 5   created_at                                  354667 non-null  object \n",
      " 6   season                                      354667 non-null  int64  \n",
      " 7   month                                       354667 non-null  int64  \n",
      " 8   hours                                       354667 non-null  int64  \n",
      " 9   track_id                                    354667 non-null  object \n",
      " 10  valence                                     354667 non-null  float64\n",
      " 11  labels                                      354667 non-null  int64  \n",
      " 12  mood_label                                  354667 non-null  int8   \n",
      " 13  day_time_Afternoon(12:00 - 18:00)           354667 non-null  float32\n",
      " 14  day_time_Morning(6:00 - 12:00)              354667 non-null  float32\n",
      " 15  day_time_Night(18:00 - 24:00)               354667 non-null  float32\n",
      " 16  day_time_Wee hours(00:00 - 6:00)            354667 non-null  float32\n",
      " 17  month_day_time_10_Afternoon(12:00 - 18:00)  354667 non-null  float32\n",
      " 18  month_day_time_10_Morning(6:00 - 12:00)     354667 non-null  float32\n",
      " 19  month_day_time_10_Night(18:00 - 24:00)      354667 non-null  float32\n",
      " 20  month_day_time_10_Wee hours(00:00 - 6:00)   354667 non-null  float32\n",
      " 21  month_day_time_11_Afternoon(12:00 - 18:00)  354667 non-null  float32\n",
      " 22  month_day_time_11_Morning(6:00 - 12:00)     354667 non-null  float32\n",
      " 23  month_day_time_11_Night(18:00 - 24:00)      354667 non-null  float32\n",
      " 24  month_day_time_11_Wee hours(00:00 - 6:00)   354667 non-null  float32\n",
      " 25  month_day_time_12_Afternoon(12:00 - 18:00)  354667 non-null  float32\n",
      " 26  month_day_time_12_Morning(6:00 - 12:00)     354667 non-null  float32\n",
      " 27  month_day_time_12_Night(18:00 - 24:00)      354667 non-null  float32\n",
      " 28  month_day_time_12_Wee hours(00:00 - 6:00)   354667 non-null  float32\n",
      " 29  month_day_time_1_Afternoon(12:00 - 18:00)   354667 non-null  float32\n",
      " 30  month_day_time_1_Morning(6:00 - 12:00)      354667 non-null  float32\n",
      " 31  month_day_time_1_Night(18:00 - 24:00)       354667 non-null  float32\n",
      " 32  month_day_time_1_Wee hours(00:00 - 6:00)    354667 non-null  float32\n",
      " 33  month_day_time_2_Afternoon(12:00 - 18:00)   354667 non-null  float32\n",
      " 34  month_day_time_2_Morning(6:00 - 12:00)      354667 non-null  float32\n",
      " 35  month_day_time_2_Night(18:00 - 24:00)       354667 non-null  float32\n",
      " 36  month_day_time_2_Wee hours(00:00 - 6:00)    354667 non-null  float32\n",
      " 37  month_day_time_3_Afternoon(12:00 - 18:00)   354667 non-null  float32\n",
      " 38  month_day_time_3_Morning(6:00 - 12:00)      354667 non-null  float32\n",
      " 39  month_day_time_3_Night(18:00 - 24:00)       354667 non-null  float32\n",
      " 40  month_day_time_3_Wee hours(00:00 - 6:00)    354667 non-null  float32\n",
      " 41  month_day_time_4_Afternoon(12:00 - 18:00)   354667 non-null  float32\n",
      " 42  month_day_time_4_Morning(6:00 - 12:00)      354667 non-null  float32\n",
      " 43  month_day_time_4_Night(18:00 - 24:00)       354667 non-null  float32\n",
      " 44  month_day_time_4_Wee hours(00:00 - 6:00)    354667 non-null  float32\n",
      " 45  month_day_time_5_Afternoon(12:00 - 18:00)   354667 non-null  float32\n",
      " 46  month_day_time_5_Morning(6:00 - 12:00)      354667 non-null  float32\n",
      " 47  month_day_time_5_Night(18:00 - 24:00)       354667 non-null  float32\n",
      " 48  month_day_time_5_Wee hours(00:00 - 6:00)    354667 non-null  float32\n",
      " 49  month_day_time_6_Afternoon(12:00 - 18:00)   354667 non-null  float32\n",
      " 50  month_day_time_6_Morning(6:00 - 12:00)      354667 non-null  float32\n",
      " 51  month_day_time_6_Night(18:00 - 24:00)       354667 non-null  float32\n",
      " 52  month_day_time_6_Wee hours(00:00 - 6:00)    354667 non-null  float32\n",
      " 53  month_day_time_7_Afternoon(12:00 - 18:00)   354667 non-null  float32\n",
      " 54  month_day_time_7_Morning(6:00 - 12:00)      354667 non-null  float32\n",
      " 55  month_day_time_7_Night(18:00 - 24:00)       354667 non-null  float32\n",
      " 56  month_day_time_7_Wee hours(00:00 - 6:00)    354667 non-null  float32\n",
      " 57  month_day_time_8_Afternoon(12:00 - 18:00)   354667 non-null  float32\n",
      " 58  month_day_time_8_Morning(6:00 - 12:00)      354667 non-null  float32\n",
      " 59  month_day_time_8_Night(18:00 - 24:00)       354667 non-null  float32\n",
      " 60  month_day_time_8_Wee hours(00:00 - 6:00)    354667 non-null  float32\n",
      " 61  month_day_time_9_Afternoon(12:00 - 18:00)   354667 non-null  float32\n",
      " 62  month_day_time_9_Morning(6:00 - 12:00)      354667 non-null  float32\n",
      " 63  month_day_time_9_Night(18:00 - 24:00)       354667 non-null  float32\n",
      " 64  month_day_time_9_Wee hours(00:00 - 6:00)    354667 non-null  float32\n",
      " 65  day_time_hours_Afternoon(12:00 - 18:00)_12  354667 non-null  float32\n",
      " 66  day_time_hours_Afternoon(12:00 - 18:00)_13  354667 non-null  float32\n",
      " 67  day_time_hours_Afternoon(12:00 - 18:00)_14  354667 non-null  float32\n",
      " 68  day_time_hours_Afternoon(12:00 - 18:00)_15  354667 non-null  float32\n",
      " 69  day_time_hours_Afternoon(12:00 - 18:00)_16  354667 non-null  float32\n",
      " 70  day_time_hours_Afternoon(12:00 - 18:00)_17  354667 non-null  float32\n",
      " 71  day_time_hours_Morning(6:00 - 12:00)_10     354667 non-null  float32\n",
      " 72  day_time_hours_Morning(6:00 - 12:00)_11     354667 non-null  float32\n",
      " 73  day_time_hours_Morning(6:00 - 12:00)_6      354667 non-null  float32\n",
      " 74  day_time_hours_Morning(6:00 - 12:00)_7      354667 non-null  float32\n",
      " 75  day_time_hours_Morning(6:00 - 12:00)_8      354667 non-null  float32\n",
      " 76  day_time_hours_Morning(6:00 - 12:00)_9      354667 non-null  float32\n",
      " 77  day_time_hours_Night(18:00 - 24:00)_18      354667 non-null  float32\n",
      " 78  day_time_hours_Night(18:00 - 24:00)_19      354667 non-null  float32\n",
      " 79  day_time_hours_Night(18:00 - 24:00)_20      354667 non-null  float32\n",
      " 80  day_time_hours_Night(18:00 - 24:00)_21      354667 non-null  float32\n",
      " 81  day_time_hours_Night(18:00 - 24:00)_22      354667 non-null  float32\n",
      " 82  day_time_hours_Night(18:00 - 24:00)_23      354667 non-null  float32\n",
      " 83  day_time_hours_Wee hours(00:00 - 6:00)_0    354667 non-null  float32\n",
      " 84  day_time_hours_Wee hours(00:00 - 6:00)_1    354667 non-null  float32\n",
      " 85  day_time_hours_Wee hours(00:00 - 6:00)_2    354667 non-null  float32\n",
      " 86  day_time_hours_Wee hours(00:00 - 6:00)_3    354667 non-null  float32\n",
      " 87  day_time_hours_Wee hours(00:00 - 6:00)_4    354667 non-null  float32\n",
      " 88  day_time_hours_Wee hours(00:00 - 6:00)_5    354667 non-null  float32\n",
      "dtypes: float32(76), float64(2), int64(4), int8(1), object(6)\n",
      "memory usage: 135.6+ MB\n"
     ]
    }
   ],
   "source": [
    "# One-hot编码\n",
    "encode_columns = ['day_time', 'month_day_time', 'day_time_hours'] \n",
    "df = pd.get_dummies(df, columns=encode_columns, dtype='float32')\n",
    "df.info()"
   ]
  },
  {
   "cell_type": "code",
   "execution_count": 12,
   "id": "e57fc101",
   "metadata": {
    "ExecuteTime": {
     "end_time": "2024-04-15T12:43:29.090611Z",
     "start_time": "2024-04-15T12:43:28.882624Z"
    }
   },
   "outputs": [
    {
     "name": "stdout",
     "output_type": "stream",
     "text": [
      "<class 'pandas.core.frame.DataFrame'>\n",
      "RangeIndex: 354667 entries, 0 to 354666\n",
      "Data columns (total 88 columns):\n",
      " #   Column                                      Non-Null Count   Dtype  \n",
      "---  ------                                      --------------   -----  \n",
      " 0   score                                       354667 non-null  float64\n",
      " 1   hashtag                                     354667 non-null  object \n",
      " 2   lang                                        354667 non-null  object \n",
      " 3   tweet_lang                                  354667 non-null  object \n",
      " 4   time_zone                                   354667 non-null  object \n",
      " 5   season                                      354667 non-null  int64  \n",
      " 6   month                                       354667 non-null  int64  \n",
      " 7   hours                                       354667 non-null  int64  \n",
      " 8   track_id                                    354667 non-null  object \n",
      " 9   valence                                     354667 non-null  float64\n",
      " 10  labels                                      354667 non-null  int64  \n",
      " 11  mood_label                                  354667 non-null  int8   \n",
      " 12  day_time_Afternoon(12:00 - 18:00)           354667 non-null  float32\n",
      " 13  day_time_Morning(6:00 - 12:00)              354667 non-null  float32\n",
      " 14  day_time_Night(18:00 - 24:00)               354667 non-null  float32\n",
      " 15  day_time_Wee hours(00:00 - 6:00)            354667 non-null  float32\n",
      " 16  month_day_time_10_Afternoon(12:00 - 18:00)  354667 non-null  float32\n",
      " 17  month_day_time_10_Morning(6:00 - 12:00)     354667 non-null  float32\n",
      " 18  month_day_time_10_Night(18:00 - 24:00)      354667 non-null  float32\n",
      " 19  month_day_time_10_Wee hours(00:00 - 6:00)   354667 non-null  float32\n",
      " 20  month_day_time_11_Afternoon(12:00 - 18:00)  354667 non-null  float32\n",
      " 21  month_day_time_11_Morning(6:00 - 12:00)     354667 non-null  float32\n",
      " 22  month_day_time_11_Night(18:00 - 24:00)      354667 non-null  float32\n",
      " 23  month_day_time_11_Wee hours(00:00 - 6:00)   354667 non-null  float32\n",
      " 24  month_day_time_12_Afternoon(12:00 - 18:00)  354667 non-null  float32\n",
      " 25  month_day_time_12_Morning(6:00 - 12:00)     354667 non-null  float32\n",
      " 26  month_day_time_12_Night(18:00 - 24:00)      354667 non-null  float32\n",
      " 27  month_day_time_12_Wee hours(00:00 - 6:00)   354667 non-null  float32\n",
      " 28  month_day_time_1_Afternoon(12:00 - 18:00)   354667 non-null  float32\n",
      " 29  month_day_time_1_Morning(6:00 - 12:00)      354667 non-null  float32\n",
      " 30  month_day_time_1_Night(18:00 - 24:00)       354667 non-null  float32\n",
      " 31  month_day_time_1_Wee hours(00:00 - 6:00)    354667 non-null  float32\n",
      " 32  month_day_time_2_Afternoon(12:00 - 18:00)   354667 non-null  float32\n",
      " 33  month_day_time_2_Morning(6:00 - 12:00)      354667 non-null  float32\n",
      " 34  month_day_time_2_Night(18:00 - 24:00)       354667 non-null  float32\n",
      " 35  month_day_time_2_Wee hours(00:00 - 6:00)    354667 non-null  float32\n",
      " 36  month_day_time_3_Afternoon(12:00 - 18:00)   354667 non-null  float32\n",
      " 37  month_day_time_3_Morning(6:00 - 12:00)      354667 non-null  float32\n",
      " 38  month_day_time_3_Night(18:00 - 24:00)       354667 non-null  float32\n",
      " 39  month_day_time_3_Wee hours(00:00 - 6:00)    354667 non-null  float32\n",
      " 40  month_day_time_4_Afternoon(12:00 - 18:00)   354667 non-null  float32\n",
      " 41  month_day_time_4_Morning(6:00 - 12:00)      354667 non-null  float32\n",
      " 42  month_day_time_4_Night(18:00 - 24:00)       354667 non-null  float32\n",
      " 43  month_day_time_4_Wee hours(00:00 - 6:00)    354667 non-null  float32\n",
      " 44  month_day_time_5_Afternoon(12:00 - 18:00)   354667 non-null  float32\n",
      " 45  month_day_time_5_Morning(6:00 - 12:00)      354667 non-null  float32\n",
      " 46  month_day_time_5_Night(18:00 - 24:00)       354667 non-null  float32\n",
      " 47  month_day_time_5_Wee hours(00:00 - 6:00)    354667 non-null  float32\n",
      " 48  month_day_time_6_Afternoon(12:00 - 18:00)   354667 non-null  float32\n",
      " 49  month_day_time_6_Morning(6:00 - 12:00)      354667 non-null  float32\n",
      " 50  month_day_time_6_Night(18:00 - 24:00)       354667 non-null  float32\n",
      " 51  month_day_time_6_Wee hours(00:00 - 6:00)    354667 non-null  float32\n",
      " 52  month_day_time_7_Afternoon(12:00 - 18:00)   354667 non-null  float32\n",
      " 53  month_day_time_7_Morning(6:00 - 12:00)      354667 non-null  float32\n",
      " 54  month_day_time_7_Night(18:00 - 24:00)       354667 non-null  float32\n",
      " 55  month_day_time_7_Wee hours(00:00 - 6:00)    354667 non-null  float32\n",
      " 56  month_day_time_8_Afternoon(12:00 - 18:00)   354667 non-null  float32\n",
      " 57  month_day_time_8_Morning(6:00 - 12:00)      354667 non-null  float32\n",
      " 58  month_day_time_8_Night(18:00 - 24:00)       354667 non-null  float32\n",
      " 59  month_day_time_8_Wee hours(00:00 - 6:00)    354667 non-null  float32\n",
      " 60  month_day_time_9_Afternoon(12:00 - 18:00)   354667 non-null  float32\n",
      " 61  month_day_time_9_Morning(6:00 - 12:00)      354667 non-null  float32\n",
      " 62  month_day_time_9_Night(18:00 - 24:00)       354667 non-null  float32\n",
      " 63  month_day_time_9_Wee hours(00:00 - 6:00)    354667 non-null  float32\n",
      " 64  day_time_hours_Afternoon(12:00 - 18:00)_12  354667 non-null  float32\n",
      " 65  day_time_hours_Afternoon(12:00 - 18:00)_13  354667 non-null  float32\n",
      " 66  day_time_hours_Afternoon(12:00 - 18:00)_14  354667 non-null  float32\n",
      " 67  day_time_hours_Afternoon(12:00 - 18:00)_15  354667 non-null  float32\n",
      " 68  day_time_hours_Afternoon(12:00 - 18:00)_16  354667 non-null  float32\n",
      " 69  day_time_hours_Afternoon(12:00 - 18:00)_17  354667 non-null  float32\n",
      " 70  day_time_hours_Morning(6:00 - 12:00)_10     354667 non-null  float32\n",
      " 71  day_time_hours_Morning(6:00 - 12:00)_11     354667 non-null  float32\n",
      " 72  day_time_hours_Morning(6:00 - 12:00)_6      354667 non-null  float32\n",
      " 73  day_time_hours_Morning(6:00 - 12:00)_7      354667 non-null  float32\n",
      " 74  day_time_hours_Morning(6:00 - 12:00)_8      354667 non-null  float32\n",
      " 75  day_time_hours_Morning(6:00 - 12:00)_9      354667 non-null  float32\n",
      " 76  day_time_hours_Night(18:00 - 24:00)_18      354667 non-null  float32\n",
      " 77  day_time_hours_Night(18:00 - 24:00)_19      354667 non-null  float32\n",
      " 78  day_time_hours_Night(18:00 - 24:00)_20      354667 non-null  float32\n",
      " 79  day_time_hours_Night(18:00 - 24:00)_21      354667 non-null  float32\n",
      " 80  day_time_hours_Night(18:00 - 24:00)_22      354667 non-null  float32\n",
      " 81  day_time_hours_Night(18:00 - 24:00)_23      354667 non-null  float32\n",
      " 82  day_time_hours_Wee hours(00:00 - 6:00)_0    354667 non-null  float32\n",
      " 83  day_time_hours_Wee hours(00:00 - 6:00)_1    354667 non-null  float32\n",
      " 84  day_time_hours_Wee hours(00:00 - 6:00)_2    354667 non-null  float32\n",
      " 85  day_time_hours_Wee hours(00:00 - 6:00)_3    354667 non-null  float32\n",
      " 86  day_time_hours_Wee hours(00:00 - 6:00)_4    354667 non-null  float32\n",
      " 87  day_time_hours_Wee hours(00:00 - 6:00)_5    354667 non-null  float32\n",
      "dtypes: float32(76), float64(2), int64(4), int8(1), object(5)\n",
      "memory usage: 132.9+ MB\n"
     ]
    }
   ],
   "source": [
    "df.drop(['created_at'], axis = 1, inplace = True)\n",
    "df.info()"
   ]
  },
  {
   "cell_type": "code",
   "execution_count": 13,
   "id": "b2093191",
   "metadata": {
    "ExecuteTime": {
     "end_time": "2024-04-15T12:43:36.831296Z",
     "start_time": "2024-04-15T12:43:29.092971Z"
    }
   },
   "outputs": [
    {
     "name": "stdout",
     "output_type": "stream",
     "text": [
      "<class 'pandas.core.frame.DataFrame'>\n",
      "RangeIndex: 354667 entries, 0 to 354666\n",
      "Columns: 114 entries, score to day_time_hours_Wee hours(00:00 - 6:00)_5\n",
      "dtypes: float32(76), float64(2), int64(34), int8(1), object(1)\n",
      "memory usage: 203.3+ MB\n",
      "None\n"
     ]
    }
   ],
   "source": [
    "# 对几个类别特别多的列采用二进制编码\n",
    "from category_encoders import BinaryEncoder\n",
    "# 二进制编码\n",
    "columns = ['hashtag', 'tweet_lang', 'time_zone', 'lang']\n",
    "for column in columns:\n",
    "    encoder = BinaryEncoder(cols=[column])\n",
    "    df = encoder.fit_transform(df)\n",
    "\n",
    "print(df.info())\n",
    "# 查看结果"
   ]
  },
  {
   "cell_type": "code",
   "execution_count": 14,
   "id": "5d95466a",
   "metadata": {
    "ExecuteTime": {
     "end_time": "2024-04-15T12:43:36.841862Z",
     "start_time": "2024-04-15T12:43:36.836148Z"
    }
   },
   "outputs": [
    {
     "data": {
      "text/plain": [
       "Index(['score', 'hashtag_0', 'hashtag_1', 'hashtag_2', 'hashtag_3',\n",
       "       'hashtag_4', 'hashtag_5', 'hashtag_6', 'hashtag_7', 'hashtag_8',\n",
       "       ...\n",
       "       'day_time_hours_Night_20', 'day_time_hours_Night_21',\n",
       "       'day_time_hours_Night_22', 'day_time_hours_Night_23',\n",
       "       'day_time_hours_Wee hours_0', 'day_time_hours_Wee hours_1',\n",
       "       'day_time_hours_Wee hours_2', 'day_time_hours_Wee hours_3',\n",
       "       'day_time_hours_Wee hours_4', 'day_time_hours_Wee hours_5'],\n",
       "      dtype='object', length=114)"
      ]
     },
     "execution_count": 14,
     "metadata": {},
     "output_type": "execute_result"
    }
   ],
   "source": [
    "# 清理列名，删除或替换特殊字符\n",
    "import re\n",
    "df.columns = [re.sub(r'\\([^)]*\\)', '', col) for col in df.columns]\n",
    "df.columns"
   ]
  },
  {
   "cell_type": "markdown",
   "id": "9e52b370",
   "metadata": {},
   "source": [
    "### 分类"
   ]
  },
  {
   "cell_type": "code",
   "execution_count": 15,
   "id": "3c9db673",
   "metadata": {
    "ExecuteTime": {
     "end_time": "2024-04-15T12:43:37.927502Z",
     "start_time": "2024-04-15T12:43:36.843840Z"
    }
   },
   "outputs": [
    {
     "name": "stdout",
     "output_type": "stream",
     "text": [
      "<class 'pandas.core.frame.DataFrame'>\n",
      "Index: 283733 entries, 271215 to 121958\n",
      "Columns: 110 entries, score to day_time_hours_Wee hours_5\n",
      "dtypes: float32(110)\n",
      "memory usage: 121.2 MB\n",
      "None\n"
     ]
    }
   ],
   "source": [
    "from sklearn.model_selection import train_test_split\n",
    "from sklearn.ensemble import RandomForestClassifier\n",
    "from sklearn.tree import DecisionTreeClassifier\n",
    "from lightgbm import LGBMClassifier\n",
    "from sklearn.metrics import accuracy_score\n",
    "from sklearn.svm import LinearSVC\n",
    "from sklearn.neighbors import KNeighborsClassifier\n",
    "from sklearn.linear_model import LogisticRegression\n",
    "import numpy as np\n",
    "\n",
    "    \n",
    "X = df.drop(['track_id','labels', 'valence', 'month'], axis = 1)\n",
    "y = df['labels']\n",
    "\n",
    "for column in X.columns:\n",
    "    X[column] = X[column].astype(np.float32)\n",
    "    \n",
    "X_train, X_test, y_train, y_test = train_test_split(X, y, test_size=.2, random_state=42, shuffle=True)\n",
    "\n",
    "\n",
    "print(X_train.info())"
   ]
  },
  {
   "cell_type": "code",
   "execution_count": 16,
   "id": "643112fd",
   "metadata": {
    "ExecuteTime": {
     "end_time": "2024-04-15T12:43:38.071925Z",
     "start_time": "2024-04-15T12:43:37.929896Z"
    }
   },
   "outputs": [
    {
     "name": "stdout",
     "output_type": "stream",
     "text": [
      "[[0.76666665 0.         0.         ... 0.         0.         0.        ]\n",
      " [0.8        0.         0.         ... 0.         1.         0.        ]\n",
      " [0.675      0.         0.         ... 0.         0.         0.        ]\n",
      " ...\n",
      " [0.76666665 0.         0.         ... 0.         0.         0.        ]\n",
      " [0.         0.         0.         ... 0.         0.         0.        ]\n",
      " [0.675      0.         0.         ... 0.         0.         0.        ]]\n",
      "(283733, 110)\n"
     ]
    }
   ],
   "source": [
    "X_train = np.array(X_train)\n",
    "X_test = np.array(X_test)\n",
    "y_train = np.array(y_train)\n",
    "y_test = np.array(y_test)\n",
    "print(X_train)\n",
    "print(X_train.shape)"
   ]
  },
  {
   "cell_type": "code",
   "execution_count": 17,
   "id": "e386472a",
   "metadata": {
    "ExecuteTime": {
     "end_time": "2024-04-15T12:43:39.521204Z",
     "start_time": "2024-04-15T12:43:38.074322Z"
    }
   },
   "outputs": [],
   "source": [
    "import torch\n",
    "import torch.nn as nn\n",
    "import torch.optim as optim\n",
    "from torch.utils.data import Dataset, DataLoader\n",
    "from sklearn.model_selection import train_test_split\n",
    "import numpy as np\n",
    "\n",
    "device = torch.device(\"cuda\" if torch.cuda.is_available() else \"cpu\")\n",
    "\n",
    "class CustomDataset(Dataset):\n",
    "    def __init__(self, features, labels):\n",
    "        self.features = features\n",
    "        self.labels = labels\n",
    "\n",
    "    def __len__(self):\n",
    "        return len(self.labels)\n",
    "\n",
    "    def __getitem__(self, idx):\n",
    "        # 每个样本是一个序列，我们可以考虑每个样本的特征为序列中的单个步骤\n",
    "        return self.features[idx].unsqueeze(0), self.labels[idx]  # 添加序列维度\n",
    "\n",
    "class TransformerModel(nn.Module):\n",
    "    def __init__(self, feature_size, num_classes=5, num_heads=2, num_layers=2, dropout=0.1):\n",
    "        super(TransformerModel, self).__init__()\n",
    "        self.embed = nn.Linear(feature_size, feature_size)\n",
    "        encoder_layer = nn.TransformerEncoderLayer(d_model=feature_size, nhead=num_heads, dropout=dropout)\n",
    "        self.transformer_encoder = nn.TransformerEncoder(encoder_layer, num_layers=num_layers)\n",
    "        self.output = nn.Linear(feature_size, num_classes)\n",
    "\n",
    "    def forward(self, src):\n",
    "        src = self.embed(src)  # 嵌入层调整特征大小\n",
    "        src = src.permute(1, 0, 2)  # 调整维度以符合 Transformer 输入要求：(seq_len, batch, feature)\n",
    "        output = self.transformer_encoder(src)\n",
    "        output = output.mean(dim=0)  # 在序列长度上进行平均\n",
    "        output = self.output(output)\n",
    "        return output\n"
   ]
  },
  {
   "cell_type": "code",
   "execution_count": 21,
   "id": "54a3c8d4",
   "metadata": {
    "ExecuteTime": {
     "end_time": "2024-04-15T13:44:19.890649Z",
     "start_time": "2024-04-15T12:48:11.061860Z"
    }
   },
   "outputs": [
    {
     "name": "stdout",
     "output_type": "stream",
     "text": [
      "---------------------------第1轮训练开始---------------------------\n",
      "Train_set Loss: 1.5190148801939105 Train_set Accuracy:35.19928947284947\n",
      "Test Accuracy: 0.27140721678733826\n",
      "---------------------------第2轮训练开始---------------------------\n",
      "Train_set Loss: 1.4918683039721257 Train_set Accuracy:37.15887824116335\n",
      "Test Accuracy: 0.27140721678733826\n",
      "---------------------------第3轮训练开始---------------------------\n",
      "Train_set Loss: 1.4938724553207272 Train_set Accuracy:36.79973778164683\n",
      "Test Accuracy: 0.27140721678733826\n",
      "---------------------------第4轮训练开始---------------------------\n",
      "Train_set Loss: 1.4747213152923833 Train_set Accuracy:37.17967243852495\n",
      "Test Accuracy: 0.24388867616653442\n",
      "---------------------------第5轮训练开始---------------------------\n",
      "Train_set Loss: 1.4602482626211473 Train_set Accuracy:37.45845566077968\n",
      "Test Accuracy: 0.27140721678733826\n",
      "---------------------------第6轮训练开始---------------------------\n",
      "Train_set Loss: 1.4533541225534665 Train_set Accuracy:37.80702279960385\n",
      "Test Accuracy: 0.27140721678733826\n",
      "---------------------------第7轮训练开始---------------------------\n",
      "Train_set Loss: 1.4477965714658034 Train_set Accuracy:38.136557961181815\n",
      "Test Accuracy: 0.27140721678733826\n",
      "---------------------------第8轮训练开始---------------------------\n",
      "Train_set Loss: 1.4431632036311497 Train_set Accuracy:38.32159107329778\n",
      "Test Accuracy: 0.27140721678733826\n",
      "---------------------------第9轮训练开始---------------------------\n",
      "Train_set Loss: 1.440478432443347 Train_set Accuracy:38.509091293575295\n",
      "Test Accuracy: 0.27140721678733826\n",
      "---------------------------第10轮训练开始---------------------------\n",
      "Train_set Loss: 1.4378336860131449 Train_set Accuracy:38.62328315705258\n",
      "Test Accuracy: 0.27140721678733826\n",
      "---------------------------第11轮训练开始---------------------------\n",
      "Train_set Loss: 1.4356756624407008 Train_set Accuracy:38.628217373375676\n",
      "Test Accuracy: 0.27140721678733826\n",
      "---------------------------第12轮训练开始---------------------------\n",
      "Train_set Loss: 1.4340603329141286 Train_set Accuracy:38.782235411460775\n",
      "Test Accuracy: 0.24388867616653442\n",
      "---------------------------第13轮训练开始---------------------------\n",
      "Train_set Loss: 1.4319125499937222 Train_set Accuracy:38.92109835655352\n",
      "Test Accuracy: 0.1856655478477478\n",
      "---------------------------第14轮训练开始---------------------------\n",
      "Train_set Loss: 1.4295312945436998 Train_set Accuracy:39.05361730923086\n",
      "Test Accuracy: 0.24388867616653442\n",
      "---------------------------第15轮训练开始---------------------------\n",
      "Train_set Loss: 1.4282495382876195 Train_set Accuracy:39.09943503223101\n",
      "Test Accuracy: 0.24388867616653442\n",
      "---------------------------第16轮训练开始---------------------------\n",
      "Train_set Loss: 1.4268577397037712 Train_set Accuracy:39.133269658446494\n",
      "Test Accuracy: 0.24388867616653442\n",
      "---------------------------第17轮训练开始---------------------------\n",
      "Train_set Loss: 1.4262435219260177 Train_set Accuracy:39.15159674764656\n",
      "Test Accuracy: 0.24388867616653442\n",
      "---------------------------第18轮训练开始---------------------------\n",
      "Train_set Loss: 1.4256443627942466 Train_set Accuracy:39.13503187856189\n",
      "Test Accuracy: 0.24388867616653442\n",
      "---------------------------第19轮训练开始---------------------------\n",
      "Train_set Loss: 1.4246289887099708 Train_set Accuracy:39.19001314616206\n",
      "Test Accuracy: 0.24388867616653442\n",
      "---------------------------第20轮训练开始---------------------------\n",
      "Train_set Loss: 1.4235677344696598 Train_set Accuracy:39.261206838823824\n",
      "Test Accuracy: 0.24388867616653442\n",
      "---------------------------第21轮训练开始---------------------------\n",
      "Train_set Loss: 1.4231172114412372 Train_set Accuracy:39.29750857320086\n",
      "Test Accuracy: 0.24388867616653442\n",
      "---------------------------第22轮训练开始---------------------------\n",
      "Train_set Loss: 1.4227660553584685 Train_set Accuracy:39.29962323733933\n",
      "Test Accuracy: 0.24388867616653442\n",
      "---------------------------第23轮训练开始---------------------------\n",
      "Train_set Loss: 1.4221153948155656 Train_set Accuracy:39.40359422414735\n",
      "Test Accuracy: 0.24388867616653442\n",
      "---------------------------第24轮训练开始---------------------------\n",
      "Train_set Loss: 1.421341847550631 Train_set Accuracy:39.328876091254806\n",
      "Test Accuracy: 0.24388867616653442\n",
      "---------------------------第25轮训练开始---------------------------\n",
      "Train_set Loss: 1.421039751353898 Train_set Accuracy:39.35601428103182\n",
      "Test Accuracy: 0.24388867616653442\n",
      "---------------------------第26轮训练开始---------------------------\n",
      "Train_set Loss: 1.4206378627847869 Train_set Accuracy:39.36764493379339\n",
      "Test Accuracy: 0.24388867616653442\n",
      "---------------------------第27轮训练开始---------------------------\n",
      "Train_set Loss: 1.4198057955492036 Train_set Accuracy:39.41804442909355\n",
      "Test Accuracy: 0.24388867616653442\n",
      "---------------------------第28轮训练开始---------------------------\n",
      "Train_set Loss: 1.419747766088415 Train_set Accuracy:39.450469279216726\n",
      "Test Accuracy: 0.24388867616653442\n",
      "---------------------------第29轮训练开始---------------------------\n",
      "Train_set Loss: 1.4192891623184136 Train_set Accuracy:39.41628220897816\n",
      "Test Accuracy: 0.24388867616653442\n",
      "---------------------------第30轮训练开始---------------------------\n",
      "Train_set Loss: 1.4188583012402656 Train_set Accuracy:39.51813853164771\n",
      "Test Accuracy: 0.24388867616653442\n",
      "---------------------------第31轮训练开始---------------------------\n",
      "Train_set Loss: 1.4183572722325617 Train_set Accuracy:39.46914881243986\n",
      "Test Accuracy: 0.24388867616653442\n",
      "---------------------------第32轮训练开始---------------------------\n",
      "Train_set Loss: 1.417974987225776 Train_set Accuracy:39.51320431532462\n",
      "Test Accuracy: 0.27140721678733826\n",
      "---------------------------第33轮训练开始---------------------------\n",
      "Train_set Loss: 1.4177820550907394 Train_set Accuracy:39.564661142694014\n",
      "Test Accuracy: 0.27140721678733826\n",
      "---------------------------第34轮训练开始---------------------------\n",
      "Train_set Loss: 1.417487948659013 Train_set Accuracy:39.519548307740024\n",
      "Test Accuracy: 0.1323060840368271\n",
      "---------------------------第35轮训练开始---------------------------\n",
      "Train_set Loss: 1.4171821855700135 Train_set Accuracy:39.50122121853997\n",
      "Test Accuracy: 0.16673246026039124\n",
      "---------------------------第36轮训练开始---------------------------\n",
      "Train_set Loss: 1.4172153478009168 Train_set Accuracy:39.49241011796301\n",
      "Test Accuracy: 0.1323060840368271\n",
      "---------------------------第37轮训练开始---------------------------\n",
      "Train_set Loss: 1.4163036796949058 Train_set Accuracy:39.56853802694787\n",
      "Test Accuracy: 0.27140721678733826\n",
      "---------------------------第38轮训练开始---------------------------\n",
      "Train_set Loss: 1.415568459917247 Train_set Accuracy:39.61858507822495\n",
      "Test Accuracy: 0.27140721678733826\n",
      "---------------------------第39轮训练开始---------------------------\n",
      "Train_set Loss: 1.4156640376288578 Train_set Accuracy:39.62387173857112\n",
      "Test Accuracy: 0.27140721678733826\n",
      "---------------------------第40轮训练开始---------------------------\n",
      "Train_set Loss: 1.4150604761963002 Train_set Accuracy:39.62069974236342\n",
      "Test Accuracy: 0.1323060840368271\n",
      "---------------------------第41轮训练开始---------------------------\n",
      "Train_set Loss: 1.4149771032331222 Train_set Accuracy:39.61188864178647\n",
      "Test Accuracy: 0.1323060840368271\n",
      "---------------------------第42轮训练开始---------------------------\n",
      "Train_set Loss: 1.414416949241073 Train_set Accuracy:39.723965841125285\n",
      "Test Accuracy: 0.1323060840368271\n",
      "---------------------------第43轮训练开始---------------------------\n",
      "Train_set Loss: 1.4136519723805954 Train_set Accuracy:39.68272989042515\n",
      "Test Accuracy: 0.27140721678733826\n",
      "---------------------------第44轮训练开始---------------------------\n",
      "Train_set Loss: 1.4132766512559638 Train_set Accuracy:39.741235598256104\n",
      "Test Accuracy: 0.27140721678733826\n",
      "---------------------------第45轮训练开始---------------------------\n",
      "Train_set Loss: 1.4132766571310578 Train_set Accuracy:39.717621848709875\n",
      "Test Accuracy: 0.27140721678733826\n",
      "---------------------------第46轮训练开始---------------------------\n",
      "Train_set Loss: 1.4126776468529298 Train_set Accuracy:39.73876849009456\n",
      "Test Accuracy: 0.27140721678733826\n",
      "---------------------------第47轮训练开始---------------------------\n",
      "Train_set Loss: 1.4124239017531315 Train_set Accuracy:39.717621848709875\n",
      "Test Accuracy: 0.27140721678733826\n",
      "---------------------------第48轮训练开始---------------------------\n",
      "Train_set Loss: 1.4122249749113638 Train_set Accuracy:39.80361819034092\n",
      "Test Accuracy: 0.27140721678733826\n",
      "---------------------------第49轮训练开始---------------------------\n"
     ]
    },
    {
     "name": "stdout",
     "output_type": "stream",
     "text": [
      "Train_set Loss: 1.4121092481409883 Train_set Accuracy:39.709163192156005\n",
      "Test Accuracy: 0.1856655478477478\n",
      "---------------------------第50轮训练开始---------------------------\n",
      "Train_set Loss: 1.4115693970760148 Train_set Accuracy:39.746874702625355\n",
      "Test Accuracy: 0.27140721678733826\n",
      "---------------------------第51轮训练开始---------------------------\n"
     ]
    },
    {
     "ename": "KeyboardInterrupt",
     "evalue": "",
     "output_type": "error",
     "traceback": [
      "\u001b[0;31m---------------------------------------------------------------------------\u001b[0m",
      "\u001b[0;31mKeyboardInterrupt\u001b[0m                         Traceback (most recent call last)",
      "\u001b[0;32m/tmp/ipykernel_3970572/2702240209.py\u001b[0m in \u001b[0;36m<module>\u001b[0;34m\u001b[0m\n\u001b[1;32m     26\u001b[0m         \u001b[0moptimizer\u001b[0m\u001b[0;34m.\u001b[0m\u001b[0mzero_grad\u001b[0m\u001b[0;34m(\u001b[0m\u001b[0;34m)\u001b[0m\u001b[0;34m\u001b[0m\u001b[0;34m\u001b[0m\u001b[0m\n\u001b[1;32m     27\u001b[0m         \u001b[0mdata\u001b[0m\u001b[0;34m,\u001b[0m \u001b[0mtarget\u001b[0m \u001b[0;34m=\u001b[0m \u001b[0mdata\u001b[0m\u001b[0;34m.\u001b[0m\u001b[0mto\u001b[0m\u001b[0;34m(\u001b[0m\u001b[0mdevice\u001b[0m\u001b[0;34m)\u001b[0m\u001b[0;34m,\u001b[0m \u001b[0mtarget\u001b[0m\u001b[0;34m.\u001b[0m\u001b[0mto\u001b[0m\u001b[0;34m(\u001b[0m\u001b[0mdevice\u001b[0m\u001b[0;34m)\u001b[0m\u001b[0;34m\u001b[0m\u001b[0;34m\u001b[0m\u001b[0m\n\u001b[0;32m---> 28\u001b[0;31m         \u001b[0moutput\u001b[0m \u001b[0;34m=\u001b[0m \u001b[0mmodel\u001b[0m\u001b[0;34m(\u001b[0m\u001b[0mdata\u001b[0m\u001b[0;34m)\u001b[0m\u001b[0;34m\u001b[0m\u001b[0;34m\u001b[0m\u001b[0m\n\u001b[0m\u001b[1;32m     29\u001b[0m \u001b[0;34m\u001b[0m\u001b[0m\n\u001b[1;32m     30\u001b[0m         \u001b[0;31m# 计算准确率\u001b[0m\u001b[0;34m\u001b[0m\u001b[0;34m\u001b[0m\u001b[0m\n",
      "\u001b[0;32m~/.local/lib/python3.10/site-packages/torch/nn/modules/module.py\u001b[0m in \u001b[0;36m_wrapped_call_impl\u001b[0;34m(self, *args, **kwargs)\u001b[0m\n\u001b[1;32m   1509\u001b[0m             \u001b[0;32mreturn\u001b[0m \u001b[0mself\u001b[0m\u001b[0;34m.\u001b[0m\u001b[0m_compiled_call_impl\u001b[0m\u001b[0;34m(\u001b[0m\u001b[0;34m*\u001b[0m\u001b[0margs\u001b[0m\u001b[0;34m,\u001b[0m \u001b[0;34m**\u001b[0m\u001b[0mkwargs\u001b[0m\u001b[0;34m)\u001b[0m  \u001b[0;31m# type: ignore[misc]\u001b[0m\u001b[0;34m\u001b[0m\u001b[0;34m\u001b[0m\u001b[0m\n\u001b[1;32m   1510\u001b[0m         \u001b[0;32melse\u001b[0m\u001b[0;34m:\u001b[0m\u001b[0;34m\u001b[0m\u001b[0;34m\u001b[0m\u001b[0m\n\u001b[0;32m-> 1511\u001b[0;31m             \u001b[0;32mreturn\u001b[0m \u001b[0mself\u001b[0m\u001b[0;34m.\u001b[0m\u001b[0m_call_impl\u001b[0m\u001b[0;34m(\u001b[0m\u001b[0;34m*\u001b[0m\u001b[0margs\u001b[0m\u001b[0;34m,\u001b[0m \u001b[0;34m**\u001b[0m\u001b[0mkwargs\u001b[0m\u001b[0;34m)\u001b[0m\u001b[0;34m\u001b[0m\u001b[0;34m\u001b[0m\u001b[0m\n\u001b[0m\u001b[1;32m   1512\u001b[0m \u001b[0;34m\u001b[0m\u001b[0m\n\u001b[1;32m   1513\u001b[0m     \u001b[0;32mdef\u001b[0m \u001b[0m_call_impl\u001b[0m\u001b[0;34m(\u001b[0m\u001b[0mself\u001b[0m\u001b[0;34m,\u001b[0m \u001b[0;34m*\u001b[0m\u001b[0margs\u001b[0m\u001b[0;34m,\u001b[0m \u001b[0;34m**\u001b[0m\u001b[0mkwargs\u001b[0m\u001b[0;34m)\u001b[0m\u001b[0;34m:\u001b[0m\u001b[0;34m\u001b[0m\u001b[0;34m\u001b[0m\u001b[0m\n",
      "\u001b[0;32m~/.local/lib/python3.10/site-packages/torch/nn/modules/module.py\u001b[0m in \u001b[0;36m_call_impl\u001b[0;34m(self, *args, **kwargs)\u001b[0m\n\u001b[1;32m   1518\u001b[0m                 \u001b[0;32mor\u001b[0m \u001b[0m_global_backward_pre_hooks\u001b[0m \u001b[0;32mor\u001b[0m \u001b[0m_global_backward_hooks\u001b[0m\u001b[0;34m\u001b[0m\u001b[0;34m\u001b[0m\u001b[0m\n\u001b[1;32m   1519\u001b[0m                 or _global_forward_hooks or _global_forward_pre_hooks):\n\u001b[0;32m-> 1520\u001b[0;31m             \u001b[0;32mreturn\u001b[0m \u001b[0mforward_call\u001b[0m\u001b[0;34m(\u001b[0m\u001b[0;34m*\u001b[0m\u001b[0margs\u001b[0m\u001b[0;34m,\u001b[0m \u001b[0;34m**\u001b[0m\u001b[0mkwargs\u001b[0m\u001b[0;34m)\u001b[0m\u001b[0;34m\u001b[0m\u001b[0;34m\u001b[0m\u001b[0m\n\u001b[0m\u001b[1;32m   1521\u001b[0m \u001b[0;34m\u001b[0m\u001b[0m\n\u001b[1;32m   1522\u001b[0m         \u001b[0;32mtry\u001b[0m\u001b[0;34m:\u001b[0m\u001b[0;34m\u001b[0m\u001b[0;34m\u001b[0m\u001b[0m\n",
      "\u001b[0;32m/tmp/ipykernel_3970572/3711164938.py\u001b[0m in \u001b[0;36mforward\u001b[0;34m(self, src)\u001b[0m\n\u001b[1;32m     31\u001b[0m         \u001b[0msrc\u001b[0m \u001b[0;34m=\u001b[0m \u001b[0mself\u001b[0m\u001b[0;34m.\u001b[0m\u001b[0membed\u001b[0m\u001b[0;34m(\u001b[0m\u001b[0msrc\u001b[0m\u001b[0;34m)\u001b[0m  \u001b[0;31m# 嵌入层调整特征大小\u001b[0m\u001b[0;34m\u001b[0m\u001b[0;34m\u001b[0m\u001b[0m\n\u001b[1;32m     32\u001b[0m         \u001b[0msrc\u001b[0m \u001b[0;34m=\u001b[0m \u001b[0msrc\u001b[0m\u001b[0;34m.\u001b[0m\u001b[0mpermute\u001b[0m\u001b[0;34m(\u001b[0m\u001b[0;36m1\u001b[0m\u001b[0;34m,\u001b[0m \u001b[0;36m0\u001b[0m\u001b[0;34m,\u001b[0m \u001b[0;36m2\u001b[0m\u001b[0;34m)\u001b[0m  \u001b[0;31m# 调整维度以符合 Transformer 输入要求：(seq_len, batch, feature)\u001b[0m\u001b[0;34m\u001b[0m\u001b[0;34m\u001b[0m\u001b[0m\n\u001b[0;32m---> 33\u001b[0;31m         \u001b[0moutput\u001b[0m \u001b[0;34m=\u001b[0m \u001b[0mself\u001b[0m\u001b[0;34m.\u001b[0m\u001b[0mtransformer_encoder\u001b[0m\u001b[0;34m(\u001b[0m\u001b[0msrc\u001b[0m\u001b[0;34m)\u001b[0m\u001b[0;34m\u001b[0m\u001b[0;34m\u001b[0m\u001b[0m\n\u001b[0m\u001b[1;32m     34\u001b[0m         \u001b[0moutput\u001b[0m \u001b[0;34m=\u001b[0m \u001b[0moutput\u001b[0m\u001b[0;34m.\u001b[0m\u001b[0mmean\u001b[0m\u001b[0;34m(\u001b[0m\u001b[0mdim\u001b[0m\u001b[0;34m=\u001b[0m\u001b[0;36m0\u001b[0m\u001b[0;34m)\u001b[0m  \u001b[0;31m# 在序列长度上进行平均\u001b[0m\u001b[0;34m\u001b[0m\u001b[0;34m\u001b[0m\u001b[0m\n\u001b[1;32m     35\u001b[0m         \u001b[0moutput\u001b[0m \u001b[0;34m=\u001b[0m \u001b[0mself\u001b[0m\u001b[0;34m.\u001b[0m\u001b[0moutput\u001b[0m\u001b[0;34m(\u001b[0m\u001b[0moutput\u001b[0m\u001b[0;34m)\u001b[0m\u001b[0;34m\u001b[0m\u001b[0;34m\u001b[0m\u001b[0m\n",
      "\u001b[0;32m~/.local/lib/python3.10/site-packages/torch/nn/modules/module.py\u001b[0m in \u001b[0;36m_wrapped_call_impl\u001b[0;34m(self, *args, **kwargs)\u001b[0m\n\u001b[1;32m   1509\u001b[0m             \u001b[0;32mreturn\u001b[0m \u001b[0mself\u001b[0m\u001b[0;34m.\u001b[0m\u001b[0m_compiled_call_impl\u001b[0m\u001b[0;34m(\u001b[0m\u001b[0;34m*\u001b[0m\u001b[0margs\u001b[0m\u001b[0;34m,\u001b[0m \u001b[0;34m**\u001b[0m\u001b[0mkwargs\u001b[0m\u001b[0;34m)\u001b[0m  \u001b[0;31m# type: ignore[misc]\u001b[0m\u001b[0;34m\u001b[0m\u001b[0;34m\u001b[0m\u001b[0m\n\u001b[1;32m   1510\u001b[0m         \u001b[0;32melse\u001b[0m\u001b[0;34m:\u001b[0m\u001b[0;34m\u001b[0m\u001b[0;34m\u001b[0m\u001b[0m\n\u001b[0;32m-> 1511\u001b[0;31m             \u001b[0;32mreturn\u001b[0m \u001b[0mself\u001b[0m\u001b[0;34m.\u001b[0m\u001b[0m_call_impl\u001b[0m\u001b[0;34m(\u001b[0m\u001b[0;34m*\u001b[0m\u001b[0margs\u001b[0m\u001b[0;34m,\u001b[0m \u001b[0;34m**\u001b[0m\u001b[0mkwargs\u001b[0m\u001b[0;34m)\u001b[0m\u001b[0;34m\u001b[0m\u001b[0;34m\u001b[0m\u001b[0m\n\u001b[0m\u001b[1;32m   1512\u001b[0m \u001b[0;34m\u001b[0m\u001b[0m\n\u001b[1;32m   1513\u001b[0m     \u001b[0;32mdef\u001b[0m \u001b[0m_call_impl\u001b[0m\u001b[0;34m(\u001b[0m\u001b[0mself\u001b[0m\u001b[0;34m,\u001b[0m \u001b[0;34m*\u001b[0m\u001b[0margs\u001b[0m\u001b[0;34m,\u001b[0m \u001b[0;34m**\u001b[0m\u001b[0mkwargs\u001b[0m\u001b[0;34m)\u001b[0m\u001b[0;34m:\u001b[0m\u001b[0;34m\u001b[0m\u001b[0;34m\u001b[0m\u001b[0m\n",
      "\u001b[0;32m~/.local/lib/python3.10/site-packages/torch/nn/modules/module.py\u001b[0m in \u001b[0;36m_call_impl\u001b[0;34m(self, *args, **kwargs)\u001b[0m\n\u001b[1;32m   1518\u001b[0m                 \u001b[0;32mor\u001b[0m \u001b[0m_global_backward_pre_hooks\u001b[0m \u001b[0;32mor\u001b[0m \u001b[0m_global_backward_hooks\u001b[0m\u001b[0;34m\u001b[0m\u001b[0;34m\u001b[0m\u001b[0m\n\u001b[1;32m   1519\u001b[0m                 or _global_forward_hooks or _global_forward_pre_hooks):\n\u001b[0;32m-> 1520\u001b[0;31m             \u001b[0;32mreturn\u001b[0m \u001b[0mforward_call\u001b[0m\u001b[0;34m(\u001b[0m\u001b[0;34m*\u001b[0m\u001b[0margs\u001b[0m\u001b[0;34m,\u001b[0m \u001b[0;34m**\u001b[0m\u001b[0mkwargs\u001b[0m\u001b[0;34m)\u001b[0m\u001b[0;34m\u001b[0m\u001b[0;34m\u001b[0m\u001b[0m\n\u001b[0m\u001b[1;32m   1521\u001b[0m \u001b[0;34m\u001b[0m\u001b[0m\n\u001b[1;32m   1522\u001b[0m         \u001b[0;32mtry\u001b[0m\u001b[0;34m:\u001b[0m\u001b[0;34m\u001b[0m\u001b[0;34m\u001b[0m\u001b[0m\n",
      "\u001b[0;32m~/.local/lib/python3.10/site-packages/torch/nn/modules/transformer.py\u001b[0m in \u001b[0;36mforward\u001b[0;34m(self, src, mask, src_key_padding_mask, is_causal)\u001b[0m\n\u001b[1;32m    389\u001b[0m \u001b[0;34m\u001b[0m\u001b[0m\n\u001b[1;32m    390\u001b[0m         \u001b[0;32mfor\u001b[0m \u001b[0mmod\u001b[0m \u001b[0;32min\u001b[0m \u001b[0mself\u001b[0m\u001b[0;34m.\u001b[0m\u001b[0mlayers\u001b[0m\u001b[0;34m:\u001b[0m\u001b[0;34m\u001b[0m\u001b[0;34m\u001b[0m\u001b[0m\n\u001b[0;32m--> 391\u001b[0;31m             \u001b[0moutput\u001b[0m \u001b[0;34m=\u001b[0m \u001b[0mmod\u001b[0m\u001b[0;34m(\u001b[0m\u001b[0moutput\u001b[0m\u001b[0;34m,\u001b[0m \u001b[0msrc_mask\u001b[0m\u001b[0;34m=\u001b[0m\u001b[0mmask\u001b[0m\u001b[0;34m,\u001b[0m \u001b[0mis_causal\u001b[0m\u001b[0;34m=\u001b[0m\u001b[0mis_causal\u001b[0m\u001b[0;34m,\u001b[0m \u001b[0msrc_key_padding_mask\u001b[0m\u001b[0;34m=\u001b[0m\u001b[0msrc_key_padding_mask_for_layers\u001b[0m\u001b[0;34m)\u001b[0m\u001b[0;34m\u001b[0m\u001b[0;34m\u001b[0m\u001b[0m\n\u001b[0m\u001b[1;32m    392\u001b[0m \u001b[0;34m\u001b[0m\u001b[0m\n\u001b[1;32m    393\u001b[0m         \u001b[0;32mif\u001b[0m \u001b[0mconvert_to_nested\u001b[0m\u001b[0;34m:\u001b[0m\u001b[0;34m\u001b[0m\u001b[0;34m\u001b[0m\u001b[0m\n",
      "\u001b[0;32m~/.local/lib/python3.10/site-packages/torch/nn/modules/module.py\u001b[0m in \u001b[0;36m_wrapped_call_impl\u001b[0;34m(self, *args, **kwargs)\u001b[0m\n\u001b[1;32m   1509\u001b[0m             \u001b[0;32mreturn\u001b[0m \u001b[0mself\u001b[0m\u001b[0;34m.\u001b[0m\u001b[0m_compiled_call_impl\u001b[0m\u001b[0;34m(\u001b[0m\u001b[0;34m*\u001b[0m\u001b[0margs\u001b[0m\u001b[0;34m,\u001b[0m \u001b[0;34m**\u001b[0m\u001b[0mkwargs\u001b[0m\u001b[0;34m)\u001b[0m  \u001b[0;31m# type: ignore[misc]\u001b[0m\u001b[0;34m\u001b[0m\u001b[0;34m\u001b[0m\u001b[0m\n\u001b[1;32m   1510\u001b[0m         \u001b[0;32melse\u001b[0m\u001b[0;34m:\u001b[0m\u001b[0;34m\u001b[0m\u001b[0;34m\u001b[0m\u001b[0m\n\u001b[0;32m-> 1511\u001b[0;31m             \u001b[0;32mreturn\u001b[0m \u001b[0mself\u001b[0m\u001b[0;34m.\u001b[0m\u001b[0m_call_impl\u001b[0m\u001b[0;34m(\u001b[0m\u001b[0;34m*\u001b[0m\u001b[0margs\u001b[0m\u001b[0;34m,\u001b[0m \u001b[0;34m**\u001b[0m\u001b[0mkwargs\u001b[0m\u001b[0;34m)\u001b[0m\u001b[0;34m\u001b[0m\u001b[0;34m\u001b[0m\u001b[0m\n\u001b[0m\u001b[1;32m   1512\u001b[0m \u001b[0;34m\u001b[0m\u001b[0m\n\u001b[1;32m   1513\u001b[0m     \u001b[0;32mdef\u001b[0m \u001b[0m_call_impl\u001b[0m\u001b[0;34m(\u001b[0m\u001b[0mself\u001b[0m\u001b[0;34m,\u001b[0m \u001b[0;34m*\u001b[0m\u001b[0margs\u001b[0m\u001b[0;34m,\u001b[0m \u001b[0;34m**\u001b[0m\u001b[0mkwargs\u001b[0m\u001b[0;34m)\u001b[0m\u001b[0;34m:\u001b[0m\u001b[0;34m\u001b[0m\u001b[0;34m\u001b[0m\u001b[0m\n",
      "\u001b[0;32m~/.local/lib/python3.10/site-packages/torch/nn/modules/module.py\u001b[0m in \u001b[0;36m_call_impl\u001b[0;34m(self, *args, **kwargs)\u001b[0m\n\u001b[1;32m   1518\u001b[0m                 \u001b[0;32mor\u001b[0m \u001b[0m_global_backward_pre_hooks\u001b[0m \u001b[0;32mor\u001b[0m \u001b[0m_global_backward_hooks\u001b[0m\u001b[0;34m\u001b[0m\u001b[0;34m\u001b[0m\u001b[0m\n\u001b[1;32m   1519\u001b[0m                 or _global_forward_hooks or _global_forward_pre_hooks):\n\u001b[0;32m-> 1520\u001b[0;31m             \u001b[0;32mreturn\u001b[0m \u001b[0mforward_call\u001b[0m\u001b[0;34m(\u001b[0m\u001b[0;34m*\u001b[0m\u001b[0margs\u001b[0m\u001b[0;34m,\u001b[0m \u001b[0;34m**\u001b[0m\u001b[0mkwargs\u001b[0m\u001b[0;34m)\u001b[0m\u001b[0;34m\u001b[0m\u001b[0;34m\u001b[0m\u001b[0m\n\u001b[0m\u001b[1;32m   1521\u001b[0m \u001b[0;34m\u001b[0m\u001b[0m\n\u001b[1;32m   1522\u001b[0m         \u001b[0;32mtry\u001b[0m\u001b[0;34m:\u001b[0m\u001b[0;34m\u001b[0m\u001b[0;34m\u001b[0m\u001b[0m\n",
      "\u001b[0;32m~/.local/lib/python3.10/site-packages/torch/nn/modules/transformer.py\u001b[0m in \u001b[0;36mforward\u001b[0;34m(self, src, src_mask, src_key_padding_mask, is_causal)\u001b[0m\n\u001b[1;32m    712\u001b[0m             \u001b[0mx\u001b[0m \u001b[0;34m=\u001b[0m \u001b[0mx\u001b[0m \u001b[0;34m+\u001b[0m \u001b[0mself\u001b[0m\u001b[0;34m.\u001b[0m\u001b[0m_ff_block\u001b[0m\u001b[0;34m(\u001b[0m\u001b[0mself\u001b[0m\u001b[0;34m.\u001b[0m\u001b[0mnorm2\u001b[0m\u001b[0;34m(\u001b[0m\u001b[0mx\u001b[0m\u001b[0;34m)\u001b[0m\u001b[0;34m)\u001b[0m\u001b[0;34m\u001b[0m\u001b[0;34m\u001b[0m\u001b[0m\n\u001b[1;32m    713\u001b[0m         \u001b[0;32melse\u001b[0m\u001b[0;34m:\u001b[0m\u001b[0;34m\u001b[0m\u001b[0;34m\u001b[0m\u001b[0m\n\u001b[0;32m--> 714\u001b[0;31m             \u001b[0mx\u001b[0m \u001b[0;34m=\u001b[0m \u001b[0mself\u001b[0m\u001b[0;34m.\u001b[0m\u001b[0mnorm1\u001b[0m\u001b[0;34m(\u001b[0m\u001b[0mx\u001b[0m \u001b[0;34m+\u001b[0m \u001b[0mself\u001b[0m\u001b[0;34m.\u001b[0m\u001b[0m_sa_block\u001b[0m\u001b[0;34m(\u001b[0m\u001b[0mx\u001b[0m\u001b[0;34m,\u001b[0m \u001b[0msrc_mask\u001b[0m\u001b[0;34m,\u001b[0m \u001b[0msrc_key_padding_mask\u001b[0m\u001b[0;34m,\u001b[0m \u001b[0mis_causal\u001b[0m\u001b[0;34m=\u001b[0m\u001b[0mis_causal\u001b[0m\u001b[0;34m)\u001b[0m\u001b[0;34m)\u001b[0m\u001b[0;34m\u001b[0m\u001b[0;34m\u001b[0m\u001b[0m\n\u001b[0m\u001b[1;32m    715\u001b[0m             \u001b[0mx\u001b[0m \u001b[0;34m=\u001b[0m \u001b[0mself\u001b[0m\u001b[0;34m.\u001b[0m\u001b[0mnorm2\u001b[0m\u001b[0;34m(\u001b[0m\u001b[0mx\u001b[0m \u001b[0;34m+\u001b[0m \u001b[0mself\u001b[0m\u001b[0;34m.\u001b[0m\u001b[0m_ff_block\u001b[0m\u001b[0;34m(\u001b[0m\u001b[0mx\u001b[0m\u001b[0;34m)\u001b[0m\u001b[0;34m)\u001b[0m\u001b[0;34m\u001b[0m\u001b[0;34m\u001b[0m\u001b[0m\n\u001b[1;32m    716\u001b[0m \u001b[0;34m\u001b[0m\u001b[0m\n",
      "\u001b[0;32m~/.local/lib/python3.10/site-packages/torch/nn/modules/transformer.py\u001b[0m in \u001b[0;36m_sa_block\u001b[0;34m(self, x, attn_mask, key_padding_mask, is_causal)\u001b[0m\n\u001b[1;32m    720\u001b[0m     def _sa_block(self, x: Tensor,\n\u001b[1;32m    721\u001b[0m                   attn_mask: Optional[Tensor], key_padding_mask: Optional[Tensor], is_causal: bool = False) -> Tensor:\n\u001b[0;32m--> 722\u001b[0;31m         x = self.self_attn(x, x, x,\n\u001b[0m\u001b[1;32m    723\u001b[0m                            \u001b[0mattn_mask\u001b[0m\u001b[0;34m=\u001b[0m\u001b[0mattn_mask\u001b[0m\u001b[0;34m,\u001b[0m\u001b[0;34m\u001b[0m\u001b[0;34m\u001b[0m\u001b[0m\n\u001b[1;32m    724\u001b[0m                            \u001b[0mkey_padding_mask\u001b[0m\u001b[0;34m=\u001b[0m\u001b[0mkey_padding_mask\u001b[0m\u001b[0;34m,\u001b[0m\u001b[0;34m\u001b[0m\u001b[0;34m\u001b[0m\u001b[0m\n",
      "\u001b[0;32m~/.local/lib/python3.10/site-packages/torch/nn/modules/module.py\u001b[0m in \u001b[0;36m_wrapped_call_impl\u001b[0;34m(self, *args, **kwargs)\u001b[0m\n\u001b[1;32m   1509\u001b[0m             \u001b[0;32mreturn\u001b[0m \u001b[0mself\u001b[0m\u001b[0;34m.\u001b[0m\u001b[0m_compiled_call_impl\u001b[0m\u001b[0;34m(\u001b[0m\u001b[0;34m*\u001b[0m\u001b[0margs\u001b[0m\u001b[0;34m,\u001b[0m \u001b[0;34m**\u001b[0m\u001b[0mkwargs\u001b[0m\u001b[0;34m)\u001b[0m  \u001b[0;31m# type: ignore[misc]\u001b[0m\u001b[0;34m\u001b[0m\u001b[0;34m\u001b[0m\u001b[0m\n\u001b[1;32m   1510\u001b[0m         \u001b[0;32melse\u001b[0m\u001b[0;34m:\u001b[0m\u001b[0;34m\u001b[0m\u001b[0;34m\u001b[0m\u001b[0m\n\u001b[0;32m-> 1511\u001b[0;31m             \u001b[0;32mreturn\u001b[0m \u001b[0mself\u001b[0m\u001b[0;34m.\u001b[0m\u001b[0m_call_impl\u001b[0m\u001b[0;34m(\u001b[0m\u001b[0;34m*\u001b[0m\u001b[0margs\u001b[0m\u001b[0;34m,\u001b[0m \u001b[0;34m**\u001b[0m\u001b[0mkwargs\u001b[0m\u001b[0;34m)\u001b[0m\u001b[0;34m\u001b[0m\u001b[0;34m\u001b[0m\u001b[0m\n\u001b[0m\u001b[1;32m   1512\u001b[0m \u001b[0;34m\u001b[0m\u001b[0m\n\u001b[1;32m   1513\u001b[0m     \u001b[0;32mdef\u001b[0m \u001b[0m_call_impl\u001b[0m\u001b[0;34m(\u001b[0m\u001b[0mself\u001b[0m\u001b[0;34m,\u001b[0m \u001b[0;34m*\u001b[0m\u001b[0margs\u001b[0m\u001b[0;34m,\u001b[0m \u001b[0;34m**\u001b[0m\u001b[0mkwargs\u001b[0m\u001b[0;34m)\u001b[0m\u001b[0;34m:\u001b[0m\u001b[0;34m\u001b[0m\u001b[0;34m\u001b[0m\u001b[0m\n",
      "\u001b[0;32m~/.local/lib/python3.10/site-packages/torch/nn/modules/module.py\u001b[0m in \u001b[0;36m_call_impl\u001b[0;34m(self, *args, **kwargs)\u001b[0m\n\u001b[1;32m   1518\u001b[0m                 \u001b[0;32mor\u001b[0m \u001b[0m_global_backward_pre_hooks\u001b[0m \u001b[0;32mor\u001b[0m \u001b[0m_global_backward_hooks\u001b[0m\u001b[0;34m\u001b[0m\u001b[0;34m\u001b[0m\u001b[0m\n\u001b[1;32m   1519\u001b[0m                 or _global_forward_hooks or _global_forward_pre_hooks):\n\u001b[0;32m-> 1520\u001b[0;31m             \u001b[0;32mreturn\u001b[0m \u001b[0mforward_call\u001b[0m\u001b[0;34m(\u001b[0m\u001b[0;34m*\u001b[0m\u001b[0margs\u001b[0m\u001b[0;34m,\u001b[0m \u001b[0;34m**\u001b[0m\u001b[0mkwargs\u001b[0m\u001b[0;34m)\u001b[0m\u001b[0;34m\u001b[0m\u001b[0;34m\u001b[0m\u001b[0m\n\u001b[0m\u001b[1;32m   1521\u001b[0m \u001b[0;34m\u001b[0m\u001b[0m\n\u001b[1;32m   1522\u001b[0m         \u001b[0;32mtry\u001b[0m\u001b[0;34m:\u001b[0m\u001b[0;34m\u001b[0m\u001b[0;34m\u001b[0m\u001b[0m\n",
      "\u001b[0;32m~/.local/lib/python3.10/site-packages/torch/nn/modules/activation.py\u001b[0m in \u001b[0;36mforward\u001b[0;34m(self, query, key, value, key_padding_mask, need_weights, attn_mask, average_attn_weights, is_causal)\u001b[0m\n\u001b[1;32m   1239\u001b[0m                 is_causal=is_causal)\n\u001b[1;32m   1240\u001b[0m         \u001b[0;32melse\u001b[0m\u001b[0;34m:\u001b[0m\u001b[0;34m\u001b[0m\u001b[0;34m\u001b[0m\u001b[0m\n\u001b[0;32m-> 1241\u001b[0;31m             attn_output, attn_output_weights = F.multi_head_attention_forward(\n\u001b[0m\u001b[1;32m   1242\u001b[0m                 \u001b[0mquery\u001b[0m\u001b[0;34m,\u001b[0m \u001b[0mkey\u001b[0m\u001b[0;34m,\u001b[0m \u001b[0mvalue\u001b[0m\u001b[0;34m,\u001b[0m \u001b[0mself\u001b[0m\u001b[0;34m.\u001b[0m\u001b[0membed_dim\u001b[0m\u001b[0;34m,\u001b[0m \u001b[0mself\u001b[0m\u001b[0;34m.\u001b[0m\u001b[0mnum_heads\u001b[0m\u001b[0;34m,\u001b[0m\u001b[0;34m\u001b[0m\u001b[0;34m\u001b[0m\u001b[0m\n\u001b[1;32m   1243\u001b[0m                 \u001b[0mself\u001b[0m\u001b[0;34m.\u001b[0m\u001b[0min_proj_weight\u001b[0m\u001b[0;34m,\u001b[0m \u001b[0mself\u001b[0m\u001b[0;34m.\u001b[0m\u001b[0min_proj_bias\u001b[0m\u001b[0;34m,\u001b[0m\u001b[0;34m\u001b[0m\u001b[0;34m\u001b[0m\u001b[0m\n",
      "\u001b[0;32m~/.local/lib/python3.10/site-packages/torch/nn/functional.py\u001b[0m in \u001b[0;36mmulti_head_attention_forward\u001b[0;34m(query, key, value, embed_dim_to_check, num_heads, in_proj_weight, in_proj_bias, bias_k, bias_v, add_zero_attn, dropout_p, out_proj_weight, out_proj_bias, training, key_padding_mask, need_weights, attn_mask, use_separate_proj_weight, q_proj_weight, k_proj_weight, v_proj_weight, static_k, static_v, average_attn_weights, is_causal)\u001b[0m\n\u001b[1;32m   5334\u001b[0m     \u001b[0;32mif\u001b[0m \u001b[0;32mnot\u001b[0m \u001b[0muse_separate_proj_weight\u001b[0m\u001b[0;34m:\u001b[0m\u001b[0;34m\u001b[0m\u001b[0;34m\u001b[0m\u001b[0m\n\u001b[1;32m   5335\u001b[0m         \u001b[0;32massert\u001b[0m \u001b[0min_proj_weight\u001b[0m \u001b[0;32mis\u001b[0m \u001b[0;32mnot\u001b[0m \u001b[0;32mNone\u001b[0m\u001b[0;34m,\u001b[0m \u001b[0;34m\"use_separate_proj_weight is False but in_proj_weight is None\"\u001b[0m\u001b[0;34m\u001b[0m\u001b[0;34m\u001b[0m\u001b[0m\n\u001b[0;32m-> 5336\u001b[0;31m         \u001b[0mq\u001b[0m\u001b[0;34m,\u001b[0m \u001b[0mk\u001b[0m\u001b[0;34m,\u001b[0m \u001b[0mv\u001b[0m \u001b[0;34m=\u001b[0m \u001b[0m_in_projection_packed\u001b[0m\u001b[0;34m(\u001b[0m\u001b[0mquery\u001b[0m\u001b[0;34m,\u001b[0m \u001b[0mkey\u001b[0m\u001b[0;34m,\u001b[0m \u001b[0mvalue\u001b[0m\u001b[0;34m,\u001b[0m \u001b[0min_proj_weight\u001b[0m\u001b[0;34m,\u001b[0m \u001b[0min_proj_bias\u001b[0m\u001b[0;34m)\u001b[0m\u001b[0;34m\u001b[0m\u001b[0;34m\u001b[0m\u001b[0m\n\u001b[0m\u001b[1;32m   5337\u001b[0m     \u001b[0;32melse\u001b[0m\u001b[0;34m:\u001b[0m\u001b[0;34m\u001b[0m\u001b[0;34m\u001b[0m\u001b[0m\n\u001b[1;32m   5338\u001b[0m         \u001b[0;32massert\u001b[0m \u001b[0mq_proj_weight\u001b[0m \u001b[0;32mis\u001b[0m \u001b[0;32mnot\u001b[0m \u001b[0;32mNone\u001b[0m\u001b[0;34m,\u001b[0m \u001b[0;34m\"use_separate_proj_weight is True but q_proj_weight is None\"\u001b[0m\u001b[0;34m\u001b[0m\u001b[0;34m\u001b[0m\u001b[0m\n",
      "\u001b[0;32m~/.local/lib/python3.10/site-packages/torch/nn/functional.py\u001b[0m in \u001b[0;36m_in_projection_packed\u001b[0;34m(q, k, v, w, b)\u001b[0m\n\u001b[1;32m   4855\u001b[0m         \u001b[0;32mif\u001b[0m \u001b[0mq\u001b[0m \u001b[0;32mis\u001b[0m \u001b[0mk\u001b[0m\u001b[0;34m:\u001b[0m\u001b[0;34m\u001b[0m\u001b[0;34m\u001b[0m\u001b[0m\n\u001b[1;32m   4856\u001b[0m             \u001b[0;31m# self-attention\u001b[0m\u001b[0;34m\u001b[0m\u001b[0;34m\u001b[0m\u001b[0m\n\u001b[0;32m-> 4857\u001b[0;31m             \u001b[0mproj\u001b[0m \u001b[0;34m=\u001b[0m \u001b[0mlinear\u001b[0m\u001b[0;34m(\u001b[0m\u001b[0mq\u001b[0m\u001b[0;34m,\u001b[0m \u001b[0mw\u001b[0m\u001b[0;34m,\u001b[0m \u001b[0mb\u001b[0m\u001b[0;34m)\u001b[0m\u001b[0;34m\u001b[0m\u001b[0;34m\u001b[0m\u001b[0m\n\u001b[0m\u001b[1;32m   4858\u001b[0m             \u001b[0;31m# reshape to 3, E and not E, 3 is deliberate for better memory coalescing and keeping same order as chunk()\u001b[0m\u001b[0;34m\u001b[0m\u001b[0;34m\u001b[0m\u001b[0m\n\u001b[1;32m   4859\u001b[0m             \u001b[0mproj\u001b[0m \u001b[0;34m=\u001b[0m \u001b[0mproj\u001b[0m\u001b[0;34m.\u001b[0m\u001b[0munflatten\u001b[0m\u001b[0;34m(\u001b[0m\u001b[0;34m-\u001b[0m\u001b[0;36m1\u001b[0m\u001b[0;34m,\u001b[0m \u001b[0;34m(\u001b[0m\u001b[0;36m3\u001b[0m\u001b[0;34m,\u001b[0m \u001b[0mE\u001b[0m\u001b[0;34m)\u001b[0m\u001b[0;34m)\u001b[0m\u001b[0;34m.\u001b[0m\u001b[0munsqueeze\u001b[0m\u001b[0;34m(\u001b[0m\u001b[0;36m0\u001b[0m\u001b[0;34m)\u001b[0m\u001b[0;34m.\u001b[0m\u001b[0mtranspose\u001b[0m\u001b[0;34m(\u001b[0m\u001b[0;36m0\u001b[0m\u001b[0;34m,\u001b[0m \u001b[0;34m-\u001b[0m\u001b[0;36m2\u001b[0m\u001b[0;34m)\u001b[0m\u001b[0;34m.\u001b[0m\u001b[0msqueeze\u001b[0m\u001b[0;34m(\u001b[0m\u001b[0;34m-\u001b[0m\u001b[0;36m2\u001b[0m\u001b[0;34m)\u001b[0m\u001b[0;34m.\u001b[0m\u001b[0mcontiguous\u001b[0m\u001b[0;34m(\u001b[0m\u001b[0;34m)\u001b[0m\u001b[0;34m\u001b[0m\u001b[0;34m\u001b[0m\u001b[0m\n",
      "\u001b[0;31mKeyboardInterrupt\u001b[0m: "
     ]
    }
   ],
   "source": [
    "# 转换为张量\n",
    "X_train_tensor = torch.tensor(X_train, dtype=torch.float32)\n",
    "y_train_tensor = torch.tensor(y_train, dtype=torch.long)\n",
    "X_test_tensor = torch.tensor(X_test, dtype=torch.float32)\n",
    "y_test_tensor = torch.tensor(y_test, dtype=torch.long)\n",
    "\n",
    "# 创建 DataLoader\n",
    "train_data = CustomDataset(X_train_tensor, y_train_tensor)\n",
    "train_loader = DataLoader(train_data, batch_size=32, shuffle=True)\n",
    "\n",
    "# 创建模型\n",
    "model = TransformerModel(feature_size=110, num_classes=5)\n",
    "model.to(device)\n",
    "criterion = nn.CrossEntropyLoss()\n",
    "criterion.to(device)\n",
    "optimizer = optim.Adam(model.parameters(), lr=0.002)\n",
    "\n",
    "# 训练模型\n",
    "num_epochs = 100\n",
    "for epoch in range(num_epochs):\n",
    "    model.train()\n",
    "    total_loss = 0\n",
    "    print(f'---------------------------第{epoch+1}轮训练开始---------------------------')\n",
    "    total, correct = 0, 0\n",
    "    for data, target in train_loader:\n",
    "        optimizer.zero_grad()\n",
    "        data, target = data.to(device), target.to(device)\n",
    "        output = model(data)\n",
    "        \n",
    "        # 计算准确率\n",
    "        _, predicted = torch.max(output, 1)\n",
    "        correct += (predicted == target).sum().item()  # 确保转换为 Python int\n",
    "        total += target.size(0)  # total 累加 target 的数量\n",
    "        \n",
    "        loss = criterion(output, target)\n",
    "        loss.backward()\n",
    "        optimizer.step()\n",
    "        total_loss += loss.item()\n",
    "    print(f'Train_set Loss: {total_loss / len(train_loader)} Train_set Accuracy:{100 * correct / total}')\n",
    "    \n",
    "    model.eval()\n",
    "    with torch.no_grad():\n",
    "        test_data = X_test_tensor.unsqueeze(1).permute(1, 0, 2).to(device) \n",
    "        outputs = model(test_data)  # 调整测试数据的形状\n",
    "        predicted = outputs.argmax(dim=1)\n",
    "        accuracy = (predicted == y_test_tensor.to(device)).float().mean()\n",
    "        print(f'Test Accuracy: {accuracy.item()}')"
   ]
  },
  {
   "cell_type": "code",
   "execution_count": 23,
   "id": "41d1e98c",
   "metadata": {
    "ExecuteTime": {
     "end_time": "2024-04-15T13:44:50.251369Z",
     "start_time": "2024-04-15T13:44:50.222714Z"
    }
   },
   "outputs": [],
   "source": [
    "torch.save(model, './models/transformer.pth')"
   ]
  },
  {
   "cell_type": "code",
   "execution_count": 24,
   "id": "5c025712",
   "metadata": {
    "ExecuteTime": {
     "end_time": "2024-04-15T13:50:40.324622Z",
     "start_time": "2024-04-15T13:45:05.803886Z"
    }
   },
   "outputs": [
    {
     "name": "stdout",
     "output_type": "stream",
     "text": [
      "RandomForestClassifier Accuracy: 0.3949445963853723\n",
      "[LightGBM] [Info] Total Bins 367\n",
      "[LightGBM] [Info] Number of data points in the train set: 283733, number of used features: 110\n",
      "[LightGBM] [Info] Start training from score -2.026737\n",
      "[LightGBM] [Info] Start training from score -1.680576\n",
      "[LightGBM] [Info] Start training from score -1.411842\n",
      "[LightGBM] [Info] Start training from score -1.789200\n",
      "[LightGBM] [Info] Start training from score -1.304969\n",
      "LGBMClassifier Accuracy: 0.40805537541940395\n",
      "DecisionTreeClassifier Accuracy: 0.39524064623452787\n",
      "LogisticRegression Accuracy: 0.36380297177658105\n"
     ]
    },
    {
     "name": "stderr",
     "output_type": "stream",
     "text": [
      "/home/s1751118/.local/lib/python3.10/site-packages/sklearn/linear_model/_logistic.py:469: ConvergenceWarning: lbfgs failed to converge (status=1):\n",
      "STOP: TOTAL NO. of ITERATIONS REACHED LIMIT.\n",
      "\n",
      "Increase the number of iterations (max_iter) or scale the data as shown in:\n",
      "    https://scikit-learn.org/stable/modules/preprocessing.html\n",
      "Please also refer to the documentation for alternative solver options:\n",
      "    https://scikit-learn.org/stable/modules/linear_model.html#logistic-regression\n",
      "  n_iter_i = _check_optimize_result(\n"
     ]
    }
   ],
   "source": [
    "models = [RandomForestClassifier(n_estimators=10, random_state=42),\n",
    "          LGBMClassifier(force_row_wise=True),\n",
    "          DecisionTreeClassifier(random_state=42), \n",
    "          LogisticRegression()\n",
    "#           KNeighborsClassifier(n_neighbors=3),\n",
    "#           LinearSVC(random_state=42),\n",
    "         ]\n",
    "for model in models:\n",
    "    model.fit(X_train, y_train)\n",
    "    y_pred = model.predict(X_test)\n",
    "    print(f\"{model.__class__.__name__} Accuracy:\", accuracy_score(y_test, y_pred))"
   ]
  },
  {
   "cell_type": "markdown",
   "id": "728b0726",
   "metadata": {},
   "source": [
    "### 回归"
   ]
  },
  {
   "cell_type": "code",
   "execution_count": 25,
   "id": "0637e57f",
   "metadata": {
    "ExecuteTime": {
     "end_time": "2024-04-15T13:51:10.266380Z",
     "start_time": "2024-04-15T13:51:06.463282Z"
    }
   },
   "outputs": [
    {
     "name": "stdout",
     "output_type": "stream",
     "text": [
      "LinearRegression\n",
      "MSE : 0.054108477379216306\n",
      "RMSE : 0.2326122898284102\n",
      "MAE : 0.19492192752014362\n",
      "R² Score : 0.11812262087272485\n",
      "Ridge\n",
      "MSE : 0.054104237282757345\n",
      "RMSE : 0.2326031755646456\n",
      "MAE : 0.1949072513974091\n",
      "R² Score : 0.11819172732948702\n",
      "Lasso\n",
      "MSE : 0.06135677692551016\n",
      "RMSE : 0.24770300144630902\n",
      "MAE : 0.2104832632031657\n",
      "R² Score : -1.249799628855186e-05\n"
     ]
    }
   ],
   "source": [
    "from sklearn.linear_model import LinearRegression, Ridge, Lasso, LogisticRegression\n",
    "from sklearn.model_selection import train_test_split\n",
    "from sklearn.metrics import mean_squared_error, mean_absolute_error,r2_score\n",
    "\n",
    "X = df.drop(['track_id','labels', 'valence'], axis = 1)\n",
    "y = df['valence']\n",
    "\n",
    "X_train, X_test, y_train, y_test = train_test_split(X, y, test_size=0.2, random_state=42)\n",
    "\n",
    "models = [LinearRegression(), Ridge(alpha=1.0), Lasso(alpha=0.1)]\n",
    "for model in models:\n",
    "    model.fit(X_train, y_train)\n",
    "    y_pred = model.predict(X_test)\n",
    "\n",
    "    mean_squared = mean_squared_error(y_test, y_pred)\n",
    "    sqrt_mean_squared = np.sqrt(mean_squared)\n",
    "    mean_absolute = mean_absolute_error(y_test, y_pred)\n",
    "    r2score = r2_score(y_test, y_pred)\n",
    "    print(model.__class__.__name__)\n",
    "    print(f'MSE : {mean_squared}')\n",
    "    print(f'RMSE : {sqrt_mean_squared}')\n",
    "    print(f'MAE : {mean_absolute}')\n",
    "    print(f'R² Score : {r2score}')"
   ]
  }
 ],
 "metadata": {
  "kernelspec": {
   "display_name": "Python 3 (ipykernel)",
   "language": "python",
   "name": "python3"
  },
  "language_info": {
   "codemirror_mode": {
    "name": "ipython",
    "version": 3
   },
   "file_extension": ".py",
   "mimetype": "text/x-python",
   "name": "python",
   "nbconvert_exporter": "python",
   "pygments_lexer": "ipython3",
   "version": "3.10.12"
  },
  "toc": {
   "base_numbering": 1,
   "nav_menu": {},
   "number_sections": true,
   "sideBar": true,
   "skip_h1_title": false,
   "title_cell": "Table of Contents",
   "title_sidebar": "Contents",
   "toc_cell": false,
   "toc_position": {},
   "toc_section_display": true,
   "toc_window_display": false
  },
  "varInspector": {
   "cols": {
    "lenName": 16,
    "lenType": 16,
    "lenVar": 40
   },
   "kernels_config": {
    "python": {
     "delete_cmd_postfix": "",
     "delete_cmd_prefix": "del ",
     "library": "var_list.py",
     "varRefreshCmd": "print(var_dic_list())"
    },
    "r": {
     "delete_cmd_postfix": ") ",
     "delete_cmd_prefix": "rm(",
     "library": "var_list.r",
     "varRefreshCmd": "cat(var_dic_list()) "
    }
   },
   "types_to_exclude": [
    "module",
    "function",
    "builtin_function_or_method",
    "instance",
    "_Feature"
   ],
   "window_display": false
  }
 },
 "nbformat": 4,
 "nbformat_minor": 5
}
