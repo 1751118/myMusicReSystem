{
 "cells": [
  {
   "cell_type": "code",
   "execution_count": 38,
   "id": "de937c2d",
   "metadata": {
    "ExecuteTime": {
     "end_time": "2024-06-13T01:22:37.952891Z",
     "start_time": "2024-06-13T01:22:36.034966Z"
    }
   },
   "outputs": [
    {
     "name": "stdout",
     "output_type": "stream",
     "text": [
      "<class 'pandas.core.frame.DataFrame'>\n",
      "RangeIndex: 361346 entries, 0 to 361345\n",
      "Data columns (total 18 columns):\n",
      " #   Column         Non-Null Count   Dtype  \n",
      "---  ------         --------------   -----  \n",
      " 0   score          361346 non-null  float64\n",
      " 1   hashtag        361346 non-null  object \n",
      " 2   lang           361346 non-null  object \n",
      " 3   tweet_lang     361346 non-null  object \n",
      " 4   time_zone      361346 non-null  object \n",
      " 5   track_id       361346 non-null  object \n",
      " 6   timestamp      361346 non-null  object \n",
      " 7   season         361346 non-null  object \n",
      " 8   day_time       361346 non-null  object \n",
      " 9   weekday        361346 non-null  int64  \n",
      " 10  day_of_year    361346 non-null  int64  \n",
      " 11  week_of_month  361346 non-null  int64  \n",
      " 12  week_of_year   361346 non-null  int64  \n",
      " 13  weekend        361346 non-null  bool   \n",
      " 14  day            361346 non-null  int64  \n",
      " 15  minute         361346 non-null  int64  \n",
      " 16  month          361346 non-null  int64  \n",
      " 17  hours          361346 non-null  int64  \n",
      "dtypes: bool(1), float64(1), int64(8), object(8)\n",
      "memory usage: 47.2+ MB\n"
     ]
    }
   ],
   "source": [
    "import pandas as pd\n",
    "import numpy as np\n",
    "import matplotlib.pyplot as plt\n",
    "import warnings\n",
    "%matplotlib inline\n",
    "warnings.filterwarnings('ignore')\n",
    "# 设置全局图表大小\n",
    "plt.rc('figure', figsize=(12, 8))\n",
    "plt.rc('axes', titlesize=18)  # 设置轴标题的字体大小\n",
    "plt.rc('axes', labelsize=14)  # 设置轴标签的字体大小\n",
    "plt.rc('xtick', labelsize=12)  # 设置x轴刻度标签的字体大小\n",
    "plt.rc('ytick', labelsize=12)  # 设置y轴刻度标签的字体大小\n",
    "plt.rc('legend', fontsize=12)  # 设置图例的字体大小\n",
    "\n",
    "df = pd.read_csv('./data/classify_data.csv')\n",
    "\n",
    "# # 衍生列\n",
    "# add_columns = ['season', 'day_time', 'weekday', 'day_of_year', 'week_of_month', 'week_of_year'\n",
    "#               ,'weekend', 'day', 'minute',  'month', 'hours']\n",
    "\n",
    "# df.drop(add_columns, axis = 1, inplace = True)\n",
    "df.info()"
   ]
  },
  {
   "cell_type": "code",
   "execution_count": 39,
   "id": "b74fce1b",
   "metadata": {
    "ExecuteTime": {
     "end_time": "2024-06-13T01:22:37.984516Z",
     "start_time": "2024-06-13T01:22:37.955193Z"
    }
   },
   "outputs": [
    {
     "name": "stdout",
     "output_type": "stream",
     "text": [
      "<class 'pandas.core.frame.DataFrame'>\n",
      "RangeIndex: 26911 entries, 0 to 26910\n",
      "Data columns (total 2 columns):\n",
      " #   Column    Non-Null Count  Dtype \n",
      "---  ------    --------------  ----- \n",
      " 0   track_id  26911 non-null  object\n",
      " 1   labels    26911 non-null  int64 \n",
      "dtypes: int64(1), object(1)\n",
      "memory usage: 420.6+ KB\n"
     ]
    }
   ],
   "source": [
    "# track_to_label = pd.read_csv('./data/track_to_labels_dbscan.csv')\n",
    "track_to_label = pd.read_csv('./data/track_to_labels_kmeans_5.csv')\n",
    "track_to_label.info()"
   ]
  },
  {
   "cell_type": "code",
   "execution_count": 40,
   "id": "c0b2b2ec",
   "metadata": {
    "ExecuteTime": {
     "end_time": "2024-06-13T01:22:38.158925Z",
     "start_time": "2024-06-13T01:22:37.987575Z"
    }
   },
   "outputs": [
    {
     "data": {
      "text/html": [
       "<div>\n",
       "<style scoped>\n",
       "    .dataframe tbody tr th:only-of-type {\n",
       "        vertical-align: middle;\n",
       "    }\n",
       "\n",
       "    .dataframe tbody tr th {\n",
       "        vertical-align: top;\n",
       "    }\n",
       "\n",
       "    .dataframe thead th {\n",
       "        text-align: right;\n",
       "    }\n",
       "</style>\n",
       "<table border=\"1\" class=\"dataframe\">\n",
       "  <thead>\n",
       "    <tr style=\"text-align: right;\">\n",
       "      <th></th>\n",
       "      <th>score</th>\n",
       "      <th>hashtag</th>\n",
       "      <th>lang</th>\n",
       "      <th>tweet_lang</th>\n",
       "      <th>time_zone</th>\n",
       "      <th>track_id</th>\n",
       "      <th>timestamp</th>\n",
       "      <th>season</th>\n",
       "      <th>day_time</th>\n",
       "      <th>weekday</th>\n",
       "      <th>day_of_year</th>\n",
       "      <th>week_of_month</th>\n",
       "      <th>week_of_year</th>\n",
       "      <th>weekend</th>\n",
       "      <th>day</th>\n",
       "      <th>minute</th>\n",
       "      <th>month</th>\n",
       "      <th>hours</th>\n",
       "      <th>labels</th>\n",
       "    </tr>\n",
       "  </thead>\n",
       "  <tbody>\n",
       "    <tr>\n",
       "      <th>0</th>\n",
       "      <td>0.8</td>\n",
       "      <td>kiss92</td>\n",
       "      <td>en</td>\n",
       "      <td>en</td>\n",
       "      <td>Beijing</td>\n",
       "      <td>3Px454rzMHtIRc9R04QSlB</td>\n",
       "      <td>2014-01-01 05:59:38</td>\n",
       "      <td>winter</td>\n",
       "      <td>Wee hours(00:00 - 6:00)</td>\n",
       "      <td>3</td>\n",
       "      <td>1</td>\n",
       "      <td>1</td>\n",
       "      <td>1</td>\n",
       "      <td>False</td>\n",
       "      <td>1</td>\n",
       "      <td>59</td>\n",
       "      <td>1</td>\n",
       "      <td>5</td>\n",
       "      <td>3</td>\n",
       "    </tr>\n",
       "    <tr>\n",
       "      <th>1</th>\n",
       "      <td>0.8</td>\n",
       "      <td>kiss92</td>\n",
       "      <td>en</td>\n",
       "      <td>en</td>\n",
       "      <td>Beijing</td>\n",
       "      <td>5eaD4UEbmcXZe0buNHOM64</td>\n",
       "      <td>2014-01-01 06:06:15</td>\n",
       "      <td>winter</td>\n",
       "      <td>Morning(6:00 - 12:00)</td>\n",
       "      <td>3</td>\n",
       "      <td>1</td>\n",
       "      <td>1</td>\n",
       "      <td>1</td>\n",
       "      <td>False</td>\n",
       "      <td>1</td>\n",
       "      <td>6</td>\n",
       "      <td>1</td>\n",
       "      <td>6</td>\n",
       "      <td>0</td>\n",
       "    </tr>\n",
       "    <tr>\n",
       "      <th>2</th>\n",
       "      <td>0.8</td>\n",
       "      <td>kiss92</td>\n",
       "      <td>en</td>\n",
       "      <td>en</td>\n",
       "      <td>Beijing</td>\n",
       "      <td>75VOiyc0bT0VkFFQuKakgE</td>\n",
       "      <td>2014-01-01 06:11:07</td>\n",
       "      <td>winter</td>\n",
       "      <td>Morning(6:00 - 12:00)</td>\n",
       "      <td>3</td>\n",
       "      <td>1</td>\n",
       "      <td>1</td>\n",
       "      <td>1</td>\n",
       "      <td>False</td>\n",
       "      <td>1</td>\n",
       "      <td>11</td>\n",
       "      <td>1</td>\n",
       "      <td>6</td>\n",
       "      <td>0</td>\n",
       "    </tr>\n",
       "    <tr>\n",
       "      <th>3</th>\n",
       "      <td>0.8</td>\n",
       "      <td>kiss92</td>\n",
       "      <td>en</td>\n",
       "      <td>en</td>\n",
       "      <td>Beijing</td>\n",
       "      <td>0Dy1Q2uUKII4asOHvexBn9</td>\n",
       "      <td>2014-01-01 06:19:43</td>\n",
       "      <td>winter</td>\n",
       "      <td>Morning(6:00 - 12:00)</td>\n",
       "      <td>3</td>\n",
       "      <td>1</td>\n",
       "      <td>1</td>\n",
       "      <td>1</td>\n",
       "      <td>False</td>\n",
       "      <td>1</td>\n",
       "      <td>19</td>\n",
       "      <td>1</td>\n",
       "      <td>6</td>\n",
       "      <td>2</td>\n",
       "    </tr>\n",
       "    <tr>\n",
       "      <th>4</th>\n",
       "      <td>0.8</td>\n",
       "      <td>kiss92</td>\n",
       "      <td>en</td>\n",
       "      <td>en</td>\n",
       "      <td>Beijing</td>\n",
       "      <td>777VRhgQZ1L2c0RJnLlNI9</td>\n",
       "      <td>2014-01-01 06:23:47</td>\n",
       "      <td>winter</td>\n",
       "      <td>Morning(6:00 - 12:00)</td>\n",
       "      <td>3</td>\n",
       "      <td>1</td>\n",
       "      <td>1</td>\n",
       "      <td>1</td>\n",
       "      <td>False</td>\n",
       "      <td>1</td>\n",
       "      <td>23</td>\n",
       "      <td>1</td>\n",
       "      <td>6</td>\n",
       "      <td>1</td>\n",
       "    </tr>\n",
       "  </tbody>\n",
       "</table>\n",
       "</div>"
      ],
      "text/plain": [
       "   score hashtag lang tweet_lang time_zone                track_id  \\\n",
       "0    0.8  kiss92   en         en   Beijing  3Px454rzMHtIRc9R04QSlB   \n",
       "1    0.8  kiss92   en         en   Beijing  5eaD4UEbmcXZe0buNHOM64   \n",
       "2    0.8  kiss92   en         en   Beijing  75VOiyc0bT0VkFFQuKakgE   \n",
       "3    0.8  kiss92   en         en   Beijing  0Dy1Q2uUKII4asOHvexBn9   \n",
       "4    0.8  kiss92   en         en   Beijing  777VRhgQZ1L2c0RJnLlNI9   \n",
       "\n",
       "             timestamp  season                 day_time  weekday  day_of_year  \\\n",
       "0  2014-01-01 05:59:38  winter  Wee hours(00:00 - 6:00)        3            1   \n",
       "1  2014-01-01 06:06:15  winter    Morning(6:00 - 12:00)        3            1   \n",
       "2  2014-01-01 06:11:07  winter    Morning(6:00 - 12:00)        3            1   \n",
       "3  2014-01-01 06:19:43  winter    Morning(6:00 - 12:00)        3            1   \n",
       "4  2014-01-01 06:23:47  winter    Morning(6:00 - 12:00)        3            1   \n",
       "\n",
       "   week_of_month  week_of_year  weekend  day  minute  month  hours  labels  \n",
       "0              1             1    False    1      59      1      5       3  \n",
       "1              1             1    False    1       6      1      6       0  \n",
       "2              1             1    False    1      11      1      6       0  \n",
       "3              1             1    False    1      19      1      6       2  \n",
       "4              1             1    False    1      23      1      6       1  "
      ]
     },
     "execution_count": 40,
     "metadata": {},
     "output_type": "execute_result"
    }
   ],
   "source": [
    "df = df.merge(track_to_label, on='track_id', how='left')\n",
    "df.head()"
   ]
  },
  {
   "cell_type": "code",
   "execution_count": 41,
   "id": "14f5dc5d",
   "metadata": {
    "ExecuteTime": {
     "end_time": "2024-06-13T01:22:38.363940Z",
     "start_time": "2024-06-13T01:22:38.163746Z"
    }
   },
   "outputs": [
    {
     "data": {
      "text/plain": [
       "0    115117\n",
       "1     80024\n",
       "3     77939\n",
       "2     58511\n",
       "4     29755\n",
       "Name: labels, dtype: int64"
      ]
     },
     "execution_count": 41,
     "metadata": {},
     "output_type": "execute_result"
    }
   ],
   "source": [
    "df = df.dropna()\n",
    "df.labels.value_counts()"
   ]
  },
  {
   "cell_type": "code",
   "execution_count": 42,
   "id": "8ee04f39",
   "metadata": {
    "ExecuteTime": {
     "end_time": "2024-06-13T01:22:38.433888Z",
     "start_time": "2024-06-13T01:22:38.366184Z"
    }
   },
   "outputs": [
    {
     "data": {
      "text/plain": [
       "0    115117\n",
       "1     80024\n",
       "3     77939\n",
       "2     58511\n",
       "4     29755\n",
       "Name: labels, dtype: int64"
      ]
     },
     "execution_count": 42,
     "metadata": {},
     "output_type": "execute_result"
    }
   ],
   "source": [
    "# 去除离群点\n",
    "df = df[df['labels'] != -1]\n",
    "df.labels.value_counts()"
   ]
  },
  {
   "cell_type": "code",
   "execution_count": 43,
   "id": "9e5959d8",
   "metadata": {
    "ExecuteTime": {
     "end_time": "2024-06-13T01:22:41.512730Z",
     "start_time": "2024-06-13T01:22:38.436376Z"
    }
   },
   "outputs": [
    {
     "name": "stdout",
     "output_type": "stream",
     "text": [
      "             mood  mood_label\n",
      "0       happiness           3\n",
      "1       happiness           3\n",
      "2       happiness           3\n",
      "3       happiness           3\n",
      "4       happiness           3\n",
      "...           ...         ...\n",
      "361341    disgust           0\n",
      "361342   surprise           4\n",
      "361343    sadness           1\n",
      "361344    sadness           1\n",
      "361345    sadness           1\n",
      "\n",
      "[361346 rows x 2 columns]\n",
      "<class 'pandas.core.frame.DataFrame'>\n",
      "Int64Index: 361346 entries, 0 to 361345\n",
      "Data columns (total 23 columns):\n",
      " #   Column         Non-Null Count   Dtype  \n",
      "---  ------         --------------   -----  \n",
      " 0   score          361346 non-null  float64\n",
      " 1   hashtag        361346 non-null  object \n",
      " 2   lang           361346 non-null  object \n",
      " 3   tweet_lang     361346 non-null  object \n",
      " 4   time_zone      361346 non-null  object \n",
      " 5   track_id       361346 non-null  object \n",
      " 6   timestamp      361346 non-null  object \n",
      " 7   season         361346 non-null  object \n",
      " 8   day_time       361346 non-null  object \n",
      " 9   weekday        361346 non-null  int64  \n",
      " 10  day_of_year    361346 non-null  int64  \n",
      " 11  week_of_month  361346 non-null  int64  \n",
      " 12  week_of_year   361346 non-null  int64  \n",
      " 13  weekend        361346 non-null  bool   \n",
      " 14  day            361346 non-null  int64  \n",
      " 15  minute         361346 non-null  int64  \n",
      " 16  month          361346 non-null  int64  \n",
      " 17  hours          361346 non-null  int64  \n",
      " 18  labels         361346 non-null  int64  \n",
      " 19  score_2        361346 non-null  float64\n",
      " 20  score_3        361346 non-null  float64\n",
      " 21  mood_label     361346 non-null  int8   \n",
      " 22  happy          361346 non-null  int8   \n",
      "dtypes: bool(1), float64(3), int64(9), int8(2), object(8)\n",
      "memory usage: 58.9+ MB\n"
     ]
    }
   ],
   "source": [
    "#对分数score取平方、3次方\n",
    "df['score_2'] = df['score'] ** 2\n",
    "df['score_3'] = df['score'] ** 3\n",
    "\n",
    "# 对情绪分数score进行分箱操作\n",
    "labels = ['disgust', 'sadness', 'neutral', 'happiness', 'surprise']\n",
    "bins = [0.0, 0.2, 0.4, 0.6, 0.8, 1.0]\n",
    "df['mood'] = pd.cut(df['score'], labels=labels, bins = bins, include_lowest=True)\n",
    "df['mood'] = df['mood'].astype('category')\n",
    "\n",
    "df['mood_label'] = df['mood'].cat.codes\n",
    "print(df[['mood', 'mood_label']])\n",
    "\n",
    "bins = [0.0, 0.5, 1.0]\n",
    "df['happy'] = pd.cut(df['score'], labels=[0, 1], bins = bins, include_lowest=True)\n",
    "df['happy'] = df['happy'].cat.codes\n",
    "\n",
    "if (df['labels'] >= 2).sum() > 0:\n",
    "    df.to_csv('./data/final_classify_data_5.csv', index = False)\n",
    "else:\n",
    "    df.to_csv('./data/final_classify_data_2.csv', index = False)\n",
    "\n",
    "df.drop(['mood'], inplace = True,  axis = 1)\n",
    "df.info()"
   ]
  },
  {
   "cell_type": "code",
   "execution_count": 44,
   "id": "35b81fa6",
   "metadata": {
    "ExecuteTime": {
     "end_time": "2024-06-13T01:22:44.492396Z",
     "start_time": "2024-06-13T01:22:41.514571Z"
    }
   },
   "outputs": [
    {
     "name": "stdout",
     "output_type": "stream",
     "text": [
      "<class 'pandas.core.frame.DataFrame'>\n",
      "Int64Index: 303682 entries, 0 to 361345\n",
      "Data columns (total 23 columns):\n",
      " #   Column         Non-Null Count   Dtype  \n",
      "---  ------         --------------   -----  \n",
      " 0   score          303682 non-null  float64\n",
      " 1   hashtag        303682 non-null  int64  \n",
      " 2   lang           303682 non-null  int64  \n",
      " 3   tweet_lang     303682 non-null  int64  \n",
      " 4   time_zone      303682 non-null  int64  \n",
      " 5   track_id       303682 non-null  object \n",
      " 6   timestamp      303682 non-null  float64\n",
      " 7   season         303682 non-null  int64  \n",
      " 8   day_time       303682 non-null  int64  \n",
      " 9   weekday        303682 non-null  int64  \n",
      " 10  day_of_year    303682 non-null  int64  \n",
      " 11  week_of_month  303682 non-null  int64  \n",
      " 12  week_of_year   303682 non-null  int64  \n",
      " 13  weekend        303682 non-null  bool   \n",
      " 14  day            303682 non-null  int64  \n",
      " 15  minute         303682 non-null  int64  \n",
      " 16  month          303682 non-null  int64  \n",
      " 17  hours          303682 non-null  int64  \n",
      " 18  labels         303682 non-null  int64  \n",
      " 19  score_2        303682 non-null  float64\n",
      " 20  score_3        303682 non-null  float64\n",
      " 21  mood_label     303682 non-null  int8   \n",
      " 22  happy          303682 non-null  int8   \n",
      "dtypes: bool(1), float64(4), int64(15), int8(2), object(1)\n",
      "memory usage: 49.5+ MB\n",
      "None\n"
     ]
    }
   ],
   "source": [
    "# 对几个类别特别多的列采用二进制编码\n",
    "from category_encoders import BinaryEncoder\n",
    "from sklearn.preprocessing import LabelEncoder\n",
    "from datetime import datetime\n",
    "import pickle\n",
    "# # 不交叉组合\n",
    "\n",
    "df['timestamp'] = pd.to_datetime(df['timestamp']).apply(lambda x: x.timestamp())\n",
    "\n",
    "# 特征衍生\n",
    "columns = ['hashtag', 'time_zone', 'lang', 'tweet_lang', 'day_time', 'season']\n",
    "encoders = {}\n",
    "for column in columns:\n",
    "    encoder = LabelEncoder()\n",
    "    df[column] = encoder.fit_transform(df[column])\n",
    "    encoders[column] = encoder\n",
    "\n",
    "# with open('./data/label_encoders.pkl', 'wb') as f:\n",
    "#     pickle.dump(encoders, f)\n",
    "\n",
    "# df['weekend'] = df['weekend'].astype(int)\n",
    "# df.drop('timestamp', axis = 1, inplace=True)\n",
    "df = df[~df['score'].isin([0.0, 1.0])]\n",
    "print(df.info())\n",
    "# 查看结果"
   ]
  },
  {
   "cell_type": "markdown",
   "id": "7a14b1c4",
   "metadata": {},
   "source": [
    "### 分类\n",
    "#### 常用机器学习模型"
   ]
  },
  {
   "cell_type": "code",
   "execution_count": 45,
   "id": "23b58299",
   "metadata": {},
   "outputs": [
    {
     "data": {
      "text/plain": [
       "0"
      ]
     },
     "execution_count": 45,
     "metadata": {},
     "output_type": "execute_result"
    }
   ],
   "source": [
    "(df['tweet_lang'] == 'zh-Hans').sum()"
   ]
  },
  {
   "cell_type": "code",
   "execution_count": 46,
   "id": "bf09ab9a",
   "metadata": {
    "ExecuteTime": {
     "end_time": "2024-06-13T01:22:44.730460Z",
     "start_time": "2024-06-13T01:22:44.494728Z"
    }
   },
   "outputs": [
    {
     "name": "stdout",
     "output_type": "stream",
     "text": [
      "Original class distribution: Counter({0: 95170, 1: 67833, 3: 66033, 2: 49463, 4: 25183})\n"
     ]
    }
   ],
   "source": [
    "from imblearn.over_sampling import SMOTE\n",
    "from collections import Counter\n",
    "\n",
    "X = df.drop(['labels', 'track_id'], axis = 1)\n",
    "y = df['labels']\n",
    "\n",
    "# 查看原始数据集的类别分布\n",
    "print(f\"Original class distribution: {Counter(y)}\")"
   ]
  },
  {
   "cell_type": "code",
   "execution_count": 47,
   "id": "3a82ec4d",
   "metadata": {
    "ExecuteTime": {
     "end_time": "2024-06-13T01:22:44.755900Z",
     "start_time": "2024-06-13T01:22:44.733264Z"
    }
   },
   "outputs": [
    {
     "data": {
      "text/html": [
       "<div>\n",
       "<style scoped>\n",
       "    .dataframe tbody tr th:only-of-type {\n",
       "        vertical-align: middle;\n",
       "    }\n",
       "\n",
       "    .dataframe tbody tr th {\n",
       "        vertical-align: top;\n",
       "    }\n",
       "\n",
       "    .dataframe thead th {\n",
       "        text-align: right;\n",
       "    }\n",
       "</style>\n",
       "<table border=\"1\" class=\"dataframe\">\n",
       "  <thead>\n",
       "    <tr style=\"text-align: right;\">\n",
       "      <th></th>\n",
       "      <th>score</th>\n",
       "      <th>hashtag</th>\n",
       "      <th>lang</th>\n",
       "      <th>tweet_lang</th>\n",
       "      <th>time_zone</th>\n",
       "      <th>timestamp</th>\n",
       "      <th>season</th>\n",
       "      <th>day_time</th>\n",
       "      <th>weekday</th>\n",
       "      <th>day_of_year</th>\n",
       "      <th>...</th>\n",
       "      <th>week_of_year</th>\n",
       "      <th>weekend</th>\n",
       "      <th>day</th>\n",
       "      <th>minute</th>\n",
       "      <th>month</th>\n",
       "      <th>hours</th>\n",
       "      <th>score_2</th>\n",
       "      <th>score_3</th>\n",
       "      <th>mood_label</th>\n",
       "      <th>happy</th>\n",
       "    </tr>\n",
       "  </thead>\n",
       "  <tbody>\n",
       "    <tr>\n",
       "      <th>0</th>\n",
       "      <td>0.8</td>\n",
       "      <td>1931</td>\n",
       "      <td>5</td>\n",
       "      <td>5</td>\n",
       "      <td>17</td>\n",
       "      <td>1.388556e+09</td>\n",
       "      <td>3</td>\n",
       "      <td>3</td>\n",
       "      <td>3</td>\n",
       "      <td>1</td>\n",
       "      <td>...</td>\n",
       "      <td>1</td>\n",
       "      <td>False</td>\n",
       "      <td>1</td>\n",
       "      <td>59</td>\n",
       "      <td>1</td>\n",
       "      <td>5</td>\n",
       "      <td>0.64</td>\n",
       "      <td>0.512</td>\n",
       "      <td>3</td>\n",
       "      <td>1</td>\n",
       "    </tr>\n",
       "    <tr>\n",
       "      <th>1</th>\n",
       "      <td>0.8</td>\n",
       "      <td>1931</td>\n",
       "      <td>5</td>\n",
       "      <td>5</td>\n",
       "      <td>17</td>\n",
       "      <td>1.388556e+09</td>\n",
       "      <td>3</td>\n",
       "      <td>1</td>\n",
       "      <td>3</td>\n",
       "      <td>1</td>\n",
       "      <td>...</td>\n",
       "      <td>1</td>\n",
       "      <td>False</td>\n",
       "      <td>1</td>\n",
       "      <td>6</td>\n",
       "      <td>1</td>\n",
       "      <td>6</td>\n",
       "      <td>0.64</td>\n",
       "      <td>0.512</td>\n",
       "      <td>3</td>\n",
       "      <td>1</td>\n",
       "    </tr>\n",
       "    <tr>\n",
       "      <th>2</th>\n",
       "      <td>0.8</td>\n",
       "      <td>1931</td>\n",
       "      <td>5</td>\n",
       "      <td>5</td>\n",
       "      <td>17</td>\n",
       "      <td>1.388557e+09</td>\n",
       "      <td>3</td>\n",
       "      <td>1</td>\n",
       "      <td>3</td>\n",
       "      <td>1</td>\n",
       "      <td>...</td>\n",
       "      <td>1</td>\n",
       "      <td>False</td>\n",
       "      <td>1</td>\n",
       "      <td>11</td>\n",
       "      <td>1</td>\n",
       "      <td>6</td>\n",
       "      <td>0.64</td>\n",
       "      <td>0.512</td>\n",
       "      <td>3</td>\n",
       "      <td>1</td>\n",
       "    </tr>\n",
       "    <tr>\n",
       "      <th>3</th>\n",
       "      <td>0.8</td>\n",
       "      <td>1931</td>\n",
       "      <td>5</td>\n",
       "      <td>5</td>\n",
       "      <td>17</td>\n",
       "      <td>1.388557e+09</td>\n",
       "      <td>3</td>\n",
       "      <td>1</td>\n",
       "      <td>3</td>\n",
       "      <td>1</td>\n",
       "      <td>...</td>\n",
       "      <td>1</td>\n",
       "      <td>False</td>\n",
       "      <td>1</td>\n",
       "      <td>19</td>\n",
       "      <td>1</td>\n",
       "      <td>6</td>\n",
       "      <td>0.64</td>\n",
       "      <td>0.512</td>\n",
       "      <td>3</td>\n",
       "      <td>1</td>\n",
       "    </tr>\n",
       "    <tr>\n",
       "      <th>4</th>\n",
       "      <td>0.8</td>\n",
       "      <td>1931</td>\n",
       "      <td>5</td>\n",
       "      <td>5</td>\n",
       "      <td>17</td>\n",
       "      <td>1.388557e+09</td>\n",
       "      <td>3</td>\n",
       "      <td>1</td>\n",
       "      <td>3</td>\n",
       "      <td>1</td>\n",
       "      <td>...</td>\n",
       "      <td>1</td>\n",
       "      <td>False</td>\n",
       "      <td>1</td>\n",
       "      <td>23</td>\n",
       "      <td>1</td>\n",
       "      <td>6</td>\n",
       "      <td>0.64</td>\n",
       "      <td>0.512</td>\n",
       "      <td>3</td>\n",
       "      <td>1</td>\n",
       "    </tr>\n",
       "  </tbody>\n",
       "</table>\n",
       "<p>5 rows × 21 columns</p>\n",
       "</div>"
      ],
      "text/plain": [
       "   score  hashtag  lang  tweet_lang  time_zone     timestamp  season  \\\n",
       "0    0.8     1931     5           5         17  1.388556e+09       3   \n",
       "1    0.8     1931     5           5         17  1.388556e+09       3   \n",
       "2    0.8     1931     5           5         17  1.388557e+09       3   \n",
       "3    0.8     1931     5           5         17  1.388557e+09       3   \n",
       "4    0.8     1931     5           5         17  1.388557e+09       3   \n",
       "\n",
       "   day_time  weekday  day_of_year  ...  week_of_year  weekend  day  minute  \\\n",
       "0         3        3            1  ...             1    False    1      59   \n",
       "1         1        3            1  ...             1    False    1       6   \n",
       "2         1        3            1  ...             1    False    1      11   \n",
       "3         1        3            1  ...             1    False    1      19   \n",
       "4         1        3            1  ...             1    False    1      23   \n",
       "\n",
       "   month  hours  score_2  score_3  mood_label  happy  \n",
       "0      1      5     0.64    0.512           3      1  \n",
       "1      1      6     0.64    0.512           3      1  \n",
       "2      1      6     0.64    0.512           3      1  \n",
       "3      1      6     0.64    0.512           3      1  \n",
       "4      1      6     0.64    0.512           3      1  \n",
       "\n",
       "[5 rows x 21 columns]"
      ]
     },
     "execution_count": 47,
     "metadata": {},
     "output_type": "execute_result"
    }
   ],
   "source": [
    "X.head()"
   ]
  },
  {
   "cell_type": "code",
   "execution_count": 48,
   "id": "96bcc326",
   "metadata": {
    "ExecuteTime": {
     "end_time": "2024-06-13T01:22:55.566487Z",
     "start_time": "2024-06-13T01:22:44.760486Z"
    }
   },
   "outputs": [
    {
     "name": "stdout",
     "output_type": "stream",
     "text": [
      "['hashtag', 'time_zone', 'lang', 'tweet_lang'] , ['score', 'timestamp', 'season', 'day_time', 'weekday', 'day_of_year', 'week_of_month', 'week_of_year', 'weekend', 'day', 'minute', 'month', 'hours', 'score_2', 'score_3', 'mood_label', 'happy']\n",
      "2505    63327\n",
      "1931    56546\n",
      "3761    27093\n",
      "790     24966\n",
      "3886    24235\n",
      "        ...  \n",
      "3208        1\n",
      "304         1\n",
      "1583        1\n",
      "1327        1\n",
      "2047        1\n",
      "Name: hashtag, Length: 3544, dtype: int64\n",
      "2505    75411\n",
      "1931    65787\n",
      "3761    31912\n",
      "3886    27684\n",
      "790     27061\n",
      "        ...  \n",
      "3997        1\n",
      "218         1\n",
      "4151        1\n",
      "83          1\n",
      "349         1\n",
      "Name: hashtag, Length: 4104, dtype: int64\n",
      "Resampled class distribution: Counter({3: 95170, 0: 95170, 2: 95170, 1: 95170, 4: 95170})\n"
     ]
    }
   ],
   "source": [
    "# 找出样本最多的类别数量\n",
    "categorical_features = ['hashtag', 'time_zone', 'lang', 'tweet_lang']\n",
    "numerical_features = [column for column in X.columns if column not in categorical_features]\n",
    "print(categorical_features, ',',  numerical_features)\n",
    "# 使用SMOTE进行过采样，使得所有类别的样本数都等于样本最多的类别\n",
    "# X, y = RandomUnderSampler(random_state=42).fit_resample(X, y)\n",
    "print(X['hashtag'].value_counts())\n",
    "X, y = SMOTE(random_state=42, n_jobs = -1).fit_resample(X, y)\n",
    "# 查看过采样后的数据集的类别分布\n",
    "print(X['hashtag'].value_counts())\n",
    "print(f\"Resampled class distribution: {Counter(y)}\")"
   ]
  },
  {
   "cell_type": "code",
   "execution_count": 50,
   "id": "f98f8e1e",
   "metadata": {
    "ExecuteTime": {
     "end_time": "2024-06-13T01:24:13.828234Z",
     "start_time": "2024-06-13T01:22:55.568746Z"
    }
   },
   "outputs": [
    {
     "name": "stdout",
     "output_type": "stream",
     "text": [
      "Cross-validated scores: [0.26147891 0.26033779 0.26508675]\n"
     ]
    },
    {
     "ename": "KeyboardInterrupt",
     "evalue": "",
     "output_type": "error",
     "traceback": [
      "\u001b[0;31m---------------------------------------------------------------------------\u001b[0m",
      "\u001b[0;31mKeyboardInterrupt\u001b[0m                         Traceback (most recent call last)",
      "\u001b[0;32m/tmp/ipykernel_599344/204064940.py\u001b[0m in \u001b[0;36m<module>\u001b[0;34m\u001b[0m\n\u001b[1;32m     37\u001b[0m \u001b[0mprint\u001b[0m\u001b[0;34m(\u001b[0m\u001b[0;34m\"Cross-validated scores:\"\u001b[0m\u001b[0;34m,\u001b[0m \u001b[0mscores\u001b[0m\u001b[0;34m)\u001b[0m\u001b[0;34m\u001b[0m\u001b[0;34m\u001b[0m\u001b[0m\n\u001b[1;32m     38\u001b[0m \u001b[0;34m\u001b[0m\u001b[0m\n\u001b[0;32m---> 39\u001b[0;31m \u001b[0mscores\u001b[0m \u001b[0;34m=\u001b[0m \u001b[0mcross_val_score\u001b[0m\u001b[0;34m(\u001b[0m\u001b[0mrf\u001b[0m\u001b[0;34m,\u001b[0m \u001b[0mX_norm\u001b[0m\u001b[0;34m,\u001b[0m \u001b[0my\u001b[0m\u001b[0;34m,\u001b[0m \u001b[0mcv\u001b[0m\u001b[0;34m=\u001b[0m\u001b[0mkf\u001b[0m\u001b[0;34m,\u001b[0m \u001b[0mscoring\u001b[0m\u001b[0;34m=\u001b[0m\u001b[0;34m'accuracy'\u001b[0m\u001b[0;34m)\u001b[0m\u001b[0;34m\u001b[0m\u001b[0;34m\u001b[0m\u001b[0m\n\u001b[0m\u001b[1;32m     40\u001b[0m \u001b[0;34m\u001b[0m\u001b[0m\n\u001b[1;32m     41\u001b[0m \u001b[0mprint\u001b[0m\u001b[0;34m(\u001b[0m\u001b[0;34m\"Cross-validated scores:\"\u001b[0m\u001b[0;34m,\u001b[0m \u001b[0mscores\u001b[0m\u001b[0;34m)\u001b[0m\u001b[0;34m\u001b[0m\u001b[0;34m\u001b[0m\u001b[0m\n",
      "\u001b[0;32m~/.local/lib/python3.10/site-packages/sklearn/utils/_param_validation.py\u001b[0m in \u001b[0;36mwrapper\u001b[0;34m(*args, **kwargs)\u001b[0m\n\u001b[1;32m    211\u001b[0m                     )\n\u001b[1;32m    212\u001b[0m                 ):\n\u001b[0;32m--> 213\u001b[0;31m                     \u001b[0;32mreturn\u001b[0m \u001b[0mfunc\u001b[0m\u001b[0;34m(\u001b[0m\u001b[0;34m*\u001b[0m\u001b[0margs\u001b[0m\u001b[0;34m,\u001b[0m \u001b[0;34m**\u001b[0m\u001b[0mkwargs\u001b[0m\u001b[0;34m)\u001b[0m\u001b[0;34m\u001b[0m\u001b[0;34m\u001b[0m\u001b[0m\n\u001b[0m\u001b[1;32m    214\u001b[0m             \u001b[0;32mexcept\u001b[0m \u001b[0mInvalidParameterError\u001b[0m \u001b[0;32mas\u001b[0m \u001b[0me\u001b[0m\u001b[0;34m:\u001b[0m\u001b[0;34m\u001b[0m\u001b[0;34m\u001b[0m\u001b[0m\n\u001b[1;32m    215\u001b[0m                 \u001b[0;31m# When the function is just a wrapper around an estimator, we allow\u001b[0m\u001b[0;34m\u001b[0m\u001b[0;34m\u001b[0m\u001b[0m\n",
      "\u001b[0;32m~/.local/lib/python3.10/site-packages/sklearn/model_selection/_validation.py\u001b[0m in \u001b[0;36mcross_val_score\u001b[0;34m(estimator, X, y, groups, scoring, cv, n_jobs, verbose, fit_params, params, pre_dispatch, error_score)\u001b[0m\n\u001b[1;32m    717\u001b[0m     \u001b[0mscorer\u001b[0m \u001b[0;34m=\u001b[0m \u001b[0mcheck_scoring\u001b[0m\u001b[0;34m(\u001b[0m\u001b[0mestimator\u001b[0m\u001b[0;34m,\u001b[0m \u001b[0mscoring\u001b[0m\u001b[0;34m=\u001b[0m\u001b[0mscoring\u001b[0m\u001b[0;34m)\u001b[0m\u001b[0;34m\u001b[0m\u001b[0;34m\u001b[0m\u001b[0m\n\u001b[1;32m    718\u001b[0m \u001b[0;34m\u001b[0m\u001b[0m\n\u001b[0;32m--> 719\u001b[0;31m     cv_results = cross_validate(\n\u001b[0m\u001b[1;32m    720\u001b[0m         \u001b[0mestimator\u001b[0m\u001b[0;34m=\u001b[0m\u001b[0mestimator\u001b[0m\u001b[0;34m,\u001b[0m\u001b[0;34m\u001b[0m\u001b[0;34m\u001b[0m\u001b[0m\n\u001b[1;32m    721\u001b[0m         \u001b[0mX\u001b[0m\u001b[0;34m=\u001b[0m\u001b[0mX\u001b[0m\u001b[0;34m,\u001b[0m\u001b[0;34m\u001b[0m\u001b[0;34m\u001b[0m\u001b[0m\n",
      "\u001b[0;32m~/.local/lib/python3.10/site-packages/sklearn/utils/_param_validation.py\u001b[0m in \u001b[0;36mwrapper\u001b[0;34m(*args, **kwargs)\u001b[0m\n\u001b[1;32m    211\u001b[0m                     )\n\u001b[1;32m    212\u001b[0m                 ):\n\u001b[0;32m--> 213\u001b[0;31m                     \u001b[0;32mreturn\u001b[0m \u001b[0mfunc\u001b[0m\u001b[0;34m(\u001b[0m\u001b[0;34m*\u001b[0m\u001b[0margs\u001b[0m\u001b[0;34m,\u001b[0m \u001b[0;34m**\u001b[0m\u001b[0mkwargs\u001b[0m\u001b[0;34m)\u001b[0m\u001b[0;34m\u001b[0m\u001b[0;34m\u001b[0m\u001b[0m\n\u001b[0m\u001b[1;32m    214\u001b[0m             \u001b[0;32mexcept\u001b[0m \u001b[0mInvalidParameterError\u001b[0m \u001b[0;32mas\u001b[0m \u001b[0me\u001b[0m\u001b[0;34m:\u001b[0m\u001b[0;34m\u001b[0m\u001b[0;34m\u001b[0m\u001b[0m\n\u001b[1;32m    215\u001b[0m                 \u001b[0;31m# When the function is just a wrapper around an estimator, we allow\u001b[0m\u001b[0;34m\u001b[0m\u001b[0;34m\u001b[0m\u001b[0m\n",
      "\u001b[0;32m~/.local/lib/python3.10/site-packages/sklearn/model_selection/_validation.py\u001b[0m in \u001b[0;36mcross_validate\u001b[0;34m(estimator, X, y, groups, scoring, cv, n_jobs, verbose, fit_params, params, pre_dispatch, return_train_score, return_estimator, return_indices, error_score)\u001b[0m\n\u001b[1;32m    428\u001b[0m     \u001b[0;31m# independent, and that it is pickle-able.\u001b[0m\u001b[0;34m\u001b[0m\u001b[0;34m\u001b[0m\u001b[0m\n\u001b[1;32m    429\u001b[0m     \u001b[0mparallel\u001b[0m \u001b[0;34m=\u001b[0m \u001b[0mParallel\u001b[0m\u001b[0;34m(\u001b[0m\u001b[0mn_jobs\u001b[0m\u001b[0;34m=\u001b[0m\u001b[0mn_jobs\u001b[0m\u001b[0;34m,\u001b[0m \u001b[0mverbose\u001b[0m\u001b[0;34m=\u001b[0m\u001b[0mverbose\u001b[0m\u001b[0;34m,\u001b[0m \u001b[0mpre_dispatch\u001b[0m\u001b[0;34m=\u001b[0m\u001b[0mpre_dispatch\u001b[0m\u001b[0;34m)\u001b[0m\u001b[0;34m\u001b[0m\u001b[0;34m\u001b[0m\u001b[0m\n\u001b[0;32m--> 430\u001b[0;31m     results = parallel(\n\u001b[0m\u001b[1;32m    431\u001b[0m         delayed(_fit_and_score)(\n\u001b[1;32m    432\u001b[0m             \u001b[0mclone\u001b[0m\u001b[0;34m(\u001b[0m\u001b[0mestimator\u001b[0m\u001b[0;34m)\u001b[0m\u001b[0;34m,\u001b[0m\u001b[0;34m\u001b[0m\u001b[0;34m\u001b[0m\u001b[0m\n",
      "\u001b[0;32m~/.local/lib/python3.10/site-packages/sklearn/utils/parallel.py\u001b[0m in \u001b[0;36m__call__\u001b[0;34m(self, iterable)\u001b[0m\n\u001b[1;32m     65\u001b[0m             \u001b[0;32mfor\u001b[0m \u001b[0mdelayed_func\u001b[0m\u001b[0;34m,\u001b[0m \u001b[0margs\u001b[0m\u001b[0;34m,\u001b[0m \u001b[0mkwargs\u001b[0m \u001b[0;32min\u001b[0m \u001b[0miterable\u001b[0m\u001b[0;34m\u001b[0m\u001b[0;34m\u001b[0m\u001b[0m\n\u001b[1;32m     66\u001b[0m         )\n\u001b[0;32m---> 67\u001b[0;31m         \u001b[0;32mreturn\u001b[0m \u001b[0msuper\u001b[0m\u001b[0;34m(\u001b[0m\u001b[0;34m)\u001b[0m\u001b[0;34m.\u001b[0m\u001b[0m__call__\u001b[0m\u001b[0;34m(\u001b[0m\u001b[0miterable_with_config\u001b[0m\u001b[0;34m)\u001b[0m\u001b[0;34m\u001b[0m\u001b[0;34m\u001b[0m\u001b[0m\n\u001b[0m\u001b[1;32m     68\u001b[0m \u001b[0;34m\u001b[0m\u001b[0m\n\u001b[1;32m     69\u001b[0m \u001b[0;34m\u001b[0m\u001b[0m\n",
      "\u001b[0;32m~/.local/lib/python3.10/site-packages/joblib/parallel.py\u001b[0m in \u001b[0;36m__call__\u001b[0;34m(self, iterable)\u001b[0m\n\u001b[1;32m   1861\u001b[0m             \u001b[0moutput\u001b[0m \u001b[0;34m=\u001b[0m \u001b[0mself\u001b[0m\u001b[0;34m.\u001b[0m\u001b[0m_get_sequential_output\u001b[0m\u001b[0;34m(\u001b[0m\u001b[0miterable\u001b[0m\u001b[0;34m)\u001b[0m\u001b[0;34m\u001b[0m\u001b[0;34m\u001b[0m\u001b[0m\n\u001b[1;32m   1862\u001b[0m             \u001b[0mnext\u001b[0m\u001b[0;34m(\u001b[0m\u001b[0moutput\u001b[0m\u001b[0;34m)\u001b[0m\u001b[0;34m\u001b[0m\u001b[0;34m\u001b[0m\u001b[0m\n\u001b[0;32m-> 1863\u001b[0;31m             \u001b[0;32mreturn\u001b[0m \u001b[0moutput\u001b[0m \u001b[0;32mif\u001b[0m \u001b[0mself\u001b[0m\u001b[0;34m.\u001b[0m\u001b[0mreturn_generator\u001b[0m \u001b[0;32melse\u001b[0m \u001b[0mlist\u001b[0m\u001b[0;34m(\u001b[0m\u001b[0moutput\u001b[0m\u001b[0;34m)\u001b[0m\u001b[0;34m\u001b[0m\u001b[0;34m\u001b[0m\u001b[0m\n\u001b[0m\u001b[1;32m   1864\u001b[0m \u001b[0;34m\u001b[0m\u001b[0m\n\u001b[1;32m   1865\u001b[0m         \u001b[0;31m# Let's create an ID that uniquely identifies the current call. If the\u001b[0m\u001b[0;34m\u001b[0m\u001b[0;34m\u001b[0m\u001b[0m\n",
      "\u001b[0;32m~/.local/lib/python3.10/site-packages/joblib/parallel.py\u001b[0m in \u001b[0;36m_get_sequential_output\u001b[0;34m(self, iterable)\u001b[0m\n\u001b[1;32m   1790\u001b[0m                 \u001b[0mself\u001b[0m\u001b[0;34m.\u001b[0m\u001b[0mn_dispatched_batches\u001b[0m \u001b[0;34m+=\u001b[0m \u001b[0;36m1\u001b[0m\u001b[0;34m\u001b[0m\u001b[0;34m\u001b[0m\u001b[0m\n\u001b[1;32m   1791\u001b[0m                 \u001b[0mself\u001b[0m\u001b[0;34m.\u001b[0m\u001b[0mn_dispatched_tasks\u001b[0m \u001b[0;34m+=\u001b[0m \u001b[0;36m1\u001b[0m\u001b[0;34m\u001b[0m\u001b[0;34m\u001b[0m\u001b[0m\n\u001b[0;32m-> 1792\u001b[0;31m                 \u001b[0mres\u001b[0m \u001b[0;34m=\u001b[0m \u001b[0mfunc\u001b[0m\u001b[0;34m(\u001b[0m\u001b[0;34m*\u001b[0m\u001b[0margs\u001b[0m\u001b[0;34m,\u001b[0m \u001b[0;34m**\u001b[0m\u001b[0mkwargs\u001b[0m\u001b[0;34m)\u001b[0m\u001b[0;34m\u001b[0m\u001b[0;34m\u001b[0m\u001b[0m\n\u001b[0m\u001b[1;32m   1793\u001b[0m                 \u001b[0mself\u001b[0m\u001b[0;34m.\u001b[0m\u001b[0mn_completed_tasks\u001b[0m \u001b[0;34m+=\u001b[0m \u001b[0;36m1\u001b[0m\u001b[0;34m\u001b[0m\u001b[0;34m\u001b[0m\u001b[0m\n\u001b[1;32m   1794\u001b[0m                 \u001b[0mself\u001b[0m\u001b[0;34m.\u001b[0m\u001b[0mprint_progress\u001b[0m\u001b[0;34m(\u001b[0m\u001b[0;34m)\u001b[0m\u001b[0;34m\u001b[0m\u001b[0;34m\u001b[0m\u001b[0m\n",
      "\u001b[0;32m~/.local/lib/python3.10/site-packages/sklearn/utils/parallel.py\u001b[0m in \u001b[0;36m__call__\u001b[0;34m(self, *args, **kwargs)\u001b[0m\n\u001b[1;32m    127\u001b[0m             \u001b[0mconfig\u001b[0m \u001b[0;34m=\u001b[0m \u001b[0;34m{\u001b[0m\u001b[0;34m}\u001b[0m\u001b[0;34m\u001b[0m\u001b[0;34m\u001b[0m\u001b[0m\n\u001b[1;32m    128\u001b[0m         \u001b[0;32mwith\u001b[0m \u001b[0mconfig_context\u001b[0m\u001b[0;34m(\u001b[0m\u001b[0;34m**\u001b[0m\u001b[0mconfig\u001b[0m\u001b[0;34m)\u001b[0m\u001b[0;34m:\u001b[0m\u001b[0;34m\u001b[0m\u001b[0;34m\u001b[0m\u001b[0m\n\u001b[0;32m--> 129\u001b[0;31m             \u001b[0;32mreturn\u001b[0m \u001b[0mself\u001b[0m\u001b[0;34m.\u001b[0m\u001b[0mfunction\u001b[0m\u001b[0;34m(\u001b[0m\u001b[0;34m*\u001b[0m\u001b[0margs\u001b[0m\u001b[0;34m,\u001b[0m \u001b[0;34m**\u001b[0m\u001b[0mkwargs\u001b[0m\u001b[0;34m)\u001b[0m\u001b[0;34m\u001b[0m\u001b[0;34m\u001b[0m\u001b[0m\n\u001b[0m",
      "\u001b[0;32m~/.local/lib/python3.10/site-packages/sklearn/model_selection/_validation.py\u001b[0m in \u001b[0;36m_fit_and_score\u001b[0;34m(estimator, X, y, scorer, train, test, verbose, parameters, fit_params, score_params, return_train_score, return_parameters, return_n_test_samples, return_times, return_estimator, split_progress, candidate_progress, error_score)\u001b[0m\n\u001b[1;32m    893\u001b[0m             \u001b[0mestimator\u001b[0m\u001b[0;34m.\u001b[0m\u001b[0mfit\u001b[0m\u001b[0;34m(\u001b[0m\u001b[0mX_train\u001b[0m\u001b[0;34m,\u001b[0m \u001b[0;34m**\u001b[0m\u001b[0mfit_params\u001b[0m\u001b[0;34m)\u001b[0m\u001b[0;34m\u001b[0m\u001b[0;34m\u001b[0m\u001b[0m\n\u001b[1;32m    894\u001b[0m         \u001b[0;32melse\u001b[0m\u001b[0;34m:\u001b[0m\u001b[0;34m\u001b[0m\u001b[0;34m\u001b[0m\u001b[0m\n\u001b[0;32m--> 895\u001b[0;31m             \u001b[0mestimator\u001b[0m\u001b[0;34m.\u001b[0m\u001b[0mfit\u001b[0m\u001b[0;34m(\u001b[0m\u001b[0mX_train\u001b[0m\u001b[0;34m,\u001b[0m \u001b[0my_train\u001b[0m\u001b[0;34m,\u001b[0m \u001b[0;34m**\u001b[0m\u001b[0mfit_params\u001b[0m\u001b[0;34m)\u001b[0m\u001b[0;34m\u001b[0m\u001b[0;34m\u001b[0m\u001b[0m\n\u001b[0m\u001b[1;32m    896\u001b[0m \u001b[0;34m\u001b[0m\u001b[0m\n\u001b[1;32m    897\u001b[0m     \u001b[0;32mexcept\u001b[0m \u001b[0mException\u001b[0m\u001b[0;34m:\u001b[0m\u001b[0;34m\u001b[0m\u001b[0;34m\u001b[0m\u001b[0m\n",
      "\u001b[0;32m~/.local/lib/python3.10/site-packages/sklearn/base.py\u001b[0m in \u001b[0;36mwrapper\u001b[0;34m(estimator, *args, **kwargs)\u001b[0m\n\u001b[1;32m   1472\u001b[0m                 )\n\u001b[1;32m   1473\u001b[0m             ):\n\u001b[0;32m-> 1474\u001b[0;31m                 \u001b[0;32mreturn\u001b[0m \u001b[0mfit_method\u001b[0m\u001b[0;34m(\u001b[0m\u001b[0mestimator\u001b[0m\u001b[0;34m,\u001b[0m \u001b[0;34m*\u001b[0m\u001b[0margs\u001b[0m\u001b[0;34m,\u001b[0m \u001b[0;34m**\u001b[0m\u001b[0mkwargs\u001b[0m\u001b[0;34m)\u001b[0m\u001b[0;34m\u001b[0m\u001b[0;34m\u001b[0m\u001b[0m\n\u001b[0m\u001b[1;32m   1475\u001b[0m \u001b[0;34m\u001b[0m\u001b[0m\n\u001b[1;32m   1476\u001b[0m         \u001b[0;32mreturn\u001b[0m \u001b[0mwrapper\u001b[0m\u001b[0;34m\u001b[0m\u001b[0;34m\u001b[0m\u001b[0m\n",
      "\u001b[0;32m~/.local/lib/python3.10/site-packages/sklearn/ensemble/_forest.py\u001b[0m in \u001b[0;36mfit\u001b[0;34m(self, X, y, sample_weight)\u001b[0m\n\u001b[1;32m    487\u001b[0m             \u001b[0;31m# parallel_backend contexts set at a higher level,\u001b[0m\u001b[0;34m\u001b[0m\u001b[0;34m\u001b[0m\u001b[0m\n\u001b[1;32m    488\u001b[0m             \u001b[0;31m# since correctness does not rely on using threads.\u001b[0m\u001b[0;34m\u001b[0m\u001b[0;34m\u001b[0m\u001b[0m\n\u001b[0;32m--> 489\u001b[0;31m             trees = Parallel(\n\u001b[0m\u001b[1;32m    490\u001b[0m                 \u001b[0mn_jobs\u001b[0m\u001b[0;34m=\u001b[0m\u001b[0mself\u001b[0m\u001b[0;34m.\u001b[0m\u001b[0mn_jobs\u001b[0m\u001b[0;34m,\u001b[0m\u001b[0;34m\u001b[0m\u001b[0;34m\u001b[0m\u001b[0m\n\u001b[1;32m    491\u001b[0m                 \u001b[0mverbose\u001b[0m\u001b[0;34m=\u001b[0m\u001b[0mself\u001b[0m\u001b[0;34m.\u001b[0m\u001b[0mverbose\u001b[0m\u001b[0;34m,\u001b[0m\u001b[0;34m\u001b[0m\u001b[0;34m\u001b[0m\u001b[0m\n",
      "\u001b[0;32m~/.local/lib/python3.10/site-packages/sklearn/utils/parallel.py\u001b[0m in \u001b[0;36m__call__\u001b[0;34m(self, iterable)\u001b[0m\n\u001b[1;32m     65\u001b[0m             \u001b[0;32mfor\u001b[0m \u001b[0mdelayed_func\u001b[0m\u001b[0;34m,\u001b[0m \u001b[0margs\u001b[0m\u001b[0;34m,\u001b[0m \u001b[0mkwargs\u001b[0m \u001b[0;32min\u001b[0m \u001b[0miterable\u001b[0m\u001b[0;34m\u001b[0m\u001b[0;34m\u001b[0m\u001b[0m\n\u001b[1;32m     66\u001b[0m         )\n\u001b[0;32m---> 67\u001b[0;31m         \u001b[0;32mreturn\u001b[0m \u001b[0msuper\u001b[0m\u001b[0;34m(\u001b[0m\u001b[0;34m)\u001b[0m\u001b[0;34m.\u001b[0m\u001b[0m__call__\u001b[0m\u001b[0;34m(\u001b[0m\u001b[0miterable_with_config\u001b[0m\u001b[0;34m)\u001b[0m\u001b[0;34m\u001b[0m\u001b[0;34m\u001b[0m\u001b[0m\n\u001b[0m\u001b[1;32m     68\u001b[0m \u001b[0;34m\u001b[0m\u001b[0m\n\u001b[1;32m     69\u001b[0m \u001b[0;34m\u001b[0m\u001b[0m\n",
      "\u001b[0;32m~/.local/lib/python3.10/site-packages/joblib/parallel.py\u001b[0m in \u001b[0;36m__call__\u001b[0;34m(self, iterable)\u001b[0m\n\u001b[1;32m   1861\u001b[0m             \u001b[0moutput\u001b[0m \u001b[0;34m=\u001b[0m \u001b[0mself\u001b[0m\u001b[0;34m.\u001b[0m\u001b[0m_get_sequential_output\u001b[0m\u001b[0;34m(\u001b[0m\u001b[0miterable\u001b[0m\u001b[0;34m)\u001b[0m\u001b[0;34m\u001b[0m\u001b[0;34m\u001b[0m\u001b[0m\n\u001b[1;32m   1862\u001b[0m             \u001b[0mnext\u001b[0m\u001b[0;34m(\u001b[0m\u001b[0moutput\u001b[0m\u001b[0;34m)\u001b[0m\u001b[0;34m\u001b[0m\u001b[0;34m\u001b[0m\u001b[0m\n\u001b[0;32m-> 1863\u001b[0;31m             \u001b[0;32mreturn\u001b[0m \u001b[0moutput\u001b[0m \u001b[0;32mif\u001b[0m \u001b[0mself\u001b[0m\u001b[0;34m.\u001b[0m\u001b[0mreturn_generator\u001b[0m \u001b[0;32melse\u001b[0m \u001b[0mlist\u001b[0m\u001b[0;34m(\u001b[0m\u001b[0moutput\u001b[0m\u001b[0;34m)\u001b[0m\u001b[0;34m\u001b[0m\u001b[0;34m\u001b[0m\u001b[0m\n\u001b[0m\u001b[1;32m   1864\u001b[0m \u001b[0;34m\u001b[0m\u001b[0m\n\u001b[1;32m   1865\u001b[0m         \u001b[0;31m# Let's create an ID that uniquely identifies the current call. If the\u001b[0m\u001b[0;34m\u001b[0m\u001b[0;34m\u001b[0m\u001b[0m\n",
      "\u001b[0;32m~/.local/lib/python3.10/site-packages/joblib/parallel.py\u001b[0m in \u001b[0;36m_get_sequential_output\u001b[0;34m(self, iterable)\u001b[0m\n\u001b[1;32m   1790\u001b[0m                 \u001b[0mself\u001b[0m\u001b[0;34m.\u001b[0m\u001b[0mn_dispatched_batches\u001b[0m \u001b[0;34m+=\u001b[0m \u001b[0;36m1\u001b[0m\u001b[0;34m\u001b[0m\u001b[0;34m\u001b[0m\u001b[0m\n\u001b[1;32m   1791\u001b[0m                 \u001b[0mself\u001b[0m\u001b[0;34m.\u001b[0m\u001b[0mn_dispatched_tasks\u001b[0m \u001b[0;34m+=\u001b[0m \u001b[0;36m1\u001b[0m\u001b[0;34m\u001b[0m\u001b[0;34m\u001b[0m\u001b[0m\n\u001b[0;32m-> 1792\u001b[0;31m                 \u001b[0mres\u001b[0m \u001b[0;34m=\u001b[0m \u001b[0mfunc\u001b[0m\u001b[0;34m(\u001b[0m\u001b[0;34m*\u001b[0m\u001b[0margs\u001b[0m\u001b[0;34m,\u001b[0m \u001b[0;34m**\u001b[0m\u001b[0mkwargs\u001b[0m\u001b[0;34m)\u001b[0m\u001b[0;34m\u001b[0m\u001b[0;34m\u001b[0m\u001b[0m\n\u001b[0m\u001b[1;32m   1793\u001b[0m                 \u001b[0mself\u001b[0m\u001b[0;34m.\u001b[0m\u001b[0mn_completed_tasks\u001b[0m \u001b[0;34m+=\u001b[0m \u001b[0;36m1\u001b[0m\u001b[0;34m\u001b[0m\u001b[0;34m\u001b[0m\u001b[0m\n\u001b[1;32m   1794\u001b[0m                 \u001b[0mself\u001b[0m\u001b[0;34m.\u001b[0m\u001b[0mprint_progress\u001b[0m\u001b[0;34m(\u001b[0m\u001b[0;34m)\u001b[0m\u001b[0;34m\u001b[0m\u001b[0;34m\u001b[0m\u001b[0m\n",
      "\u001b[0;32m~/.local/lib/python3.10/site-packages/sklearn/utils/parallel.py\u001b[0m in \u001b[0;36m__call__\u001b[0;34m(self, *args, **kwargs)\u001b[0m\n\u001b[1;32m    127\u001b[0m             \u001b[0mconfig\u001b[0m \u001b[0;34m=\u001b[0m \u001b[0;34m{\u001b[0m\u001b[0;34m}\u001b[0m\u001b[0;34m\u001b[0m\u001b[0;34m\u001b[0m\u001b[0m\n\u001b[1;32m    128\u001b[0m         \u001b[0;32mwith\u001b[0m \u001b[0mconfig_context\u001b[0m\u001b[0;34m(\u001b[0m\u001b[0;34m**\u001b[0m\u001b[0mconfig\u001b[0m\u001b[0;34m)\u001b[0m\u001b[0;34m:\u001b[0m\u001b[0;34m\u001b[0m\u001b[0;34m\u001b[0m\u001b[0m\n\u001b[0;32m--> 129\u001b[0;31m             \u001b[0;32mreturn\u001b[0m \u001b[0mself\u001b[0m\u001b[0;34m.\u001b[0m\u001b[0mfunction\u001b[0m\u001b[0;34m(\u001b[0m\u001b[0;34m*\u001b[0m\u001b[0margs\u001b[0m\u001b[0;34m,\u001b[0m \u001b[0;34m**\u001b[0m\u001b[0mkwargs\u001b[0m\u001b[0;34m)\u001b[0m\u001b[0;34m\u001b[0m\u001b[0;34m\u001b[0m\u001b[0m\n\u001b[0m",
      "\u001b[0;32m~/.local/lib/python3.10/site-packages/sklearn/ensemble/_forest.py\u001b[0m in \u001b[0;36m_parallel_build_trees\u001b[0;34m(tree, bootstrap, X, y, sample_weight, tree_idx, n_trees, verbose, class_weight, n_samples_bootstrap, missing_values_in_feature_mask)\u001b[0m\n\u001b[1;32m    190\u001b[0m             \u001b[0mcurr_sample_weight\u001b[0m \u001b[0;34m*=\u001b[0m \u001b[0mcompute_sample_weight\u001b[0m\u001b[0;34m(\u001b[0m\u001b[0;34m\"balanced\"\u001b[0m\u001b[0;34m,\u001b[0m \u001b[0my\u001b[0m\u001b[0;34m,\u001b[0m \u001b[0mindices\u001b[0m\u001b[0;34m=\u001b[0m\u001b[0mindices\u001b[0m\u001b[0;34m)\u001b[0m\u001b[0;34m\u001b[0m\u001b[0;34m\u001b[0m\u001b[0m\n\u001b[1;32m    191\u001b[0m \u001b[0;34m\u001b[0m\u001b[0m\n\u001b[0;32m--> 192\u001b[0;31m         tree._fit(\n\u001b[0m\u001b[1;32m    193\u001b[0m             \u001b[0mX\u001b[0m\u001b[0;34m,\u001b[0m\u001b[0;34m\u001b[0m\u001b[0;34m\u001b[0m\u001b[0m\n\u001b[1;32m    194\u001b[0m             \u001b[0my\u001b[0m\u001b[0;34m,\u001b[0m\u001b[0;34m\u001b[0m\u001b[0;34m\u001b[0m\u001b[0m\n",
      "\u001b[0;32m~/.local/lib/python3.10/site-packages/sklearn/tree/_classes.py\u001b[0m in \u001b[0;36m_fit\u001b[0;34m(self, X, y, sample_weight, check_input, missing_values_in_feature_mask)\u001b[0m\n\u001b[1;32m    470\u001b[0m             )\n\u001b[1;32m    471\u001b[0m \u001b[0;34m\u001b[0m\u001b[0m\n\u001b[0;32m--> 472\u001b[0;31m         \u001b[0mbuilder\u001b[0m\u001b[0;34m.\u001b[0m\u001b[0mbuild\u001b[0m\u001b[0;34m(\u001b[0m\u001b[0mself\u001b[0m\u001b[0;34m.\u001b[0m\u001b[0mtree_\u001b[0m\u001b[0;34m,\u001b[0m \u001b[0mX\u001b[0m\u001b[0;34m,\u001b[0m \u001b[0my\u001b[0m\u001b[0;34m,\u001b[0m \u001b[0msample_weight\u001b[0m\u001b[0;34m,\u001b[0m \u001b[0mmissing_values_in_feature_mask\u001b[0m\u001b[0;34m)\u001b[0m\u001b[0;34m\u001b[0m\u001b[0;34m\u001b[0m\u001b[0m\n\u001b[0m\u001b[1;32m    473\u001b[0m \u001b[0;34m\u001b[0m\u001b[0m\n\u001b[1;32m    474\u001b[0m         \u001b[0;32mif\u001b[0m \u001b[0mself\u001b[0m\u001b[0;34m.\u001b[0m\u001b[0mn_outputs_\u001b[0m \u001b[0;34m==\u001b[0m \u001b[0;36m1\u001b[0m \u001b[0;32mand\u001b[0m \u001b[0mis_classifier\u001b[0m\u001b[0;34m(\u001b[0m\u001b[0mself\u001b[0m\u001b[0;34m)\u001b[0m\u001b[0;34m:\u001b[0m\u001b[0;34m\u001b[0m\u001b[0;34m\u001b[0m\u001b[0m\n",
      "\u001b[0;31mKeyboardInterrupt\u001b[0m: "
     ]
    }
   ],
   "source": [
    "from sklearn.ensemble import RandomForestClassifier\n",
    "from lightgbm import LGBMClassifier\n",
    "from sklearn.linear_model import LogisticRegression\n",
    "import numpy as np\n",
    "from sklearn.decomposition import PCA\n",
    "from sklearn.discriminant_analysis import LinearDiscriminantAnalysis as LDA\n",
    "from sklearn.model_selection import train_test_split, cross_val_score, StratifiedKFold\n",
    "from sklearn.metrics import accuracy_score, f1_score\n",
    "from sklearn.ensemble import RandomForestClassifier\n",
    "import lightgbm as lgb\n",
    "from sklearn.linear_model import LinearRegression\n",
    "import time\n",
    "from sklearn.utils.class_weight import compute_class_weight\n",
    "from imblearn.over_sampling import SMOTE\n",
    "from imblearn.pipeline import make_pipeline\n",
    "from imblearn.under_sampling import NearMiss\n",
    "from catboost import CatBoostClassifier\n",
    "from sklearn.preprocessing import StandardScaler, MinMaxScaler\n",
    "\n",
    "lreg = LogisticRegression(C = 0.1, max_iter=5000)\n",
    "rf = RandomForestClassifier(n_estimators=10, random_state=42)\n",
    "catboost = CatBoostClassifier(iterations=400, \n",
    "                               learning_rate=0.1, \n",
    "                               depth=6, \n",
    "                               cat_features=categorical_features,\n",
    "                               verbose=100,\n",
    "                               task_type='GPU', \n",
    "                               devices='0'\n",
    "                              )\n",
    "\n",
    "kf = StratifiedKFold(n_splits=3, shuffle=True, random_state=42)\n",
    "# 进行交叉验证\n",
    "X_norm = MinMaxScaler().fit_transform(X)\n",
    "X_norm = StandardScaler().fit_transform(X_norm)\n",
    "scores = cross_val_score(lreg, X_norm, y, cv=kf, scoring='accuracy')\n",
    "\n",
    "print(\"Cross-validated scores:\", scores)\n",
    "\n",
    "scores = cross_val_score(rf, X_norm, y, cv=kf, scoring='accuracy')\n",
    "\n",
    "print(\"Cross-validated scores:\", scores)\n",
    "\n",
    "scores = cross_val_score(catboost, X, y, cv=kf, scoring='accuracy')\n",
    "\n",
    "print(\"Cross-validated scores:\", scores)"
   ]
  },
  {
   "cell_type": "code",
   "execution_count": 12,
   "id": "0e522c1e",
   "metadata": {},
   "outputs": [
    {
     "data": {
      "text/plain": [
       "2    95603\n",
       "0    94263\n",
       "1    71244\n",
       "3    42572\n",
       "Name: season, dtype: int64"
      ]
     },
     "execution_count": 12,
     "metadata": {},
     "output_type": "execute_result"
    }
   ],
   "source": []
  },
  {
   "cell_type": "code",
   "execution_count": null,
   "id": "634bbf0b",
   "metadata": {
    "ExecuteTime": {
     "end_time": "2024-05-30T13:00:09.539018Z",
     "start_time": "2024-05-30T13:00:09.539005Z"
    }
   },
   "outputs": [],
   "source": [
    "# 方法3: 基于交叉验证的方法\n",
    "scores = []\n",
    "for n in range(1, len(set(y))):\n",
    "    X_reduced = LDA(n_components=n).fit_transform(X_norm, y)\n",
    "    score = cross_val_score(lreg, X_reduced, y, cv=kf).mean()\n",
    "    scores.append(score)\n",
    "\n",
    "optimal_components = np.argmax(scores) + 1\n",
    "print(f\"Optimal number of components based on cross-validation: {optimal_components}\")"
   ]
  },
  {
   "cell_type": "code",
   "execution_count": null,
   "id": "e3d38379",
   "metadata": {
    "ExecuteTime": {
     "end_time": "2024-05-30T13:00:09.540872Z",
     "start_time": "2024-05-30T13:00:09.540857Z"
    }
   },
   "outputs": [],
   "source": [
    "plt.figure(figsize=(12, 8))\n",
    "plt.plot(range(1, len(set(y))), scores, marker='o')\n",
    "plt.xlabel('Number of Components')\n",
    "plt.ylabel('Cross-Validated Score')\n",
    "plt.title('Cross-Validated Score by PCA Components')\n",
    "plt.grid(True)\n",
    "plt.show()"
   ]
  },
  {
   "cell_type": "code",
   "execution_count": null,
   "id": "2b2f13eb",
   "metadata": {
    "ExecuteTime": {
     "end_time": "2024-05-30T13:00:09.541789Z",
     "start_time": "2024-05-30T13:00:09.541775Z"
    }
   },
   "outputs": [],
   "source": [
    "# 方法3: 基于交叉验证的方法\n",
    "scores = []\n",
    "for n in range(1, X_norm.shape[1] + 1):\n",
    "    X_reduced = PCA(n_components=n, random_state=42).fit_transform(X_norm)\n",
    "    score = cross_val_score(rf, X_reduced, y, cv=kf).mean()\n",
    "    scores.append(score)\n",
    "\n",
    "optimal_components = np.argmax(scores) + 1\n",
    "print(f\"Optimal number of components based on cross-validation: {optimal_components}\")\n",
    "\n",
    "plt.figure(figsize=(12, 8))\n",
    "plt.plot(range(1, X_norm.shape[1] + 1), scores, marker='o')\n",
    "plt.xlabel('Number of Components')\n",
    "plt.ylabel('Cross-Validated Score')\n",
    "plt.title('Cross-Validated Score by PCA Components')\n",
    "plt.grid(True)\n",
    "plt.show()"
   ]
  },
  {
   "cell_type": "code",
   "execution_count": null,
   "id": "6dc069a6",
   "metadata": {
    "ExecuteTime": {
     "end_time": "2024-05-30T13:00:09.543241Z",
     "start_time": "2024-05-30T13:00:09.543227Z"
    }
   },
   "outputs": [],
   "source": [
    "categorical_features_indices = [1, 2, 3, 4, 6, 7, 19, 20]\n",
    "\n",
    "catboost = CatBoostClassifier(iterations=100, \n",
    "                               learning_rate=0.1, \n",
    "                               depth=6, \n",
    "                               verbose=50,\n",
    "                               task_type='GPU', \n",
    "                               devices='0',\n",
    "                               cat_features = [i for i in range(len(categorical_features_indices))]\n",
    "                              )\n",
    "numerical_columns = [i for i in range(len(X.columns)) if i not in categorical_features_indices]\n",
    "print(numerical_columns)\n",
    "X_cat = X.iloc[:, categorical_features_indices]\n",
    "X_num = X.iloc[:, numerical_columns]\n",
    "\n",
    "scores = []\n",
    "for n in range(1, X_num.shape[1] + 1):\n",
    "    pca = PCA(n_components=n)\n",
    "    X_reduced = pca.fit_transform(X_num)\n",
    "    X_concat = pd.concat([X_cat, X_num], axis = 1)\n",
    "    score = cross_val_score(catboost, X_concat, y, cv=2).mean()\n",
    "    scores.append(score)\n",
    "\n",
    "optimal_components = np.argmax(scores) + 1\n",
    "print(f\"Optimal number of components based on cross-validation: {optimal_components}\")\n",
    "\n",
    "plt.figure(figsize=(12, 8))\n",
    "plt.plot(range(1, X_cat.shape[1] + 1), scores, marker='o')\n",
    "plt.xlabel('Number of Components')\n",
    "plt.ylabel('Cross-Validated Score')\n",
    "plt.title('Cross-Validated Score by PCA Components')\n",
    "plt.grid(True)\n",
    "plt.show()"
   ]
  },
  {
   "cell_type": "code",
   "execution_count": null,
   "id": "6d975d33",
   "metadata": {
    "ExecuteTime": {
     "end_time": "2024-05-30T13:00:09.544394Z",
     "start_time": "2024-05-30T13:00:09.544380Z"
    },
    "scrolled": true
   },
   "outputs": [],
   "source": [
    "import numpy as np\n",
    "from sklearn import datasets\n",
    "from sklearn.model_selection import train_test_split, cross_val_score, StratifiedKFold\n",
    "from sklearn.metrics import accuracy_score, f1_score\n",
    "from sklearn.ensemble import RandomForestClassifier\n",
    "import lightgbm as lgb\n",
    "from sklearn.linear_model import LinearRegression, LogisticRegression\n",
    "import time\n",
    "from sklearn.utils.class_weight import compute_class_weight \n",
    "from catboost import CatBoostClassifier\n",
    "from imblearn.over_sampling import SMOTE\n",
    "from imblearn.pipeline import make_pipeline\n",
    "from sklearn.preprocessing import StandardScaler, MinMaxScaler\n",
    "\n",
    "# 定义模型\n",
    "models = {\n",
    "    'LogisticRegression': lreg,\n",
    "    'RandomForest': rf,\n",
    "}\n",
    "\n",
    "# 定义评估指标\n",
    "num_classes = len(set(y))\n",
    "print(num_classes)\n",
    "\n",
    "scoring = []\n",
    "if num_classes == 2:\n",
    "    scoring = ['accuracy', 'precision', 'recall', 'f1']\n",
    "elif num_classes > 2:\n",
    "    scoring = ['accuracy', 'f1_micro', 'f1_macro', 'f1_weighted']\n",
    "else:\n",
    "    print(f'Error num_classes of {num_classes}')\n",
    "\n",
    "# 训练模型并评估\n",
    "results = {name: [] for name in models}\n",
    "results['CatBoost'] = []\n",
    "X_pca = PCA(n_components = 11).fit_transform(X_norm)\n",
    "X_lda = LDA(n_components = 4). fit_transform(X_norm, y)\n",
    "for model_name, model in models.items():\n",
    "    print(f\"Evaluating {model_name}...\")\n",
    "    start_time = time.time()\n",
    "    for score_name in scoring:\n",
    "        score = cross_val_score(model, X_lda, y, scoring=score_name, cv=kf, n_jobs=-1)\n",
    "        results[model_name].append((score.mean(), score.std()))\n",
    "    end_time = time.time()\n",
    "    print(f'{model_name}运行时间为：{end_time - start_time}')\n",
    "\n",
    "\n",
    "start_time = time.time()\n",
    "for score_name in scoring:\n",
    "    score = cross_val_score(catboost, X, y, scoring=score_name, cv=kf, n_jobs=-1)\n",
    "    results['CatBoost'].append((score.mean(), score.std()))\n",
    "end_time = time.time()\n",
    "print(f' CatBoost运行时间为：{end_time - start_time}')\n",
    "\n",
    "# 输出结果\n",
    "for model_name, model_scores in results.items():\n",
    "    print(f\"\\nResults for {model_name}:\")\n",
    "    for i, score_name in enumerate(scoring):\n",
    "        mean, std = model_scores[i]\n",
    "        print(f\"{score_name}: {100 * mean:.2f}±{100 * std:.2f}\")"
   ]
  },
  {
   "cell_type": "code",
   "execution_count": null,
   "id": "ae74c07d",
   "metadata": {
    "ExecuteTime": {
     "end_time": "2024-05-30T13:00:09.545490Z",
     "start_time": "2024-05-30T13:00:09.545477Z"
    }
   },
   "outputs": [],
   "source": [
    "X"
   ]
  },
  {
   "cell_type": "code",
   "execution_count": null,
   "id": "09e08728",
   "metadata": {
    "ExecuteTime": {
     "end_time": "2024-05-30T13:00:09.546914Z",
     "start_time": "2024-05-30T13:00:09.546900Z"
    }
   },
   "outputs": [],
   "source": [
    "# 应用PCA\n",
    "X_norm = MinMaxScaler().fit_transform(X)\n",
    "X_norm = StandardScaler().fit_transform(X_norm)\n",
    "\n",
    "pca = PCA()\n",
    "X_pca = pca.fit_transform(X_norm)\n",
    "\n",
    "# 查看各主成分的解释方差比例\n",
    "explained_variance_ratio = pca.explained_variance_ratio_\n",
    "cumulative_explained_variance = np.cumsum(explained_variance_ratio)\n",
    "\n",
    "# 确定n值（例如，我们选择解释95%方差的主成分数量）\n",
    "n_components = np.argmax(cumulative_explained_variance >= 0.95) + 1\n",
    "\n",
    "print(f\"Number of components to explain 95% variance: {n_components}\")\n",
    "\n",
    "X_pca = PCA(n_components = 11).fit_transform(X_norm)\n",
    "score = cross_val_score(lreg, X_pca, y, scoring=score_name, cv=kf, n_jobs=-1)\n",
    "print(score)\n",
    "\n",
    "score = cross_val_score(rf, X_pca, y, scoring=score_name, cv=kf, n_jobs=-1)\n",
    "print(score)"
   ]
  },
  {
   "cell_type": "markdown",
   "id": "f551d179",
   "metadata": {},
   "source": [
    "#### 随机森林网格化调参"
   ]
  },
  {
   "cell_type": "code",
   "execution_count": 16,
   "id": "a29d2854",
   "metadata": {
    "ExecuteTime": {
     "end_time": "2024-05-31T01:39:15.790006Z",
     "start_time": "2024-05-31T01:33:19.417145Z"
    }
   },
   "outputs": [
    {
     "name": "stdout",
     "output_type": "stream",
     "text": [
      "最大得分：0.7025480509716321 子树数量为：191\n"
     ]
    },
    {
     "data": {
      "image/png": "[encoded data removed]",
      "text/plain": [
       "<Figure size 864x576 with 1 Axes>"
      ]
     },
     "metadata": {
      "needs_background": "light"
     },
     "output_type": "display_data"
    }
   ],
   "source": [
    "# 调参，绘制学习曲线来调参n_estimators（对随机森林影响最大）\n",
    "score_lt = []\n",
    "kf = StratifiedKFold(n_splits=3, shuffle=True, random_state=42)\n",
    "\n",
    "# 每隔10步建立一个随机森林，获得不同n_estimators的得分\n",
    "for i in range(0,200,10):\n",
    "    rfc = RandomForestClassifier(n_estimators=i+1\n",
    "                                ,random_state=42, n_jobs = -1)\n",
    "    score = cross_val_score(rfc, X_norm, y, cv=kf).mean()\n",
    "    score_lt.append(score)\n",
    "score_max = max(score_lt)\n",
    "print('最大得分：{}'.format(score_max),\n",
    "      '子树数量为：{}'.format(score_lt.index(score_max)*10+1))\n",
    "\n",
    "# 绘制学习曲线\n",
    "x = np.arange(1,201,10)\n",
    "plt.title('Acc of different n_estimator')\n",
    "plt.xlabel('n_estimator')\n",
    "plt.ylabel('acc')\n",
    "plt.plot(x, score_lt, 'b-')\n",
    "plt.show()"
   ]
  },
  {
   "cell_type": "code",
   "execution_count": 17,
   "id": "5b72b41e",
   "metadata": {
    "ExecuteTime": {
     "end_time": "2024-05-31T01:49:01.011160Z",
     "start_time": "2024-05-31T01:42:38.717259Z"
    }
   },
   "outputs": [
    {
     "name": "stdout",
     "output_type": "stream",
     "text": [
      "最大得分：0.7031789038027307 子树数量为：196\n"
     ]
    },
    {
     "data": {
      "image/png": "[encoded data removed]",
      "text/plain": [
       "<Figure size 864x576 with 1 Axes>"
      ]
     },
     "metadata": {
      "needs_background": "light"
     },
     "output_type": "display_data"
    }
   ],
   "source": [
    "# 调参，绘制学习曲线来调参n_estimators（对随机森林影响最大）\n",
    "score_lt = []\n",
    "\n",
    "# 每隔10步建立一个随机森林，获得不同n_estimators的得分\n",
    "for i in range(190,201):\n",
    "    rfc = RandomForestClassifier(n_estimators=i\n",
    "                               ,random_state=42, n_jobs = -1)\n",
    "    score = cross_val_score(rfc, X_norm, y, cv=kf).mean()\n",
    "    score_lt.append(score)\n",
    "score_max = max(score_lt)\n",
    "print('最大得分：{}'.format(score_max),\n",
    "      '子树数量为：{}'.format(score_lt.index(score_max) + 190))\n",
    "\n",
    "# 绘制学习曲线\n",
    "x = np.arange(190,201)\n",
    "plt.title('Acc of different n_estimator')\n",
    "plt.xlabel('n_estimator')\n",
    "plt.ylabel('acc')\n",
    "plt.plot(x, score_lt, 'b-')\n",
    "plt.show()"
   ]
  },
  {
   "cell_type": "code",
   "execution_count": 18,
   "id": "9cd66b59",
   "metadata": {
    "ExecuteTime": {
     "end_time": "2024-05-31T01:53:49.625268Z",
     "start_time": "2024-05-31T01:50:43.432642Z"
    }
   },
   "outputs": [
    {
     "name": "stdout",
     "output_type": "stream",
     "text": [
      "最大得分：0.7030704753074325 最大深度为：51\n"
     ]
    },
    {
     "data": {
      "image/png": "[encoded data removed]",
      "text/plain": [
       "<Figure size 864x576 with 1 Axes>"
      ]
     },
     "metadata": {
      "needs_background": "light"
     },
     "output_type": "display_data"
    }
   ],
   "source": [
    "# 搜索max_depth\n",
    "# 调参，绘制学习曲线来调参n_estimators（对随机森林影响最大）\n",
    "score_lt = []\n",
    "\n",
    "# 每隔10步建立一个随机森林，获得不同n_estimators的得分\n",
    "for i in range(1,71, 10):\n",
    "    rfc = RandomForestClassifier(n_estimators=196\n",
    "                               ,random_state=42, max_depth=i ,n_jobs = -1)\n",
    "    score = cross_val_score(rfc, X_norm, y, cv=kf).mean()\n",
    "    score_lt.append(score)\n",
    "score_max = max(score_lt)\n",
    "print('最大得分：{}'.format(score_max),\n",
    "      '最大深度为：{}'.format(score_lt.index(score_max) * 10 + 1))\n",
    "\n",
    "# 绘制学习曲线\n",
    "x = np.arange(1, 71, 10)\n",
    "plt.title('Acc of different max_depth')\n",
    "plt.xlabel('max_depth')\n",
    "plt.ylabel('acc')\n",
    "plt.plot(x, score_lt, 'b-')\n",
    "plt.show()"
   ]
  },
  {
   "cell_type": "code",
   "execution_count": 20,
   "id": "c734ab4a",
   "metadata": {
    "ExecuteTime": {
     "end_time": "2024-05-31T02:00:20.144359Z",
     "start_time": "2024-05-31T01:55:26.957523Z"
    }
   },
   "outputs": [
    {
     "name": "stdout",
     "output_type": "stream",
     "text": [
      "最大得分：0.7053819580195672 min_samples_split为：4\n"
     ]
    },
    {
     "data": {
      "image/png": "[encoded data removed]",
      "text/plain": [
       "<Figure size 864x576 with 1 Axes>"
      ]
     },
     "metadata": {
      "needs_background": "light"
     },
     "output_type": "display_data"
    }
   ],
   "source": [
    "# 搜索 min_samples_split\n",
    "# 调参，绘制学习曲线来调参n_estimators（对随机森林影响最大）\n",
    "score_lt = []\n",
    "\n",
    "# 每隔10步建立一个随机森林，获得不同n_estimators的得分\n",
    "for i in range(2,11):\n",
    "    rfc = RandomForestClassifier(n_estimators=196\n",
    "                               ,random_state=42, min_samples_split = i, n_jobs = -1)\n",
    "    score = cross_val_score(rfc, X_norm, y, cv=kf).mean()\n",
    "    score_lt.append(score)\n",
    "score_max = max(score_lt)\n",
    "print('最大得分：{}'.format(score_max),\n",
    "      'min_samples_split为：{}'.format(score_lt.index(score_max) + 2))\n",
    "\n",
    "# 绘制学习曲线\n",
    "x = np.arange(2,11)\n",
    "plt.title('Acc of different min_samples_split')\n",
    "plt.xlabel('min_samples_split')\n",
    "plt.ylabel('acc')\n",
    "plt.plot(x, score_lt, 'b-')\n",
    "plt.show()"
   ]
  },
  {
   "cell_type": "code",
   "execution_count": 22,
   "id": "f4b6079b",
   "metadata": {
    "ExecuteTime": {
     "end_time": "2024-05-31T02:11:25.856097Z",
     "start_time": "2024-05-31T02:06:28.493446Z"
    }
   },
   "outputs": [
    {
     "name": "stdout",
     "output_type": "stream",
     "text": [
      "最大得分：0.705384422281607 min_samples_leaf：1\n"
     ]
    },
    {
     "data": {
      "image/png": "[encoded data removed]",
      "text/plain": [
       "<Figure size 864x576 with 1 Axes>"
      ]
     },
     "metadata": {
      "needs_background": "light"
     },
     "output_type": "display_data"
    }
   ],
   "source": [
    "# 搜索 min_samples_leaf\n",
    "# 调参，绘制学习曲线来调参n_estimators（对随机森林影响最大）\n",
    "score_lt = []\n",
    "\n",
    "# 每隔10步建立一个随机森林，获得不同n_estimators的得分\n",
    "for i in range(1,11):\n",
    "    rfc = RandomForestClassifier(n_estimators=196\n",
    "                               ,random_state=42, min_samples_split = 4, min_samples_leaf=i, n_jobs = -1)\n",
    "    score = cross_val_score(rfc, X_norm, y, cv=kf).mean()\n",
    "    score_lt.append(score)\n",
    "score_max = max(score_lt)\n",
    "print('最大得分：{}'.format(score_max),\n",
    "      'min_samples_leaf：{}'.format(score_lt.index(score_max) + 1))\n",
    "\n",
    "# 绘制学习曲线\n",
    "x = np.arange(1,11)\n",
    "plt.title('Acc of different min_samples_leaf')\n",
    "plt.xlabel('min_samples_leaf')\n",
    "plt.ylabel('acc')\n",
    "plt.plot(x, score_lt, 'b-')\n",
    "plt.show()"
   ]
  },
  {
   "cell_type": "code",
   "execution_count": null,
   "id": "19c5147c",
   "metadata": {
    "ExecuteTime": {
     "end_time": "2024-05-30T13:00:09.553716Z",
     "start_time": "2024-05-30T13:00:09.553703Z"
    }
   },
   "outputs": [],
   "source": [
    "np.arange(0.1, 1)"
   ]
  },
  {
   "cell_type": "code",
   "execution_count": 23,
   "id": "89a1e58e",
   "metadata": {
    "ExecuteTime": {
     "end_time": "2024-05-31T02:28:16.428504Z",
     "start_time": "2024-05-31T02:16:03.884250Z"
    }
   },
   "outputs": [
    {
     "name": "stdout",
     "output_type": "stream",
     "text": [
      "最大得分：0.7105125668347445 max_features：0.9\n"
     ]
    },
    {
     "data": {
      "image/png": "[encoded data removed]",
      "text/plain": [
       "<Figure size 864x576 with 1 Axes>"
      ]
     },
     "metadata": {
      "needs_background": "light"
     },
     "output_type": "display_data"
    }
   ],
   "source": [
    "# 搜索 max_features\n",
    "# 调参，绘制学习曲线来调参n_estimators（对随机森林影响最大）\n",
    "score_lt = []\n",
    "\n",
    "# 每隔10步建立一个随机森林，获得不同n_estimators的得分\n",
    "for i in np.arange(0.1, 1.1, 0.1):\n",
    "    rfc = RandomForestClassifier(n_estimators=196\n",
    "                               ,random_state=42, min_samples_split = 4, min_samples_leaf=1,\n",
    "                                 max_features=i , n_jobs = -1)\n",
    "    score = cross_val_score(rfc, X_norm, y, cv=kf).mean()\n",
    "    score_lt.append(score)\n",
    "score_max = max(score_lt)\n",
    "print('最大得分：{}'.format(score_max),\n",
    "      'max_features：{}'.format(score_lt.index(score_max) * 0.1 + 0.1 ))\n",
    "\n",
    "# 绘制学习曲线\n",
    "x = np.arange(0.1, 1.1, 0.1)\n",
    "plt.title('Acc of different max_features')\n",
    "plt.xlabel('max_features')\n",
    "plt.ylabel('acc')\n",
    "plt.plot(x, score_lt, 'b-')\n",
    "plt.show()"
   ]
  },
  {
   "cell_type": "code",
   "execution_count": 24,
   "id": "8a04c841",
   "metadata": {
    "ExecuteTime": {
     "end_time": "2024-05-31T02:37:50.800648Z",
     "start_time": "2024-05-31T02:31:50.170838Z"
    }
   },
   "outputs": [
    {
     "name": "stdout",
     "output_type": "stream",
     "text": [
      "最大得分：0.7113060591022423 criterion：1\n"
     ]
    },
    {
     "data": {
      "image/png": "[encoded data removed]",
      "text/plain": [
       "<Figure size 864x576 with 1 Axes>"
      ]
     },
     "metadata": {
      "needs_background": "light"
     },
     "output_type": "display_data"
    }
   ],
   "source": [
    "# 搜索 criterion\n",
    "# 调参，绘制学习曲线来调参n_estimators（对随机森林影响最大）\n",
    "score_lt = []\n",
    "\n",
    "# 每隔10步建立一个随机森林，获得不同n_estimators的得分\n",
    "for i in ['entropy', 'gini', 'log_loss']:\n",
    "    rfc = RandomForestClassifier(n_estimators=196\n",
    "                               ,random_state=42, min_samples_split = 4, min_samples_leaf=1,\n",
    "                                 max_features=0.9, criterion = i , n_jobs = -1)\n",
    "    score = cross_val_score(rfc, X_norm, y, cv=kf).mean()\n",
    "    score_lt.append(score)\n",
    "score_max = max(score_lt)\n",
    "print('最大得分：{}'.format(score_max),\n",
    "      'criterion：{}'.format(score_lt.index(score_max) + 1))\n",
    "\n",
    "# 绘制学习曲线\n",
    "x = ['entropy', 'gini', 'log_loss']\n",
    "plt.title('Acc of different criterion')\n",
    "plt.xlabel('criterion')\n",
    "plt.ylabel('acc')\n",
    "plt.plot(x, score_lt, 'b-')\n",
    "plt.show()"
   ]
  },
  {
   "cell_type": "markdown",
   "id": "2864d490",
   "metadata": {
    "ExecuteTime": {
     "end_time": "2024-05-25T08:00:27.518099Z",
     "start_time": "2024-05-25T08:00:27.512238Z"
    }
   },
   "source": [
    "#### catboost调参"
   ]
  },
  {
   "cell_type": "code",
   "execution_count": null,
   "id": "2a286696",
   "metadata": {
    "ExecuteTime": {
     "end_time": "2024-05-30T13:00:09.557365Z",
     "start_time": "2024-05-30T13:00:09.557351Z"
    }
   },
   "outputs": [],
   "source": [
    "X.head()"
   ]
  },
  {
   "cell_type": "code",
   "execution_count": 28,
   "id": "b02492ef",
   "metadata": {
    "ExecuteTime": {
     "end_time": "2024-05-31T04:35:49.300422Z",
     "start_time": "2024-05-31T03:36:53.227067Z"
    }
   },
   "outputs": [
    {
     "name": "stderr",
     "output_type": "stream",
     "text": [
      "Warning: Overfitting detector is active, thus evaluation metric is calculated on every iteration. 'metric_period' is ignored for evaluation metric.\n"
     ]
    },
    {
     "name": "stdout",
     "output_type": "stream",
     "text": [
      "Training on fold [0/3]\n",
      "0:\tlearn: 0.5754661\ttest: 0.5744448\tbest: 0.5744448 (0)\ttotal: 156ms\tremaining: 12m 58s\n",
      "500:\tlearn: 0.6343981\ttest: 0.6315610\tbest: 0.6315610 (498)\ttotal: 52.6s\tremaining: 7m 52s\n",
      "1000:\tlearn: 0.6408965\ttest: 0.6365659\tbest: 0.6366029 (994)\ttotal: 1m 38s\tremaining: 6m 33s\n",
      "1500:\tlearn: 0.6450512\ttest: 0.6389464\tbest: 0.6389612 (1494)\ttotal: 2m 30s\tremaining: 5m 51s\n",
      "2000:\tlearn: 0.6465779\ttest: 0.6400627\tbest: 0.6401588 (1921)\ttotal: 3m 26s\tremaining: 5m 9s\n",
      "2500:\tlearn: 0.6491099\ttest: 0.6411346\tbest: 0.6412086 (2484)\ttotal: 4m 22s\tremaining: 4m 22s\n",
      "3000:\tlearn: 0.6507474\ttest: 0.6412899\tbest: 0.6413490 (2828)\ttotal: 5m 17s\tremaining: 3m 31s\n",
      "3500:\tlearn: 0.6526437\ttest: 0.6425910\tbest: 0.6426649 (3467)\ttotal: 6m 6s\tremaining: 2m 37s\n",
      "4000:\tlearn: 0.6539670\ttest: 0.6430641\tbest: 0.6431676 (3638)\ttotal: 6m 54s\tremaining: 1m 43s\n",
      "4500:\tlearn: 0.6546989\ttest: 0.6433451\tbest: 0.6434190 (4366)\ttotal: 7m 41s\tremaining: 51.1s\n",
      "4999:\tlearn: 0.6559002\ttest: 0.6435151\tbest: 0.6438108 (4653)\ttotal: 8m 30s\tremaining: 0us\n",
      "bestTest = 0.6438108052\n",
      "bestIteration = 4653\n",
      "Training on fold [1/3]\n",
      "0:\tlearn: 0.5786888\ttest: 0.5768412\tbest: 0.5768412 (0)\ttotal: 138ms\tremaining: 11m 31s\n",
      "500:\tlearn: 0.6371473\ttest: 0.6335886\tbest: 0.6337661 (498)\ttotal: 1m\tremaining: 9m 2s\n",
      "1000:\tlearn: 0.6439117\ttest: 0.6375364\tbest: 0.6375734 (989)\ttotal: 1m 55s\tremaining: 7m 41s\n",
      "1500:\tlearn: 0.6488537\ttest: 0.6396729\tbest: 0.6397395 (1464)\ttotal: 2m 55s\tremaining: 6m 49s\n",
      "2000:\tlearn: 0.6518811\ttest: 0.6404640\tbest: 0.6405527 (1984)\ttotal: 3m 55s\tremaining: 5m 53s\n",
      "2500:\tlearn: 0.6548752\ttest: 0.6415729\tbest: 0.6416542 (2483)\ttotal: 4m 56s\tremaining: 4m 56s\n",
      "3000:\tlearn: 0.6566531\ttest: 0.6422900\tbest: 0.6425192 (2966)\ttotal: 5m 57s\tremaining: 3m 58s\n",
      "3500:\tlearn: 0.6583498\ttest: 0.6429554\tbest: 0.6431106 (3333)\ttotal: 6m 58s\tremaining: 2m 59s\n",
      "4000:\tlearn: 0.6593885\ttest: 0.6431106\tbest: 0.6434507 (3865)\ttotal: 8m 1s\tremaining: 2m\n",
      "4500:\tlearn: 0.6599762\ttest: 0.6433176\tbest: 0.6434581 (4232)\ttotal: 8m 58s\tremaining: 59.7s\n",
      "4999:\tlearn: 0.6607266\ttest: 0.6439608\tbest: 0.6439978 (4992)\ttotal: 10m 1s\tremaining: 0us\n",
      "bestTest = 0.6439977526\n",
      "bestIteration = 4992\n",
      "Training on fold [2/3]\n",
      "0:\tlearn: 0.5746154\ttest: 0.5768855\tbest: 0.5768855 (0)\ttotal: 135ms\tremaining: 11m 16s\n",
      "500:\tlearn: 0.6402227\ttest: 0.6362796\tbest: 0.6363018 (496)\ttotal: 1m 4s\tremaining: 9m 37s\n",
      "1000:\tlearn: 0.6462700\ttest: 0.6388006\tbest: 0.6389115 (902)\ttotal: 2m 3s\tremaining: 8m 13s\n",
      "1500:\tlearn: 0.6495302\ttest: 0.6400130\tbest: 0.6401461 (1469)\ttotal: 3m 3s\tremaining: 7m 8s\n",
      "2000:\tlearn: 0.6520807\ttest: 0.6410406\tbest: 0.6412033 (1971)\ttotal: 4m 2s\tremaining: 6m 3s\n",
      "2500:\tlearn: 0.6534040\ttest: 0.6415064\tbest: 0.6415064 (2500)\ttotal: 5m 4s\tremaining: 5m 4s\n",
      "3000:\tlearn: 0.6546534\ttest: 0.6413733\tbest: 0.6416099 (2595)\ttotal: 6m 3s\tremaining: 4m 1s\n",
      "bestTest = 0.641609865\n",
      "bestIteration = 2595\n",
      "    iterations  test-Accuracy-mean  test-Accuracy-std  train-Accuracy-mean  \\\n",
      "0            0            0.576057           0.001397             0.576257   \n",
      "1          500            0.633810           0.002367             0.637256   \n",
      "2         1000            0.637634           0.001121             0.643693   \n",
      "3         1500            0.639544           0.000545             0.647812   \n",
      "4         2000            0.640522           0.000492             0.650180   \n",
      "5         2500            0.641405           0.000236             0.652463   \n",
      "6         3000            0.641651           0.000555             0.654018   \n",
      "7         3500            0.642307           0.000829             0.655216   \n",
      "8         4000            0.642516           0.000990             0.656003   \n",
      "9         4500            0.642679           0.001131             0.656443   \n",
      "10        4999            0.642950           0.001383             0.657093   \n",
      "\n",
      "    train-Accuracy-std  test-Logloss-mean  test-Logloss-std  \\\n",
      "0             0.002149           0.679769          0.000264   \n",
      "1             0.002914           0.593044          0.002092   \n",
      "2             0.002693           0.589947          0.001611   \n",
      "3             0.002414           0.588279          0.001210   \n",
      "4             0.003121           0.587338          0.001335   \n",
      "5             0.002996           0.586489          0.001318   \n",
      "6             0.003004           0.586001          0.001313   \n",
      "7             0.002894           0.585651          0.001181   \n",
      "8             0.002952           0.585413          0.001182   \n",
      "9             0.003060           0.585199          0.001180   \n",
      "10            0.003208           0.584942          0.001211   \n",
      "\n",
      "    train-Logloss-mean  train-Logloss-std  \n",
      "0             0.679800           0.000364  \n",
      "1             0.591176           0.002397  \n",
      "2             0.585960           0.002299  \n",
      "3             0.582587           0.002063  \n",
      "4             0.580440           0.002500  \n",
      "5             0.578519           0.002668  \n",
      "6             0.577140           0.002737  \n",
      "7             0.576192           0.002546  \n",
      "8             0.575450           0.002602  \n",
      "9             0.574907           0.002687  \n",
      "10            0.574299           0.002803  \n"
     ]
    },
    {
     "name": "stderr",
     "output_type": "stream",
     "text": [
      "Warning: Overfitting detector is active, thus evaluation metric is calculated on every iteration. 'metric_period' is ignored for evaluation metric.\n"
     ]
    },
    {
     "name": "stdout",
     "output_type": "stream",
     "text": [
      "Training on fold [0/3]\n",
      "0:\tlearn: 0.5903123\ttest: 0.5895589\tbest: 0.5895589 (0)\ttotal: 136ms\tremaining: 11m 22s\n",
      "500:\tlearn: 0.7157900\ttest: 0.7133266\tbest: 0.7217546 (77)\ttotal: 52.4s\tremaining: 7m 50s\n",
      "bestTest = 0.7217546131\n",
      "bestIteration = 77\n",
      "Training on fold [1/3]\n",
      "0:\tlearn: 0.5710614\ttest: 0.5698784\tbest: 0.5698784 (0)\ttotal: 139ms\tremaining: 11m 34s\n",
      "500:\tlearn: 0.7156619\ttest: 0.7135429\tbest: 0.7230437 (82)\ttotal: 59.3s\tremaining: 8m 52s\n",
      "bestTest = 0.7230437215\n",
      "bestIteration = 82\n",
      "Training on fold [2/3]\n",
      "0:\tlearn: 0.6158198\ttest: 0.6199705\tbest: 0.6199705 (0)\ttotal: 138ms\tremaining: 11m 27s\n",
      "500:\tlearn: 0.7268896\ttest: 0.7187693\tbest: 0.7242969 (155)\ttotal: 1m 3s\tremaining: 9m 25s\n",
      "bestTest = 0.7242968871\n",
      "bestIteration = 155\n",
      "   iterations  test-Precision-mean  test-Precision-std  train-Precision-mean  \\\n",
      "0           0             0.593136            0.025237              0.592398   \n",
      "1         500             0.715213            0.003082              0.719447   \n",
      "2         655             0.715235            0.003120                   NaN   \n",
      "\n",
      "   train-Precision-std  test-Logloss-mean  test-Logloss-std  \\\n",
      "0             0.022452           0.679769          0.000265   \n",
      "1             0.006446           0.593446          0.002506   \n",
      "2                  NaN                NaN               NaN   \n",
      "\n",
      "   train-Logloss-mean  train-Logloss-std  \n",
      "0            0.679800           0.000364  \n",
      "1            0.591685           0.002900  \n",
      "2                 NaN                NaN  \n"
     ]
    },
    {
     "name": "stderr",
     "output_type": "stream",
     "text": [
      "Warning: Overfitting detector is active, thus evaluation metric is calculated on every iteration. 'metric_period' is ignored for evaluation metric.\n"
     ]
    },
    {
     "name": "stdout",
     "output_type": "stream",
     "text": [
      "Training on fold [0/3]\n",
      "0:\tlearn: 0.4932725\ttest: 0.4900642\tbest: 0.4900642 (0)\ttotal: 136ms\tremaining: 11m 21s\n",
      "500:\tlearn: 0.4433782\ttest: 0.4362894\tbest: 0.4900642 (0)\ttotal: 51.3s\tremaining: 7m 40s\n",
      "bestTest = 0.4900641689\n",
      "bestIteration = 0\n",
      "Training on fold [1/3]\n",
      "0:\tlearn: 0.6323567\ttest: 0.6266615\tbest: 0.6266615 (0)\ttotal: 141ms\tremaining: 11m 45s\n",
      "500:\tlearn: 0.4555804\ttest: 0.4464537\tbest: 0.6404566 (1)\ttotal: 1m\tremaining: 9m 1s\n",
      "bestTest = 0.6404565818\n",
      "bestIteration = 1\n",
      "Training on fold [2/3]\n",
      "0:\tlearn: 0.3967339\ttest: 0.3973208\tbest: 0.3973208 (0)\ttotal: 138ms\tremaining: 11m 28s\n",
      "500:\tlearn: 0.4472931\ttest: 0.4470451\tbest: 0.4472669 (462)\ttotal: 1m 1s\tremaining: 9m 12s\n",
      "1000:\tlearn: 0.4590920\ttest: 0.4551033\tbest: 0.4551033 (997)\ttotal: 1m 59s\tremaining: 7m 58s\n",
      "1500:\tlearn: 0.4675346\ttest: 0.4599678\tbest: 0.4599678 (1500)\ttotal: 3m\tremaining: 7m 1s\n",
      "2000:\tlearn: 0.4712162\ttest: 0.4613724\tbest: 0.4614611 (1955)\ttotal: 3m 58s\tremaining: 5m 57s\n",
      "2500:\tlearn: 0.4758736\ttest: 0.4640634\tbest: 0.4640634 (2500)\ttotal: 4m 57s\tremaining: 4m 57s\n",
      "3000:\tlearn: 0.4790895\ttest: 0.4665622\tbest: 0.4673606 (2878)\ttotal: 5m 59s\tremaining: 3m 59s\n",
      "3500:\tlearn: 0.4821501\ttest: 0.4688244\tbest: 0.4688244 (3500)\ttotal: 6m 59s\tremaining: 2m 59s\n",
      "4000:\tlearn: 0.4839835\ttest: 0.4692236\tbest: 0.4694010 (3855)\ttotal: 7m 59s\tremaining: 1m 59s\n",
      "bestTest = 0.469401032\n",
      "bestIteration = 3855\n",
      "   iterations  test-Recall-mean  test-Recall-std  train-Recall-mean  \\\n",
      "0           0          0.504682         0.115367           0.507454   \n",
      "1         500          0.443263         0.006046           0.448751   \n",
      "2        1000          0.445949         0.009417           0.452684   \n",
      "3        1500          0.447570         0.011879           0.455498   \n",
      "4        2000          0.448039         0.012616           0.456725   \n",
      "5        2500          0.448935         0.014052           0.458277   \n",
      "6        3000          0.449768         0.015406           0.459349   \n",
      "7        3500          0.450522         0.016645           0.460370   \n",
      "8        4000          0.450656         0.016864           0.460981   \n",
      "9        4355          0.450651         0.016856                NaN   \n",
      "\n",
      "   train-Recall-std  test-Logloss-mean  test-Logloss-std  train-Logloss-mean  \\\n",
      "0          0.118450           0.679769          0.000264            0.679800   \n",
      "1          0.006230           0.593394          0.002187            0.591631   \n",
      "2          0.008248           0.592525          0.003366            0.589916   \n",
      "3          0.012078           0.591938          0.004279            0.588711   \n",
      "4          0.013954           0.591606          0.004814            0.587937   \n",
      "5          0.016415           0.591491          0.005001            0.587509   \n",
      "6          0.018152           0.591285          0.005339            0.586936   \n",
      "7          0.019825           0.591117          0.005617            0.586498   \n",
      "8          0.020834           0.590977          0.005849            0.586115   \n",
      "9               NaN                NaN               NaN                 NaN   \n",
      "\n",
      "   train-Logloss-std  \n",
      "0           0.000364  \n",
      "1           0.002419  \n",
      "2           0.004986  \n",
      "3           0.006984  \n",
      "4           0.008291  \n",
      "5           0.009018  \n",
      "6           0.009994  \n",
      "7           0.010743  \n",
      "8           0.011396  \n",
      "9                NaN  \n"
     ]
    },
    {
     "name": "stderr",
     "output_type": "stream",
     "text": [
      "Warning: Overfitting detector is active, thus evaluation metric is calculated on every iteration. 'metric_period' is ignored for evaluation metric.\n"
     ]
    },
    {
     "name": "stdout",
     "output_type": "stream",
     "text": [
      "Training on fold [0/3]\n",
      "0:\tlearn: 0.5374472\ttest: 0.5352270\tbest: 0.5352270 (0)\ttotal: 135ms\tremaining: 11m 12s\n",
      "500:\tlearn: 0.5472392\ttest: 0.5426619\tbest: 0.5427271 (493)\ttotal: 52.3s\tremaining: 7m 49s\n",
      "1000:\tlearn: 0.5602376\ttest: 0.5527914\tbest: 0.5527996 (999)\ttotal: 1m 41s\tremaining: 6m 45s\n",
      "1500:\tlearn: 0.5645962\ttest: 0.5556587\tbest: 0.5556587 (1500)\ttotal: 2m 34s\tremaining: 5m 59s\n",
      "2000:\tlearn: 0.5679362\ttest: 0.5578076\tbest: 0.5580336 (1955)\ttotal: 3m 26s\tremaining: 5m 9s\n",
      "2500:\tlearn: 0.5717032\ttest: 0.5601168\tbest: 0.5603179 (2448)\ttotal: 4m 20s\tremaining: 4m 19s\n",
      "3000:\tlearn: 0.5741810\ttest: 0.5618676\tbest: 0.5619664 (2902)\ttotal: 5m 14s\tremaining: 3m 29s\n",
      "3500:\tlearn: 0.5767923\ttest: 0.5629927\tbest: 0.5630889 (3481)\ttotal: 6m 6s\tremaining: 2m 36s\n",
      "4000:\tlearn: 0.5790981\ttest: 0.5641053\tbest: 0.5642257 (3927)\ttotal: 6m 58s\tremaining: 1m 44s\n",
      "4500:\tlearn: 0.5798558\ttest: 0.5645021\tbest: 0.5646468 (4454)\ttotal: 7m 47s\tremaining: 51.9s\n",
      "4999:\tlearn: 0.5812288\ttest: 0.5656376\tbest: 0.5656376 (4998)\ttotal: 8m 37s\tremaining: 0us\n",
      "bestTest = 0.5656376226\n",
      "bestIteration = 4998\n",
      "Training on fold [1/3]\n",
      "0:\tlearn: 0.6001480\ttest: 0.5969226\tbest: 0.5969226 (0)\ttotal: 137ms\tremaining: 11m 24s\n",
      "500:\tlearn: 0.5609608\ttest: 0.5512093\tbest: 0.6045879 (1)\ttotal: 1m 1s\tremaining: 9m 13s\n",
      "bestTest = 0.6045878666\n",
      "bestIteration = 1\n",
      "Training on fold [2/3]\n",
      "0:\tlearn: 0.4825751\ttest: 0.4842805\tbest: 0.4842805 (0)\ttotal: 136ms\tremaining: 11m 18s\n",
      "500:\tlearn: 0.5514602\ttest: 0.5494134\tbest: 0.5494134 (499)\ttotal: 1m 3s\tremaining: 9m 28s\n",
      "1000:\tlearn: 0.5642933\ttest: 0.5575378\tbest: 0.5577730 (988)\ttotal: 2m 3s\tremaining: 8m 11s\n",
      "1500:\tlearn: 0.5699693\ttest: 0.5597528\tbest: 0.5599118 (1479)\ttotal: 3m 4s\tremaining: 7m 10s\n",
      "2000:\tlearn: 0.5744044\ttest: 0.5618769\tbest: 0.5618769 (2000)\ttotal: 4m 5s\tremaining: 6m 7s\n",
      "2500:\tlearn: 0.5775668\ttest: 0.5638355\tbest: 0.5638355 (2500)\ttotal: 5m 4s\tremaining: 5m 4s\n",
      "3000:\tlearn: 0.5802673\ttest: 0.5642104\tbest: 0.5642831 (2995)\ttotal: 6m 7s\tremaining: 4m 4s\n",
      "3500:\tlearn: 0.5823997\ttest: 0.5656348\tbest: 0.5656816 (3395)\ttotal: 7m 7s\tremaining: 3m 2s\n",
      "4000:\tlearn: 0.5851143\ttest: 0.5663297\tbest: 0.5664897 (3889)\ttotal: 8m 9s\tremaining: 2m 2s\n",
      "4500:\tlearn: 0.5872288\ttest: 0.5677028\tbest: 0.5680575 (4424)\ttotal: 9m 12s\tremaining: 1m 1s\n",
      "4999:\tlearn: 0.5890313\ttest: 0.5690606\tbest: 0.5690606 (4998)\ttotal: 10m 15s\tremaining: 0us\n",
      "bestTest = 0.5690605763\n",
      "bestIteration = 4998\n",
      "    iterations  test-F1-mean  test-F1-std  train-F1-mean  train-F1-std  \\\n",
      "0            0      0.538810     0.056406       0.540057      0.058830   \n",
      "1          500      0.547762     0.004507       0.553220      0.007028   \n",
      "2         1000      0.553846     0.003293       0.561831      0.002163   \n",
      "3         1500      0.555540     0.004273       0.565175      0.004532   \n",
      "4         2000      0.556965     0.005384       0.567767      0.006723   \n",
      "5         2500      0.558387     0.006488       0.570077      0.008422   \n",
      "6         3000      0.559096     0.006930       0.571803      0.009870   \n",
      "7         3500      0.559946     0.007680       0.573384      0.011118   \n",
      "8         4000      0.560548     0.008164       0.575058      0.012573   \n",
      "9         4500      0.561138     0.008746       0.576015      0.013549   \n",
      "10        4999      0.561969     0.009474       0.577074      0.014489   \n",
      "\n",
      "    test-Logloss-mean  test-Logloss-std  train-Logloss-mean  train-Logloss-std  \n",
      "0            0.679769          0.000265            0.679800           0.000364  \n",
      "1            0.593631          0.002911            0.591892           0.003374  \n",
      "2            0.590954          0.001889            0.587545           0.003217  \n",
      "3            0.589901          0.002584            0.585584           0.004772  \n",
      "4            0.589301          0.002970            0.584178           0.005901  \n",
      "5            0.588691          0.003364            0.582854           0.006884  \n",
      "6            0.588290          0.003673            0.581886           0.007697  \n",
      "7            0.587961          0.003918            0.580978           0.008388  \n",
      "8            0.587676          0.004150            0.580149           0.009077  \n",
      "9            0.587479          0.004331            0.579562           0.009637  \n",
      "10           0.587344          0.004450            0.579061           0.010076  \n"
     ]
    }
   ],
   "source": [
    "from catboost import Pool, cv\n",
    "\n",
    "categorical_features = ['hashtag', 'time_zone', 'lang', 'tweet_lang', 'day_time', 'season']\n",
    "\n",
    "cv_dataset = Pool(data=X,\n",
    "                  label=y,\n",
    "                  cat_features=categorical_features)\n",
    "\n",
    "# params = {\"iterations\": 1000,\n",
    "#           \"depth\": 6,\n",
    "#           \"loss_function\": \"CrossEntropy\",\n",
    "#           \"eval_metric\": \"Accuracy\",  # 评估指标设为AUC\n",
    "#           \"learning_rate\": 0.01,\n",
    "#           \"task_type\" : 'GPU',\n",
    "#           \"devices\": '0',\n",
    "#           \"use_best_model\": True,\n",
    "#           \"verbose\": False,\n",
    "#           \"per_float_feature_quantization\":['0:border_count=1024']\n",
    "#          }\n",
    "\n",
    "params = {\n",
    "         'n_estimators':5000,\n",
    "         'learning_rate': 0.07,\n",
    "         'eval_metric':'Accuracy',\n",
    "         'loss_function':'Logloss',\n",
    "         'random_seed':42,\n",
    "         'metric_period':500,\n",
    "         'od_wait':500,\n",
    "         'task_type':'GPU',\n",
    "         'depth': 8,\n",
    "         #'colsample_bylevel':0.7,\n",
    "         } \n",
    "\n",
    "scoring = []\n",
    "if num_classes == 2:\n",
    "    scoring = ['Accuracy', 'Precision', 'Recall', 'F1']\n",
    "elif num_classes > 2:\n",
    "    scoring = ['accuracy', 'f1_micro', 'f1_macro', 'f1_weighted']\n",
    "else:\n",
    "    print(f'Error num_classes of {num_classes}')\n",
    "    \n",
    "for score in scoring:\n",
    "    params['eval_metric']=  score\n",
    "    scores = cv(cv_dataset,\n",
    "                params,\n",
    "                fold_count=3,\n",
    "    #             verbose=100\n",
    "                plot = False\n",
    "                )\n",
    "    print(scores)"
   ]
  },
  {
   "cell_type": "code",
   "execution_count": null,
   "id": "0ce0a3be",
   "metadata": {
    "ExecuteTime": {
     "end_time": "2024-05-30T12:45:28.493773Z",
     "start_time": "2024-05-30T12:43:40.756554Z"
    }
   },
   "outputs": [],
   "source": []
  },
  {
   "cell_type": "markdown",
   "id": "1f3bb8d3",
   "metadata": {
    "ExecuteTime": {
     "end_time": "2024-05-26T13:46:32.859848Z",
     "start_time": "2024-05-26T13:40:19.405157Z"
    }
   },
   "source": [
    "### 调参后模型测试"
   ]
  },
  {
   "cell_type": "code",
   "execution_count": 32,
   "id": "a535175c",
   "metadata": {
    "ExecuteTime": {
     "end_time": "2024-05-31T07:07:12.036085Z",
     "start_time": "2024-05-31T07:06:51.897459Z"
    }
   },
   "outputs": [
    {
     "name": "stdout",
     "output_type": "stream",
     "text": [
      "2\n"
     ]
    },
    {
     "name": "stderr",
     "output_type": "stream",
     "text": [
      "Warning: less than 75% gpu memory available for training. Free: 976.375 Total: 32501.125\n",
      "Warning: less than 75% gpu memory available for training. Free: 48.375 Total: 32501.125\n",
      "Application terminated with error: ??+0 (0x7F691E6DEB94)\n",
      "??+0 (0x7F691FC7EDAF)\n",
      "??+0 (0x7F691FC7DE15)\n",
      "??+0 (0x7F691FC7EFC8)\n",
      "??+0 (0x7F691EA05712)\n",
      "??+0 (0x7F691EA0557A)\n",
      "??+0 (0x7F692CC94AC3)\n",
      "??+0 (0x7F692CD26850)\n",
      "\n",
      "(TCatBoostException) /src/catboost/catboost/cuda/cuda_lib/cuda_base.h:261: CUDA error 2: out of memory\n",
      "uncaught exception:\n",
      "    address -> 0x401ea1b0410\n",
      "    what() -> \"/src/catboost/catboost/cuda/cuda_lib/cuda_base.h:261: CUDA error 2: out of memory\"\n",
      "    type -> TCatBoostException\n",
      "Application terminated with error: ??+0 (0x7FE1982DEB94)\n",
      "??+0 (0x7FE19987EDAF)\n",
      "??+0 (0x7FE19987DE15)\n",
      "??+0 (0x7FE19987EFC8)\n",
      "??+0 (0x7FE198605712)\n",
      "??+0 (0x7FE19860557A)\n",
      "??+0 (0x7FE1A6694AC3)\n",
      "??+0 (0x7FE1A6726850)\n",
      "\n",
      "(TCatBoostException) /src/catboost/catboost/cuda/cuda_lib/cuda_base.h:261: CUDA error 2: out of memory\n",
      "uncaught exception:\n",
      "    address -> 0x3336ed30410\n",
      "    what() -> \"/src/catboost/catboost/cuda/cuda_lib/cuda_base.h:261: CUDA error 2: out of memory\"\n",
      "    type -> TCatBoostException\n",
      "Application terminated with error: ??+0 (0x7FB67B0DEB94)\n",
      "??+0 (0x7FB67C67EDAF)\n",
      "??+0 (0x7FB67C67DE15)\n",
      "??+0 (0x7FB67C67EFC8)\n",
      "??+0 (0x7FB67B405712)\n",
      "??+0 (0x7FB67B40557A)\n",
      "??+0 (0x7FB689494AC3)\n",
      "??+0 (0x7FB689526850)\n",
      "\n",
      "(TCatBoostException) /src/catboost/catboost/cuda/cuda_lib/cuda_base.h:261: CUDA error 2: out of memory\n",
      "uncaught exception:\n",
      "    address -> 0x4f043130410\n",
      "    what() -> \"/src/catboost/catboost/cuda/cuda_lib/cuda_base.h:261: CUDA error 2: out of memory\"\n",
      "    type -> TCatBoostException\n"
     ]
    },
    {
     "ename": "TerminatedWorkerError",
     "evalue": "A worker process managed by the executor was unexpectedly terminated. This could be caused by a segmentation fault while calling the function or by an excessive memory usage causing the Operating System to kill the worker.\n\nThe exit codes of the workers are {SIGABRT(-6)}",
     "output_type": "error",
     "traceback": [
      "\u001b[0;31m---------------------------------------------------------------------------\u001b[0m",
      "\u001b[0;31mTerminatedWorkerError\u001b[0m                     Traceback (most recent call last)",
      "\u001b[0;32m/tmp/ipykernel_3316379/3620148161.py\u001b[0m in \u001b[0;36m<module>\u001b[0;34m\u001b[0m\n\u001b[1;32m     61\u001b[0m \u001b[0mstart_time\u001b[0m \u001b[0;34m=\u001b[0m \u001b[0mtime\u001b[0m\u001b[0;34m.\u001b[0m\u001b[0mtime\u001b[0m\u001b[0;34m(\u001b[0m\u001b[0;34m)\u001b[0m\u001b[0;34m\u001b[0m\u001b[0;34m\u001b[0m\u001b[0m\n\u001b[1;32m     62\u001b[0m \u001b[0;32mfor\u001b[0m \u001b[0mscore_name\u001b[0m \u001b[0;32min\u001b[0m \u001b[0mscoring\u001b[0m\u001b[0;34m:\u001b[0m\u001b[0;34m\u001b[0m\u001b[0;34m\u001b[0m\u001b[0m\n\u001b[0;32m---> 63\u001b[0;31m     \u001b[0mscore\u001b[0m \u001b[0;34m=\u001b[0m \u001b[0mcross_val_score\u001b[0m\u001b[0;34m(\u001b[0m\u001b[0mcat\u001b[0m\u001b[0;34m,\u001b[0m \u001b[0mX\u001b[0m\u001b[0;34m,\u001b[0m \u001b[0my\u001b[0m\u001b[0;34m,\u001b[0m \u001b[0mscoring\u001b[0m\u001b[0;34m=\u001b[0m\u001b[0mscore_name\u001b[0m\u001b[0;34m,\u001b[0m \u001b[0mcv\u001b[0m\u001b[0;34m=\u001b[0m\u001b[0mkf\u001b[0m\u001b[0;34m,\u001b[0m \u001b[0mn_jobs\u001b[0m\u001b[0;34m=\u001b[0m\u001b[0;34m-\u001b[0m\u001b[0;36m1\u001b[0m\u001b[0;34m)\u001b[0m\u001b[0;34m\u001b[0m\u001b[0;34m\u001b[0m\u001b[0m\n\u001b[0m\u001b[1;32m     64\u001b[0m     \u001b[0mscores\u001b[0m\u001b[0;34m.\u001b[0m\u001b[0mappend\u001b[0m\u001b[0;34m(\u001b[0m\u001b[0;34m(\u001b[0m\u001b[0mscore\u001b[0m\u001b[0;34m.\u001b[0m\u001b[0mmean\u001b[0m\u001b[0;34m(\u001b[0m\u001b[0;34m)\u001b[0m\u001b[0;34m,\u001b[0m \u001b[0mscore\u001b[0m\u001b[0;34m.\u001b[0m\u001b[0mstd\u001b[0m\u001b[0;34m(\u001b[0m\u001b[0;34m)\u001b[0m\u001b[0;34m)\u001b[0m\u001b[0;34m)\u001b[0m\u001b[0;34m\u001b[0m\u001b[0;34m\u001b[0m\u001b[0m\n\u001b[1;32m     65\u001b[0m \u001b[0mend_time\u001b[0m \u001b[0;34m=\u001b[0m \u001b[0mtime\u001b[0m\u001b[0;34m.\u001b[0m\u001b[0mtime\u001b[0m\u001b[0;34m(\u001b[0m\u001b[0;34m)\u001b[0m\u001b[0;34m\u001b[0m\u001b[0;34m\u001b[0m\u001b[0m\n",
      "\u001b[0;32m~/.local/lib/python3.10/site-packages/sklearn/utils/_param_validation.py\u001b[0m in \u001b[0;36mwrapper\u001b[0;34m(*args, **kwargs)\u001b[0m\n\u001b[1;32m    211\u001b[0m                     )\n\u001b[1;32m    212\u001b[0m                 ):\n\u001b[0;32m--> 213\u001b[0;31m                     \u001b[0;32mreturn\u001b[0m \u001b[0mfunc\u001b[0m\u001b[0;34m(\u001b[0m\u001b[0;34m*\u001b[0m\u001b[0margs\u001b[0m\u001b[0;34m,\u001b[0m \u001b[0;34m**\u001b[0m\u001b[0mkwargs\u001b[0m\u001b[0;34m)\u001b[0m\u001b[0;34m\u001b[0m\u001b[0;34m\u001b[0m\u001b[0m\n\u001b[0m\u001b[1;32m    214\u001b[0m             \u001b[0;32mexcept\u001b[0m \u001b[0mInvalidParameterError\u001b[0m \u001b[0;32mas\u001b[0m \u001b[0me\u001b[0m\u001b[0;34m:\u001b[0m\u001b[0;34m\u001b[0m\u001b[0;34m\u001b[0m\u001b[0m\n\u001b[1;32m    215\u001b[0m                 \u001b[0;31m# When the function is just a wrapper around an estimator, we allow\u001b[0m\u001b[0;34m\u001b[0m\u001b[0;34m\u001b[0m\u001b[0m\n",
      "\u001b[0;32m~/.local/lib/python3.10/site-packages/sklearn/model_selection/_validation.py\u001b[0m in \u001b[0;36mcross_val_score\u001b[0;34m(estimator, X, y, groups, scoring, cv, n_jobs, verbose, fit_params, params, pre_dispatch, error_score)\u001b[0m\n\u001b[1;32m    717\u001b[0m     \u001b[0mscorer\u001b[0m \u001b[0;34m=\u001b[0m \u001b[0mcheck_scoring\u001b[0m\u001b[0;34m(\u001b[0m\u001b[0mestimator\u001b[0m\u001b[0;34m,\u001b[0m \u001b[0mscoring\u001b[0m\u001b[0;34m=\u001b[0m\u001b[0mscoring\u001b[0m\u001b[0;34m)\u001b[0m\u001b[0;34m\u001b[0m\u001b[0;34m\u001b[0m\u001b[0m\n\u001b[1;32m    718\u001b[0m \u001b[0;34m\u001b[0m\u001b[0m\n\u001b[0;32m--> 719\u001b[0;31m     cv_results = cross_validate(\n\u001b[0m\u001b[1;32m    720\u001b[0m         \u001b[0mestimator\u001b[0m\u001b[0;34m=\u001b[0m\u001b[0mestimator\u001b[0m\u001b[0;34m,\u001b[0m\u001b[0;34m\u001b[0m\u001b[0;34m\u001b[0m\u001b[0m\n\u001b[1;32m    721\u001b[0m         \u001b[0mX\u001b[0m\u001b[0;34m=\u001b[0m\u001b[0mX\u001b[0m\u001b[0;34m,\u001b[0m\u001b[0;34m\u001b[0m\u001b[0;34m\u001b[0m\u001b[0m\n",
      "\u001b[0;32m~/.local/lib/python3.10/site-packages/sklearn/utils/_param_validation.py\u001b[0m in \u001b[0;36mwrapper\u001b[0;34m(*args, **kwargs)\u001b[0m\n\u001b[1;32m    211\u001b[0m                     )\n\u001b[1;32m    212\u001b[0m                 ):\n\u001b[0;32m--> 213\u001b[0;31m                     \u001b[0;32mreturn\u001b[0m \u001b[0mfunc\u001b[0m\u001b[0;34m(\u001b[0m\u001b[0;34m*\u001b[0m\u001b[0margs\u001b[0m\u001b[0;34m,\u001b[0m \u001b[0;34m**\u001b[0m\u001b[0mkwargs\u001b[0m\u001b[0;34m)\u001b[0m\u001b[0;34m\u001b[0m\u001b[0;34m\u001b[0m\u001b[0m\n\u001b[0m\u001b[1;32m    214\u001b[0m             \u001b[0;32mexcept\u001b[0m \u001b[0mInvalidParameterError\u001b[0m \u001b[0;32mas\u001b[0m \u001b[0me\u001b[0m\u001b[0;34m:\u001b[0m\u001b[0;34m\u001b[0m\u001b[0;34m\u001b[0m\u001b[0m\n\u001b[1;32m    215\u001b[0m                 \u001b[0;31m# When the function is just a wrapper around an estimator, we allow\u001b[0m\u001b[0;34m\u001b[0m\u001b[0;34m\u001b[0m\u001b[0m\n",
      "\u001b[0;32m~/.local/lib/python3.10/site-packages/sklearn/model_selection/_validation.py\u001b[0m in \u001b[0;36mcross_validate\u001b[0;34m(estimator, X, y, groups, scoring, cv, n_jobs, verbose, fit_params, params, pre_dispatch, return_train_score, return_estimator, return_indices, error_score)\u001b[0m\n\u001b[1;32m    428\u001b[0m     \u001b[0;31m# independent, and that it is pickle-able.\u001b[0m\u001b[0;34m\u001b[0m\u001b[0;34m\u001b[0m\u001b[0m\n\u001b[1;32m    429\u001b[0m     \u001b[0mparallel\u001b[0m \u001b[0;34m=\u001b[0m \u001b[0mParallel\u001b[0m\u001b[0;34m(\u001b[0m\u001b[0mn_jobs\u001b[0m\u001b[0;34m=\u001b[0m\u001b[0mn_jobs\u001b[0m\u001b[0;34m,\u001b[0m \u001b[0mverbose\u001b[0m\u001b[0;34m=\u001b[0m\u001b[0mverbose\u001b[0m\u001b[0;34m,\u001b[0m \u001b[0mpre_dispatch\u001b[0m\u001b[0;34m=\u001b[0m\u001b[0mpre_dispatch\u001b[0m\u001b[0;34m)\u001b[0m\u001b[0;34m\u001b[0m\u001b[0;34m\u001b[0m\u001b[0m\n\u001b[0;32m--> 430\u001b[0;31m     results = parallel(\n\u001b[0m\u001b[1;32m    431\u001b[0m         delayed(_fit_and_score)(\n\u001b[1;32m    432\u001b[0m             \u001b[0mclone\u001b[0m\u001b[0;34m(\u001b[0m\u001b[0mestimator\u001b[0m\u001b[0;34m)\u001b[0m\u001b[0;34m,\u001b[0m\u001b[0;34m\u001b[0m\u001b[0;34m\u001b[0m\u001b[0m\n",
      "\u001b[0;32m~/.local/lib/python3.10/site-packages/sklearn/utils/parallel.py\u001b[0m in \u001b[0;36m__call__\u001b[0;34m(self, iterable)\u001b[0m\n\u001b[1;32m     65\u001b[0m             \u001b[0;32mfor\u001b[0m \u001b[0mdelayed_func\u001b[0m\u001b[0;34m,\u001b[0m \u001b[0margs\u001b[0m\u001b[0;34m,\u001b[0m \u001b[0mkwargs\u001b[0m \u001b[0;32min\u001b[0m \u001b[0miterable\u001b[0m\u001b[0;34m\u001b[0m\u001b[0;34m\u001b[0m\u001b[0m\n\u001b[1;32m     66\u001b[0m         )\n\u001b[0;32m---> 67\u001b[0;31m         \u001b[0;32mreturn\u001b[0m \u001b[0msuper\u001b[0m\u001b[0;34m(\u001b[0m\u001b[0;34m)\u001b[0m\u001b[0;34m.\u001b[0m\u001b[0m__call__\u001b[0m\u001b[0;34m(\u001b[0m\u001b[0miterable_with_config\u001b[0m\u001b[0;34m)\u001b[0m\u001b[0;34m\u001b[0m\u001b[0;34m\u001b[0m\u001b[0m\n\u001b[0m\u001b[1;32m     68\u001b[0m \u001b[0;34m\u001b[0m\u001b[0m\n\u001b[1;32m     69\u001b[0m \u001b[0;34m\u001b[0m\u001b[0m\n",
      "\u001b[0;32m~/.local/lib/python3.10/site-packages/joblib/parallel.py\u001b[0m in \u001b[0;36m__call__\u001b[0;34m(self, iterable)\u001b[0m\n\u001b[1;32m   1950\u001b[0m         \u001b[0mnext\u001b[0m\u001b[0;34m(\u001b[0m\u001b[0moutput\u001b[0m\u001b[0;34m)\u001b[0m\u001b[0;34m\u001b[0m\u001b[0;34m\u001b[0m\u001b[0m\n\u001b[1;32m   1951\u001b[0m \u001b[0;34m\u001b[0m\u001b[0m\n\u001b[0;32m-> 1952\u001b[0;31m         \u001b[0;32mreturn\u001b[0m \u001b[0moutput\u001b[0m \u001b[0;32mif\u001b[0m \u001b[0mself\u001b[0m\u001b[0;34m.\u001b[0m\u001b[0mreturn_generator\u001b[0m \u001b[0;32melse\u001b[0m \u001b[0mlist\u001b[0m\u001b[0;34m(\u001b[0m\u001b[0moutput\u001b[0m\u001b[0;34m)\u001b[0m\u001b[0;34m\u001b[0m\u001b[0;34m\u001b[0m\u001b[0m\n\u001b[0m\u001b[1;32m   1953\u001b[0m \u001b[0;34m\u001b[0m\u001b[0m\n\u001b[1;32m   1954\u001b[0m     \u001b[0;32mdef\u001b[0m \u001b[0m__repr__\u001b[0m\u001b[0;34m(\u001b[0m\u001b[0mself\u001b[0m\u001b[0;34m)\u001b[0m\u001b[0;34m:\u001b[0m\u001b[0;34m\u001b[0m\u001b[0;34m\u001b[0m\u001b[0m\n",
      "\u001b[0;32m~/.local/lib/python3.10/site-packages/joblib/parallel.py\u001b[0m in \u001b[0;36m_get_outputs\u001b[0;34m(self, iterator, pre_dispatch)\u001b[0m\n\u001b[1;32m   1593\u001b[0m \u001b[0;34m\u001b[0m\u001b[0m\n\u001b[1;32m   1594\u001b[0m             \u001b[0;32mwith\u001b[0m \u001b[0mself\u001b[0m\u001b[0;34m.\u001b[0m\u001b[0m_backend\u001b[0m\u001b[0;34m.\u001b[0m\u001b[0mretrieval_context\u001b[0m\u001b[0;34m(\u001b[0m\u001b[0;34m)\u001b[0m\u001b[0;34m:\u001b[0m\u001b[0;34m\u001b[0m\u001b[0;34m\u001b[0m\u001b[0m\n\u001b[0;32m-> 1595\u001b[0;31m                 \u001b[0;32myield\u001b[0m \u001b[0;32mfrom\u001b[0m \u001b[0mself\u001b[0m\u001b[0;34m.\u001b[0m\u001b[0m_retrieve\u001b[0m\u001b[0;34m(\u001b[0m\u001b[0;34m)\u001b[0m\u001b[0;34m\u001b[0m\u001b[0;34m\u001b[0m\u001b[0m\n\u001b[0m\u001b[1;32m   1596\u001b[0m \u001b[0;34m\u001b[0m\u001b[0m\n\u001b[1;32m   1597\u001b[0m         \u001b[0;32mexcept\u001b[0m \u001b[0mGeneratorExit\u001b[0m\u001b[0;34m:\u001b[0m\u001b[0;34m\u001b[0m\u001b[0;34m\u001b[0m\u001b[0m\n",
      "\u001b[0;32m~/.local/lib/python3.10/site-packages/joblib/parallel.py\u001b[0m in \u001b[0;36m_retrieve\u001b[0;34m(self)\u001b[0m\n\u001b[1;32m   1697\u001b[0m             \u001b[0;31m# worker traceback.\u001b[0m\u001b[0;34m\u001b[0m\u001b[0;34m\u001b[0m\u001b[0m\n\u001b[1;32m   1698\u001b[0m             \u001b[0;32mif\u001b[0m \u001b[0mself\u001b[0m\u001b[0;34m.\u001b[0m\u001b[0m_aborting\u001b[0m\u001b[0;34m:\u001b[0m\u001b[0;34m\u001b[0m\u001b[0;34m\u001b[0m\u001b[0m\n\u001b[0;32m-> 1699\u001b[0;31m                 \u001b[0mself\u001b[0m\u001b[0;34m.\u001b[0m\u001b[0m_raise_error_fast\u001b[0m\u001b[0;34m(\u001b[0m\u001b[0;34m)\u001b[0m\u001b[0;34m\u001b[0m\u001b[0;34m\u001b[0m\u001b[0m\n\u001b[0m\u001b[1;32m   1700\u001b[0m                 \u001b[0;32mbreak\u001b[0m\u001b[0;34m\u001b[0m\u001b[0;34m\u001b[0m\u001b[0m\n\u001b[1;32m   1701\u001b[0m \u001b[0;34m\u001b[0m\u001b[0m\n",
      "\u001b[0;32m~/.local/lib/python3.10/site-packages/joblib/parallel.py\u001b[0m in \u001b[0;36m_raise_error_fast\u001b[0;34m(self)\u001b[0m\n\u001b[1;32m   1732\u001b[0m         \u001b[0;31m# called directly or if the generator is gc'ed.\u001b[0m\u001b[0;34m\u001b[0m\u001b[0;34m\u001b[0m\u001b[0m\n\u001b[1;32m   1733\u001b[0m         \u001b[0;32mif\u001b[0m \u001b[0merror_job\u001b[0m \u001b[0;32mis\u001b[0m \u001b[0;32mnot\u001b[0m \u001b[0;32mNone\u001b[0m\u001b[0;34m:\u001b[0m\u001b[0;34m\u001b[0m\u001b[0;34m\u001b[0m\u001b[0m\n\u001b[0;32m-> 1734\u001b[0;31m             \u001b[0merror_job\u001b[0m\u001b[0;34m.\u001b[0m\u001b[0mget_result\u001b[0m\u001b[0;34m(\u001b[0m\u001b[0mself\u001b[0m\u001b[0;34m.\u001b[0m\u001b[0mtimeout\u001b[0m\u001b[0;34m)\u001b[0m\u001b[0;34m\u001b[0m\u001b[0;34m\u001b[0m\u001b[0m\n\u001b[0m\u001b[1;32m   1735\u001b[0m \u001b[0;34m\u001b[0m\u001b[0m\n\u001b[1;32m   1736\u001b[0m     \u001b[0;32mdef\u001b[0m \u001b[0m_warn_exit_early\u001b[0m\u001b[0;34m(\u001b[0m\u001b[0mself\u001b[0m\u001b[0;34m)\u001b[0m\u001b[0;34m:\u001b[0m\u001b[0;34m\u001b[0m\u001b[0;34m\u001b[0m\u001b[0m\n",
      "\u001b[0;32m~/.local/lib/python3.10/site-packages/joblib/parallel.py\u001b[0m in \u001b[0;36mget_result\u001b[0;34m(self, timeout)\u001b[0m\n\u001b[1;32m    734\u001b[0m             \u001b[0;31m# callback thread, and is stored internally. It's just waiting to\u001b[0m\u001b[0;34m\u001b[0m\u001b[0;34m\u001b[0m\u001b[0m\n\u001b[1;32m    735\u001b[0m             \u001b[0;31m# be returned.\u001b[0m\u001b[0;34m\u001b[0m\u001b[0;34m\u001b[0m\u001b[0m\n\u001b[0;32m--> 736\u001b[0;31m             \u001b[0;32mreturn\u001b[0m \u001b[0mself\u001b[0m\u001b[0;34m.\u001b[0m\u001b[0m_return_or_raise\u001b[0m\u001b[0;34m(\u001b[0m\u001b[0;34m)\u001b[0m\u001b[0;34m\u001b[0m\u001b[0;34m\u001b[0m\u001b[0m\n\u001b[0m\u001b[1;32m    737\u001b[0m \u001b[0;34m\u001b[0m\u001b[0m\n\u001b[1;32m    738\u001b[0m         \u001b[0;31m# For other backends, the main thread needs to run the retrieval step.\u001b[0m\u001b[0;34m\u001b[0m\u001b[0;34m\u001b[0m\u001b[0m\n",
      "\u001b[0;32m~/.local/lib/python3.10/site-packages/joblib/parallel.py\u001b[0m in \u001b[0;36m_return_or_raise\u001b[0;34m(self)\u001b[0m\n\u001b[1;32m    752\u001b[0m         \u001b[0;32mtry\u001b[0m\u001b[0;34m:\u001b[0m\u001b[0;34m\u001b[0m\u001b[0;34m\u001b[0m\u001b[0m\n\u001b[1;32m    753\u001b[0m             \u001b[0;32mif\u001b[0m \u001b[0mself\u001b[0m\u001b[0;34m.\u001b[0m\u001b[0mstatus\u001b[0m \u001b[0;34m==\u001b[0m \u001b[0mTASK_ERROR\u001b[0m\u001b[0;34m:\u001b[0m\u001b[0;34m\u001b[0m\u001b[0;34m\u001b[0m\u001b[0m\n\u001b[0;32m--> 754\u001b[0;31m                 \u001b[0;32mraise\u001b[0m \u001b[0mself\u001b[0m\u001b[0;34m.\u001b[0m\u001b[0m_result\u001b[0m\u001b[0;34m\u001b[0m\u001b[0;34m\u001b[0m\u001b[0m\n\u001b[0m\u001b[1;32m    755\u001b[0m             \u001b[0;32mreturn\u001b[0m \u001b[0mself\u001b[0m\u001b[0;34m.\u001b[0m\u001b[0m_result\u001b[0m\u001b[0;34m\u001b[0m\u001b[0;34m\u001b[0m\u001b[0m\n\u001b[1;32m    756\u001b[0m         \u001b[0;32mfinally\u001b[0m\u001b[0;34m:\u001b[0m\u001b[0;34m\u001b[0m\u001b[0;34m\u001b[0m\u001b[0m\n",
      "\u001b[0;31mTerminatedWorkerError\u001b[0m: A worker process managed by the executor was unexpectedly terminated. This could be caused by a segmentation fault while calling the function or by an excessive memory usage causing the Operating System to kill the worker.\n\nThe exit codes of the workers are {SIGABRT(-6)}"
     ]
    }
   ],
   "source": [
    "import numpy as np\n",
    "from sklearn.ensemble import RandomForestClassifier\n",
    "from sklearn.model_selection import GridSearchCV, train_test_split\n",
    "from sklearn.datasets import make_classification\n",
    "from sklearn.metrics import classification_report\n",
    "\n",
    "# 在最优解附近联合调参\n",
    "\n",
    "# 创建随机森林分类器\n",
    "rfc = RandomForestClassifier(n_estimators=196\n",
    "                               ,random_state=42, min_samples_split = 4, min_samples_leaf=1,\n",
    "                                 max_features=0.9, criterion = 'gini' , n_jobs = -1)\n",
    "\n",
    "cat = CatBoostClassifier(n_estimators=5000, \n",
    "                         learning_rate=0.07,\n",
    "                         loss_function='Logloss',\n",
    "                         random_state=42,\n",
    "                         metric_period=500,\n",
    "                         od_wait=500,\n",
    "                         task_type='GPU',\n",
    "                         depth = 8,\n",
    "                         cat_features=categorical_features\n",
    "                        )\n",
    "\n",
    "# # 使用GridSearchCV进行网格搜索\n",
    "# grid_search = GridSearchCV(estimator=rfc, param_grid=param_grid, cv=kf, scoring='accuracy', verbose=2, n_jobs=-1)\n",
    "# grid_search.fit(X_norm, y)\n",
    "\n",
    "# # 打印最佳参数组合\n",
    "# print(\"Best parameters found: \", grid_search.best_params_)\n",
    "# print(\"Best score: \", grid_search.best_score_)\n",
    "\n",
    "# # 打印每个参数组合的得分\n",
    "# print(\"Grid search results:\")\n",
    "# means = grid_search.cv_results_['mean_test_score']\n",
    "# stds = grid_search.cv_results_['std_test_score']\n",
    "# params = grid_search.cv_results_['params']\n",
    "# for mean, std, param in zip(means, stds, params):\n",
    "#     print(f\"{param} - Mean score: {mean:.4f}, Std deviation: {std:.4f}\")\n",
    "\n",
    "# # 袋外分数\n",
    "# best_rf = grid_search.best_estimator_\n",
    "# print(best_rf.oob_score_)\n",
    "\n",
    "# # 定义评估指标\n",
    "num_classes = len(set(y))\n",
    "print(num_classes)\n",
    "\n",
    "scoring = []\n",
    "if num_classes == 2:\n",
    "    scoring = ['accuracy', 'precision', 'recall', 'f1']\n",
    "elif num_classes > 2:\n",
    "    scoring = ['accuracy', 'f1_micro', 'f1_macro', 'f1_weighted']\n",
    "else:\n",
    "    print(f'Error num_classes of {num_classes}')\n",
    "\n",
    "\n",
    "# 训练模型并评估\n",
    "scores = []\n",
    "\n",
    "start_time = time.time()\n",
    "for score_name in scoring:\n",
    "    score = cross_val_score(rfc, X_norm, y, scoring=score_name, cv=kf, n_jobs=-1)\n",
    "    scores.append((score.mean(), score.std()))\n",
    "end_time = time.time()\n",
    "\n",
    "# 输出结果\n",
    "for i, score_name in enumerate(scoring):\n",
    "    mean, std = scores[i]\n",
    "    print(f\"{score_name}: {100 * mean:.2f}±{100 * std:.2f}\")"
   ]
  },
  {
   "cell_type": "code",
   "execution_count": 51,
   "id": "b2085026",
   "metadata": {
    "ExecuteTime": {
     "end_time": "2024-06-13T01:32:56.027593Z",
     "start_time": "2024-06-13T01:31:12.857967Z"
    }
   },
   "outputs": [
    {
     "name": "stdout",
     "output_type": "stream",
     "text": [
      "模型准确率：0.4162025848481664\n"
     ]
    },
    {
     "data": {
      "text/plain": [
       "['./models/compressed_random_forest_5.joblib']"
      ]
     },
     "execution_count": 51,
     "metadata": {},
     "output_type": "execute_result"
    }
   ],
   "source": [
    "import joblib\n",
    "from sklearn.metrics import accuracy_score\n",
    "\n",
    "X_train, X_test, y_train, y_test = train_test_split(X_norm, y, test_size=0.2, stratify=y, random_state=42)\n",
    "rfc = RandomForestClassifier(n_estimators=196\n",
    "                               ,random_state=42, min_samples_split = 4, min_samples_leaf=1,\n",
    "                                 max_features=0.9, criterion = 'gini' , n_jobs = -1)\n",
    "rfc.fit(X_train, y_train)\n",
    "\n",
    "predictions = rfc.predict(X_test)\n",
    "\n",
    "# 评估模型（例如，计算准确率）\n",
    "accuracy = accuracy_score(y_test, predictions)\n",
    "print(f'模型准确率：{accuracy}')\n",
    "\n",
    "joblib.dump(rfc, './models/compressed_random_forest_5.joblib', compress=3)"
   ]
  },
  {
   "cell_type": "code",
   "execution_count": null,
   "id": "f25eeddf",
   "metadata": {
    "ExecuteTime": {
     "end_time": "2024-05-30T13:00:09.560923Z",
     "start_time": "2024-05-30T13:00:09.560909Z"
    }
   },
   "outputs": [],
   "source": [
    "import torch\n",
    "import torch.nn as nn\n",
    "import torch.optim as optim\n",
    "from torch.utils.data import DataLoader,TensorDataset\n",
    "from sklearn.model_selection import train_test_split\n",
    "import torch.nn.functional as F\n",
    "import numpy as np\n",
    "from sklearn.utils.class_weight import compute_class_weight \n",
    "from torch.optim.lr_scheduler import OneCycleLR\n",
    "\n",
    "device = torch.device(\"cuda\" if torch.cuda.is_available() else \"cpu\")\n",
    "\n",
    "import torch.nn as nn\n",
    "\n",
    "class TransformerModel(nn.Module):\n",
    "    def __init__(self, input_dim, num_heads, num_classes, dim_feedforward=128, num_layers=6):\n",
    "        super(TransformerModel, self).__init__()\n",
    "        self.input_dim = input_dim\n",
    "        self.embedding = nn.Linear(input_dim, dim_feedforward)\n",
    "        \n",
    "        # 添加 Batch Normalization 层\n",
    "        self.batch_norm = nn.BatchNorm1d(dim_feedforward)\n",
    "        \n",
    "        # 初始化 Transformer 编码器层\n",
    "        encoder_layer = nn.TransformerEncoderLayer(d_model=dim_feedforward, nhead=num_heads)\n",
    "        self.transformer_encoder = nn.TransformerEncoder(encoder_layer, num_layers=num_layers)\n",
    "        \n",
    "        # Dropout 层\n",
    "        self.dropout = nn.Dropout(0.5)\n",
    "        \n",
    "        # 输出层\n",
    "        self.output_layer = nn.Linear(dim_feedforward, num_classes)\n",
    "        \n",
    "        # ReLU 激活函数\n",
    "        self.relu = nn.ReLU()\n",
    "\n",
    "    def forward(self, src):\n",
    "        # src shape: (batch_size, input_dim)\n",
    "        src = self.embedding(src)  # (batch_size, dim_feedforward)\n",
    "        \n",
    "        # 应用批归一化\n",
    "        src = self.batch_norm(src)\n",
    "        \n",
    "        # 应用 ReLU 激活函数\n",
    "        src = self.relu(src)\n",
    "        \n",
    "        src = src.unsqueeze(1)  # (batch_size, 1, dim_feedforward) - Transformer expects seq_len, batch, dim\n",
    "        output = self.transformer_encoder(src)\n",
    "        output = output.squeeze(1)  # (batch_size, dim_feedforward)\n",
    "        \n",
    "        # 应用 Dropout\n",
    "        output = self.dropout(output)\n",
    "        \n",
    "        output = self.output_layer(output)\n",
    "        \n",
    "        return output\n",
    "\n",
    "\n",
    "\n",
    "model = TransformerModel(input_dim=X.shape[1], num_heads=2, num_classes= len(set(y))).to(device)\n",
    "def weight_init(m):  #初始化权重\n",
    "    if isinstance(m, nn.Linear):\n",
    "        nn.init.normal_(m.weight, std=0.01)\n",
    "        \n",
    "model.apply(weight_init)\n",
    "# if (y > 2).sum() == 0:\n",
    "#     criterion = nn.BCELoss().to(device)\n",
    "# else:\n",
    "# criterion = nn.CrossEntropyLoss(weight=class_weights).to(device)\n",
    "criterion = nn.CrossEntropyLoss().to(device)\n",
    "print(criterion)\n",
    "\n",
    "# lr = 0.0001 准确率0.64\n",
    "# lr = 0.00005, 65.03\n",
    "\n",
    "optimizer = optim.Adam(model.parameters(), lr=1e-6)"
   ]
  },
  {
   "cell_type": "code",
   "execution_count": null,
   "id": "4df52be1",
   "metadata": {
    "ExecuteTime": {
     "end_time": "2024-05-30T13:00:09.562296Z",
     "start_time": "2024-05-30T13:00:09.562281Z"
    },
    "scrolled": true
   },
   "outputs": [],
   "source": [
    "# X['weekend'] = X['weekend'].astype(int)\n",
    "\n",
    "from sklearn.preprocessing import MinMaxScaler\n",
    "X = MinMaxScaler().fit_transform(X)\n",
    "# 划分数据集\n",
    "X_tensor = torch.tensor(X, dtype=torch.float32)\n",
    "# 转换标签数据类型\n",
    "y_tensor = torch.tensor(y.values, dtype=torch.long)  # 确保y是正确的形状\n",
    "\n",
    "X_train, X_test, y_train, y_test = train_test_split(X_tensor, y_tensor, test_size=0.2, random_state=42, stratify=y)\n",
    "\n",
    "train_data = TensorDataset(X_train, y_train)\n",
    "test_data = TensorDataset(X_test, y_test)\n",
    "\n",
    "# DataLoader\n",
    "batch_size = 64\n",
    "train_loader = DataLoader(train_data, batch_size=batch_size, shuffle=True)\n",
    "test_loader = DataLoader(test_data, batch_size=batch_size, shuffle=True)\n",
    "\n",
    "epochs = 100\n",
    "\n",
    "# 训练和测试\n",
    "train_loss, test_loss = [], []\n",
    "train_acc, test_acc = [], []\n",
    "for epoch in range(epochs):  # 训练5个epoch\n",
    "    print(f\"Epoch {epoch+1}\")\n",
    "    model.train()\n",
    "    total_loss = 0\n",
    "    total_num, correct = 0, 0\n",
    "    s = {0:0, 1:0, 2:0, 3:0, 4:0}\n",
    "    for data, target in train_loader:\n",
    "        # 保存参数的初始状态\n",
    "        data, target = data.to(device), target.to(device)\n",
    "        optimizer.zero_grad()\n",
    "        \n",
    "        output = model(data)\n",
    "        loss = criterion(output, target)\n",
    "        \n",
    "        loss.backward()\n",
    "        optimizer.step() # 更新梯度\n",
    "        total_loss += loss.item()\n",
    "        \n",
    "        # 计算准确率\n",
    "        _, predicted = torch.max(output.data, 1)  # 获取每个样本的预测类别\n",
    "        correct += (predicted == target).sum().item()  # 计算正确预测的数量\n",
    "        total_num += target.size(0)  # 计算准确率\n",
    "                \n",
    "        for i in range(5):\n",
    "            s[i] += (predicted == i).sum()\n",
    "        \n",
    "    for i in range(5):\n",
    "        print(f\"训练集预测为{i}的样本数为：{s[i]}\")\n",
    "    avg_train_loss = total_loss / len(train_loader)\n",
    "    acc = correct / total_num * 100\n",
    "    train_loss.append(avg_train_loss)\n",
    "    train_acc.append(acc)\n",
    "    print(f\"Average Training Loss: {avg_train_loss}, Accuracy: {acc:.2f}%\")\n",
    "          \n",
    "    model.eval()\n",
    "    total_loss = 0\n",
    "    total_num, correct = 0, 0\n",
    "    s = {0:0, 1:0, 2:0, 3:0, 4:0}\n",
    "    with torch.no_grad():\n",
    "        for data, target in test_loader:\n",
    "            \n",
    "            data, target = data.to(device), target.to(device)\n",
    "            \n",
    "            output = model(data)\n",
    "            loss = criterion(output, target)\n",
    "            total_loss += loss.item()\n",
    "            \n",
    "            # 计算准确率\n",
    "            _, predicted = torch.max(output.data, 1)  # 获取每个样本的预测类别\n",
    "            correct += (predicted == target).sum().item()  # 计算正确预测的数量\n",
    "            total_num += target.size(0)  # 计算准确率\n",
    "            \n",
    "            for i in range(5):\n",
    "                s[i] += (predicted == i).sum()\n",
    "        \n",
    "    for i in range(5):\n",
    "        print(f\"测试集预测为{i}的样本数为：{s[i]}\")\n",
    "    avg_test_loss = total_loss / len(test_loader)\n",
    "    acc = correct / total_num * 100\n",
    "    test_loss.append(avg_test_loss)\n",
    "    test_acc.append(acc)\n",
    "    print(f\"Test Loss: {avg_test_loss}, Accuracy: {acc:.2f}%\")\n",
    "    \n",
    "torch.save(model, './models/transformer_balance_5_origin.pth')"
   ]
  },
  {
   "cell_type": "code",
   "execution_count": null,
   "id": "ab356eb6",
   "metadata": {
    "ExecuteTime": {
     "end_time": "2024-05-30T13:00:09.563466Z",
     "start_time": "2024-05-30T13:00:09.563452Z"
    }
   },
   "outputs": [],
   "source": [
    "X.info()"
   ]
  },
  {
   "cell_type": "code",
   "execution_count": null,
   "id": "7178fbe5",
   "metadata": {
    "ExecuteTime": {
     "end_time": "2024-05-30T13:00:09.564334Z",
     "start_time": "2024-05-30T13:00:09.564321Z"
    }
   },
   "outputs": [],
   "source": [
    "import torch\n",
    "from sklearn.preprocessing import MinMaxScaler\n",
    "categorical_features = ['hashtag', 'lang', 'tweet_lang', 'time_zone', 'season', 'day_time', 'weekend', 'mood_label', 'happy']\n",
    "numerical_features = [i for i in X.columns if i not in categorical_features]\n",
    "print(categorical_features, '\\n', numerical_features)\n",
    "\n",
    "categories = tuple(X.loc[:, categorical_features].nunique())\n",
    "print(categories)\n",
    "\n",
    "# 计算均值和方差\n",
    "X[numerical_features] = MinMaxScaler().fit_transform(X[numerical_features])\n",
    "means = X[numerical_features].mean()\n",
    "std = X[numerical_features].std()\n",
    "\n",
    "# 转换成tensor\n",
    "cont_mean_std = torch.tensor([means.values, std.values], dtype = torch.float32).T\n",
    "\n",
    "# 打印结果\n",
    "print(cont_mean_std)"
   ]
  },
  {
   "cell_type": "code",
   "execution_count": null,
   "id": "9d7d6813",
   "metadata": {
    "ExecuteTime": {
     "end_time": "2024-05-30T13:00:09.565860Z",
     "start_time": "2024-05-30T13:00:09.565846Z"
    }
   },
   "outputs": [],
   "source": [
    "import torch\n",
    "import torch.nn as nn\n",
    "from tab_transformer_pytorch import TabTransformer\n",
    "from sklearn.model_selection import train_test_split\n",
    "from torch.optim import Adam\n",
    "import torch.nn.functional as F\n",
    "from torch.utils.data import DataLoader, TensorDataset\n",
    "from torch.optim import Adam\n",
    "\n",
    "X_train, X_test, y_train, y_test = train_test_split(X, y, test_size=0.2, random_state=42)"
   ]
  },
  {
   "cell_type": "code",
   "execution_count": null,
   "id": "eaa1d49a",
   "metadata": {
    "ExecuteTime": {
     "end_time": "2024-05-30T13:00:09.566928Z",
     "start_time": "2024-05-30T13:00:09.566914Z"
    }
   },
   "outputs": [],
   "source": [
    "X_train.info()\n",
    "y_test.value_counts()"
   ]
  },
  {
   "cell_type": "code",
   "execution_count": null,
   "id": "5447d6aa",
   "metadata": {
    "ExecuteTime": {
     "end_time": "2024-05-30T13:00:09.568111Z",
     "start_time": "2024-05-30T13:00:09.568098Z"
    }
   },
   "outputs": [],
   "source": [
    "X_train_cat = X_train[categorical_features]\n",
    "X_train_con = X_train[numerical_features]\n",
    "X_test_cat = X_test[categorical_features]\n",
    "X_test_con = X_test[numerical_features]\n",
    "\n",
    "# 将数据转换为 PyTorch 张量\n",
    "X_train_categ = torch.tensor(X_train_cat.values, dtype=torch.long)\n",
    "X_train_cont = torch.tensor(X_train_con.values, dtype=torch.float32)\n",
    "X_test_categ = torch.tensor(X_test_cat.values, dtype=torch.long)\n",
    "X_test_cont = torch.tensor(X_test_con.values, dtype=torch.float32)\n",
    "\n",
    "y_train_tensor = torch.tensor(y_train.values, dtype=torch.long)\n",
    "y_test_tensor = torch.tensor(y_test.values, dtype=torch.long)\n",
    "\n",
    "# 创建数据集和数据加载器\n",
    "batch_size = 64\n",
    "train_dataset = TensorDataset(X_train_categ, X_train_cont, y_train_tensor)\n",
    "train_loader = DataLoader(train_dataset, batch_size=batch_size, shuffle=True)\n",
    "\n",
    "test_dataset = TensorDataset(X_test_categ, X_test_cont, y_test_tensor)\n",
    "test_loader = DataLoader(test_dataset, batch_size=batch_size, shuffle=False)"
   ]
  },
  {
   "cell_type": "code",
   "execution_count": null,
   "id": "5de254f8",
   "metadata": {
    "ExecuteTime": {
     "end_time": "2024-05-30T13:00:09.569520Z",
     "start_time": "2024-05-30T13:00:09.569506Z"
    }
   },
   "outputs": [],
   "source": [
    "\n",
    "\n",
    "import logging\n",
    "from datetime import datetime\n",
    "# 获取当前时间，并格式化为字符串\n",
    "current_time = datetime.now().strftime('%Y-%m-%d_%H-%M-%S')\n",
    "\n",
    "# 使用时间戳生成日志文件名\n",
    "log_filename = f'./exp/TabTransformer_{current_time}.log'\n",
    "\n",
    "# 配置logging\n",
    "logging.basicConfig(level=logging.INFO, \n",
    "                    format='%(asctime)s - %(levelname)s - %(message)s', \n",
    "                    filename=log_filename,  # 动态生成的日志文件名\n",
    "                    filemode='w')\n",
    "\n",
    "logger = logging.getLogger()\n",
    "\n",
    "# 定义 TabTransformer 模型\n",
    "l = len(categorical_features) + len(numerical_features)\n",
    "model = TabTransformer(\n",
    "    categories = categories,                # 分类特征的类别数量\n",
    "    num_continuous = len(numerical_features),   # 连续特征数量\n",
    "    dim = 64,                           # 模型维度\n",
    "    dim_out = 5,                        # 输出维度（5类分类）\n",
    "    depth = 6,                          # 模型深度\n",
    "    heads = 8,                          # 注意力头数量\n",
    "    attn_dropout = 0.1,                 # 注意力层 dropout\n",
    "    ff_dropout = 0.1,                   # 前馈层 dropout\n",
    "    mlp_hidden_mults = (4, 2),  # MLP 隐藏层相对维度\n",
    "    mlp_act = nn.ReLU(),           # MLP 激活函数\n",
    "    continuous_mean_std = cont_mean_std # 连续特征的均值和标准差\n",
    ")\n",
    "logger.info(model)\n",
    "model"
   ]
  },
  {
   "cell_type": "code",
   "execution_count": null,
   "id": "f76a00e7",
   "metadata": {
    "ExecuteTime": {
     "end_time": "2024-05-30T13:00:09.570523Z",
     "start_time": "2024-05-30T13:00:09.570509Z"
    },
    "scrolled": true
   },
   "outputs": [],
   "source": [
    "# 将模型移动到GPU（如果可用）\n",
    "device = torch.device('cuda' if torch.cuda.is_available() else 'cpu')\n",
    "model.to(device)\n",
    "# 转换数据到 GPU\n",
    "X_train_categ = X_train_categ.to(device)\n",
    "X_train_cont = X_train_cont.to(device)\n",
    "y_train_tensor = y_train_tensor.to(device)\n",
    "X_test_categ = X_test_categ.to(device)\n",
    "X_test_cont = X_test_cont.to(device)\n",
    "y_test_tensor = y_test_tensor.to(device)\n",
    "\n",
    "# 定义优化器\n",
    "lr = 1e-5\n",
    "optimizer = Adam(model.parameters(), lr=lr)\n",
    "\n",
    "# 训练模型\n",
    "num_epochs = 50\n",
    "test_losses = []\n",
    "test_accs = []\n",
    "train_losses = []\n",
    "train_accs = []\n",
    "\n",
    "logger.info(\"Trainning params:\")\n",
    "logger.info(f\"lr: {lr}\")\n",
    "logger.info(f\"batch_size: {batch_size}\")\n",
    "logger.info(f\"num_epochs: {num_epochs}\")          \n",
    "logger.info(\"Start trainning......\")\n",
    "for epoch in range(num_epochs):\n",
    "    model.train()\n",
    "    logger.info(f\"---------------------------------- Epoch {epoch + 1} / Epoch {num_epochs} ----------------------------------\")\n",
    "    total_loss, total = 0.0, 0\n",
    "    correct, num = 0, 0\n",
    "    for X_batch_categ, X_batch_cont, y_batch in train_loader:\n",
    "        X_batch_categ = X_batch_categ.to(device)\n",
    "        X_batch_cont = X_batch_cont.to(device)\n",
    "        y_batch = y_batch.to(device)\n",
    "\n",
    "        optimizer.zero_grad()\n",
    "        logits = model(X_batch_categ, X_batch_cont)\n",
    "        loss = F.cross_entropy(logits, y_batch)\n",
    "        preds = torch.argmax(logits, dim=1)\n",
    "            \n",
    "        correct += (preds == y_batch).sum().item()  # 计算正确预测的数量\n",
    "        total += y_batch.size(0)\n",
    "        total_loss += loss.item()\n",
    "        \n",
    "        loss.backward()\n",
    "        optimizer.step()\n",
    "    \n",
    "    train_acc = correct / total\n",
    "    train_loss = total_loss / len(train_loader)\n",
    "    train_losses.append(train_loss)\n",
    "    train_accs.append(train_acc)\n",
    "    \n",
    "    # 评估模型\n",
    "    model.eval()\n",
    "    test_loss = 0.0\n",
    "    correct = 0\n",
    "    total = 0\n",
    "    s = {0:0, 1:0, 2:0, 3:0, 4:0}\n",
    "    with torch.no_grad():\n",
    "        for X_batch_categ, X_batch_cont, y_batch in test_loader:\n",
    "            X_batch_categ = X_batch_categ.to(device)\n",
    "            X_batch_cont = X_batch_cont.to(device)\n",
    "            y_batch = y_batch.to(device)\n",
    "\n",
    "            test_logits = model(X_batch_categ, X_batch_cont)\n",
    "            test_loss += F.cross_entropy(test_logits, y_batch, reduction='sum').item()\n",
    "            preds = torch.argmax(test_logits, dim=1)\n",
    "            correct += (preds == y_batch).sum().item()\n",
    "            total += y_batch.size(0)\n",
    "            \n",
    "            for i in range(5):\n",
    "                s[i] += (preds == i).sum()\n",
    "    \n",
    "    for i in range(5):\n",
    "        logger.info(f\"测试集预测为{i}的样本数为：{s[i]}\")\n",
    "    test_loss /= total\n",
    "    accuracy = correct / total\n",
    "    test_losses.append(test_loss)\n",
    "    test_accs.append(accuracy)\n",
    "    logger.info(f'Train Loss: {train_loss:.4f}, Train Accuracy: {train_acc}, Test Loss: {test_loss:.4f}, Accuracy: {accuracy:.4f}')\n",
    "    \n",
    "torch.save(model, './models/tabtransformer_5.pth')"
   ]
  },
  {
   "cell_type": "code",
   "execution_count": null,
   "id": "507f474d",
   "metadata": {
    "ExecuteTime": {
     "end_time": "2024-05-30T13:00:09.571743Z",
     "start_time": "2024-05-30T13:00:09.571729Z"
    }
   },
   "outputs": [],
   "source": [
    "import matplotlib.pyplot as plt\n",
    "# 设置全局图表大小\n",
    "plt.rc('figure', figsize=(12, 8))\n",
    "plt.rc('axes', titlesize=18)  # 设置轴标题的字体大小\n",
    "plt.rc('axes', labelsize=14)  # 设置轴标签的字体大小\n",
    "plt.rc('xtick', labelsize=12)  # 设置x轴刻度标签的字体大小\n",
    "plt.rc('ytick', labelsize=12)  # 设置y轴刻度标签的字体大小\n",
    "plt.rc('legend', fontsize=12)  # 设置图例的字体大小\n",
    "\n",
    "plt.figure()\n",
    "plt.title('Loss and acc of the train process')\n",
    "plt.plot(range(num_epochs), train_losses, 'b--', label='train_loss')\n",
    "plt.plot(range(num_epochs), [x for x in train_accs], 'g', label = 'train_acc')\n",
    "plt.plot(range(num_epochs), test_losses, 'r--', label = 'test_loss')\n",
    "plt.plot(range(num_epochs), [x for x in test_accs], 'black', label = 'test_acc')\n",
    "plt.xlabel('epoch')\n",
    "plt.ylabel('acc / loss')\n",
    "plt.legend(loc='best')\n",
    "plt.show()"
   ]
  }
 ],
 "metadata": {
  "kernelspec": {
   "display_name": "Python 3 (ipykernel)",
   "language": "python",
   "name": "python3"
  },
  "language_info": {
   "codemirror_mode": {
    "name": "ipython",
    "version": 3
   },
   "file_extension": ".py",
   "mimetype": "text/x-python",
   "name": "python",
   "nbconvert_exporter": "python",
   "pygments_lexer": "ipython3",
   "version": "3.10.12"
  },
  "toc": {
   "base_numbering": 1,
   "nav_menu": {},
   "number_sections": true,
   "sideBar": true,
   "skip_h1_title": false,
   "title_cell": "Table of Contents",
   "title_sidebar": "Contents",
   "toc_cell": false,
   "toc_position": {},
   "toc_section_display": true,
   "toc_window_display": false
  },
  "varInspector": {
   "cols": {
    "lenName": 16,
    "lenType": 16,
    "lenVar": 40
   },
   "kernels_config": {
    "python": {
     "delete_cmd_postfix": "",
     "delete_cmd_prefix": "del ",
     "library": "var_list.py",
     "varRefreshCmd": "print(var_dic_list())"
    },
    "r": {
     "delete_cmd_postfix": ") ",
     "delete_cmd_prefix": "rm(",
     "library": "var_list.r",
     "varRefreshCmd": "cat(var_dic_list()) "
    }
   },
   "types_to_exclude": [
    "module",
    "function",
    "builtin_function_or_method",
    "instance",
    "_Feature"
   ],
   "window_display": false
  }
 },
 "nbformat": 4,
 "nbformat_minor": 5
}
