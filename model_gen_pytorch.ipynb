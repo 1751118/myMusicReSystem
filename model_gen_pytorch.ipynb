{
 "cells": [
  {
   "cell_type": "code",
   "execution_count": 1,
   "metadata": {
    "ExecuteTime": {
     "end_time": "2024-05-28T03:36:45.805619Z",
     "start_time": "2024-05-28T03:36:39.079141Z"
    }
   },
   "outputs": [
    {
     "name": "stdout",
     "output_type": "stream",
     "text": [
      "(35887, 3)\n"
     ]
    },
    {
     "data": {
      "text/html": [
       "<div>\n",
       "<style scoped>\n",
       "    .dataframe tbody tr th:only-of-type {\n",
       "        vertical-align: middle;\n",
       "    }\n",
       "\n",
       "    .dataframe tbody tr th {\n",
       "        vertical-align: top;\n",
       "    }\n",
       "\n",
       "    .dataframe thead th {\n",
       "        text-align: right;\n",
       "    }\n",
       "</style>\n",
       "<table border=\"1\" class=\"dataframe\">\n",
       "  <thead>\n",
       "    <tr style=\"text-align: right;\">\n",
       "      <th></th>\n",
       "      <th>emotion</th>\n",
       "      <th>pixels</th>\n",
       "      <th>Usage</th>\n",
       "    </tr>\n",
       "  </thead>\n",
       "  <tbody>\n",
       "    <tr>\n",
       "      <th>0</th>\n",
       "      <td>0</td>\n",
       "      <td>70 80 82 72 58 58 60 63 54 58 60 48 89 115 121...</td>\n",
       "      <td>Training</td>\n",
       "    </tr>\n",
       "    <tr>\n",
       "      <th>1</th>\n",
       "      <td>0</td>\n",
       "      <td>151 150 147 155 148 133 111 140 170 174 182 15...</td>\n",
       "      <td>Training</td>\n",
       "    </tr>\n",
       "    <tr>\n",
       "      <th>2</th>\n",
       "      <td>2</td>\n",
       "      <td>231 212 156 164 174 138 161 173 182 200 106 38...</td>\n",
       "      <td>Training</td>\n",
       "    </tr>\n",
       "    <tr>\n",
       "      <th>3</th>\n",
       "      <td>4</td>\n",
       "      <td>24 32 36 30 32 23 19 20 30 41 21 22 32 34 21 1...</td>\n",
       "      <td>Training</td>\n",
       "    </tr>\n",
       "    <tr>\n",
       "      <th>4</th>\n",
       "      <td>6</td>\n",
       "      <td>4 0 0 0 0 0 0 0 0 0 0 0 3 15 23 28 48 50 58 84...</td>\n",
       "      <td>Training</td>\n",
       "    </tr>\n",
       "  </tbody>\n",
       "</table>\n",
       "</div>"
      ],
      "text/plain": [
       "   emotion                                             pixels     Usage\n",
       "0        0  70 80 82 72 58 58 60 63 54 58 60 48 89 115 121...  Training\n",
       "1        0  151 150 147 155 148 133 111 140 170 174 182 15...  Training\n",
       "2        2  231 212 156 164 174 138 161 173 182 200 106 38...  Training\n",
       "3        4  24 32 36 30 32 23 19 20 30 41 21 22 32 34 21 1...  Training\n",
       "4        6  4 0 0 0 0 0 0 0 0 0 0 0 3 15 23 28 48 50 58 84...  Training"
      ]
     },
     "execution_count": 1,
     "metadata": {},
     "output_type": "execute_result"
    }
   ],
   "source": [
    "import pandas as pd\n",
    "import numpy as np\n",
    "\n",
    "# 2013年keggle人脸识别竞赛数据集\n",
    "df = pd.read_csv('./data/fer2013.csv')\n",
    "print(df.shape)\n",
    "df.head()"
   ]
  },
  {
   "cell_type": "markdown",
   "metadata": {
    "ExecuteTime": {
     "end_time": "2024-04-07T13:51:29.725480Z",
     "start_time": "2024-04-07T13:51:29.426140Z"
    }
   },
   "source": [
    "0 anger 生气； 1 disgust 厌恶； 2 fear 恐惧； 3 happy 开心； 4 sad 伤心；5 surprised 惊讶； 6 normal 中性"
   ]
  },
  {
   "cell_type": "code",
   "execution_count": 2,
   "metadata": {
    "ExecuteTime": {
     "end_time": "2024-05-28T03:36:45.818852Z",
     "start_time": "2024-05-28T03:36:45.808094Z"
    }
   },
   "outputs": [
    {
     "data": {
      "text/plain": [
       "(25813, 3)"
      ]
     },
     "execution_count": 2,
     "metadata": {},
     "output_type": "execute_result"
    }
   ],
   "source": [
    "emotion_label_to_text = {0:'anger', 1:'disgust', 2:'fear', 3:'happiness', 4: 'sadness', 5: 'surprise', 6: 'neutral'}\n",
    "\n",
    "# INTERESTED_LABELS = [3, 4]\n",
    "INTERESTED_LABELS = [1, 3, 4, 5, 6]\n",
    "df = df[df.emotion.isin(INTERESTED_LABELS)]\n",
    "df.shape"
   ]
  },
  {
   "cell_type": "code",
   "execution_count": 3,
   "metadata": {
    "ExecuteTime": {
     "end_time": "2024-05-28T03:37:17.694335Z",
     "start_time": "2024-05-28T03:36:45.820832Z"
    }
   },
   "outputs": [
    {
     "data": {
      "text/plain": [
       "3        [[[24.0], [32.0], [36.0], [30.0], [32.0], [23....\n",
       "4        [[[4.0], [0.0], [0.0], [0.0], [0.0], [0.0], [0...\n",
       "6        [[[20.0], [17.0], [19.0], [21.0], [25.0], [38....\n",
       "7        [[[77.0], [78.0], [79.0], [79.0], [78.0], [75....\n",
       "8        [[[85.0], [84.0], [90.0], [121.0], [101.0], [1...\n",
       "                               ...                        \n",
       "35877    [[[139.0], [143.0], [145.0], [154.0], [159.0],...\n",
       "35878    [[[0.0], [39.0], [81.0], [80.0], [104.0], [97....\n",
       "35882    [[[50.0], [36.0], [17.0], [22.0], [23.0], [29....\n",
       "35883    [[[178.0], [174.0], [172.0], [173.0], [181.0],...\n",
       "35885    [[[30.0], [28.0], [28.0], [29.0], [31.0], [30....\n",
       "Name: pixels, Length: 25813, dtype: object"
      ]
     },
     "execution_count": 3,
     "metadata": {},
     "output_type": "execute_result"
    }
   ],
   "source": [
    "# 把df.pixels的字符串数据转化为数组(48, 48, 1) 1表示1个通道（灰度）\n",
    "img_array = df.pixels.apply(lambda x: np.array(x.split(' ')).reshape(48,48,1).astype('float'))\n",
    "img_array"
   ]
  },
  {
   "cell_type": "code",
   "execution_count": 4,
   "metadata": {
    "ExecuteTime": {
     "end_time": "2024-05-28T03:37:18.197305Z",
     "start_time": "2024-05-28T03:37:17.697604Z"
    }
   },
   "outputs": [
    {
     "data": {
      "text/plain": [
       "array([[[[0.09411765],\n",
       "         [0.1254902 ],\n",
       "         [0.14117647],\n",
       "         ...,\n",
       "         [0.67843137],\n",
       "         [0.6745098 ],\n",
       "         [0.67843137]],\n",
       "\n",
       "        [[0.09803922],\n",
       "         [0.13333333],\n",
       "         [0.11372549],\n",
       "         ...,\n",
       "         [0.67843137],\n",
       "         [0.6745098 ],\n",
       "         [0.67843137]],\n",
       "\n",
       "        [[0.10196078],\n",
       "         [0.11372549],\n",
       "         [0.09803922],\n",
       "         ...,\n",
       "         [0.6745098 ],\n",
       "         [0.6745098 ],\n",
       "         [0.68235294]],\n",
       "\n",
       "        ...,\n",
       "\n",
       "        [[0.62352941],\n",
       "         [0.7254902 ],\n",
       "         [0.61568627],\n",
       "         ...,\n",
       "         [0.61568627],\n",
       "         [0.61176471],\n",
       "         [0.6       ]],\n",
       "\n",
       "        [[0.53333333],\n",
       "         [0.61568627],\n",
       "         [0.73333333],\n",
       "         ...,\n",
       "         [0.59607843],\n",
       "         [0.59607843],\n",
       "         [0.58823529]],\n",
       "\n",
       "        [[0.56862745],\n",
       "         [0.50980392],\n",
       "         [0.63137255],\n",
       "         ...,\n",
       "         [0.55686275],\n",
       "         [0.56078431],\n",
       "         [0.55686275]]],\n",
       "\n",
       "\n",
       "       [[[0.01568627],\n",
       "         [0.        ],\n",
       "         [0.        ],\n",
       "         ...,\n",
       "         [0.10588235],\n",
       "         [0.09411765],\n",
       "         [0.09803922]],\n",
       "\n",
       "        [[0.00392157],\n",
       "         [0.        ],\n",
       "         [0.        ],\n",
       "         ...,\n",
       "         [0.10196078],\n",
       "         [0.09019608],\n",
       "         [0.10196078]],\n",
       "\n",
       "        [[0.        ],\n",
       "         [0.        ],\n",
       "         [0.        ],\n",
       "         ...,\n",
       "         [0.10588235],\n",
       "         [0.10196078],\n",
       "         [0.10196078]],\n",
       "\n",
       "        ...,\n",
       "\n",
       "        [[0.        ],\n",
       "         [0.        ],\n",
       "         [0.        ],\n",
       "         ...,\n",
       "         [0.13333333],\n",
       "         [0.1254902 ],\n",
       "         [0.11764706]],\n",
       "\n",
       "        [[0.        ],\n",
       "         [0.        ],\n",
       "         [0.        ],\n",
       "         ...,\n",
       "         [0.12941176],\n",
       "         [0.12156863],\n",
       "         [0.11764706]],\n",
       "\n",
       "        [[0.        ],\n",
       "         [0.        ],\n",
       "         [0.        ],\n",
       "         ...,\n",
       "         [0.11764706],\n",
       "         [0.11372549],\n",
       "         [0.11764706]]],\n",
       "\n",
       "\n",
       "       [[[0.07843137],\n",
       "         [0.06666667],\n",
       "         [0.0745098 ],\n",
       "         ...,\n",
       "         [0.73333333],\n",
       "         [0.69019608],\n",
       "         [0.63529412]],\n",
       "\n",
       "        [[0.08627451],\n",
       "         [0.06666667],\n",
       "         [0.06666667],\n",
       "         ...,\n",
       "         [0.76470588],\n",
       "         [0.70588235],\n",
       "         [0.67058824]],\n",
       "\n",
       "        [[0.06666667],\n",
       "         [0.06666667],\n",
       "         [0.07058824],\n",
       "         ...,\n",
       "         [0.79607843],\n",
       "         [0.75686275],\n",
       "         [0.68627451]],\n",
       "\n",
       "        ...,\n",
       "\n",
       "        [[0.00392157],\n",
       "         [0.00392157],\n",
       "         [0.00392157],\n",
       "         ...,\n",
       "         [0.41568627],\n",
       "         [0.45098039],\n",
       "         [0.46666667]],\n",
       "\n",
       "        [[0.00784314],\n",
       "         [0.00784314],\n",
       "         [0.00392157],\n",
       "         ...,\n",
       "         [0.40392157],\n",
       "         [0.43529412],\n",
       "         [0.46666667]],\n",
       "\n",
       "        [[0.00784314],\n",
       "         [0.00784314],\n",
       "         [0.00784314],\n",
       "         ...,\n",
       "         [0.38823529],\n",
       "         [0.41960784],\n",
       "         [0.4627451 ]]],\n",
       "\n",
       "\n",
       "       ...,\n",
       "\n",
       "\n",
       "       [[[0.19607843],\n",
       "         [0.14117647],\n",
       "         [0.06666667],\n",
       "         ...,\n",
       "         [0.31372549],\n",
       "         [0.30980392],\n",
       "         [0.31764706]],\n",
       "\n",
       "        [[0.18039216],\n",
       "         [0.09019608],\n",
       "         [0.07058824],\n",
       "         ...,\n",
       "         [0.30980392],\n",
       "         [0.31372549],\n",
       "         [0.31372549]],\n",
       "\n",
       "        [[0.14509804],\n",
       "         [0.0745098 ],\n",
       "         [0.0745098 ],\n",
       "         ...,\n",
       "         [0.30588235],\n",
       "         [0.31372549],\n",
       "         [0.31372549]],\n",
       "\n",
       "        ...,\n",
       "\n",
       "        [[0.25882353],\n",
       "         [0.10196078],\n",
       "         [0.11764706],\n",
       "         ...,\n",
       "         [0.84705882],\n",
       "         [0.84313725],\n",
       "         [0.83921569]],\n",
       "\n",
       "        [[0.29411765],\n",
       "         [0.09803922],\n",
       "         [0.12941176],\n",
       "         ...,\n",
       "         [0.8627451 ],\n",
       "         [0.86666667],\n",
       "         [0.81176471]],\n",
       "\n",
       "        [[0.43137255],\n",
       "         [0.10980392],\n",
       "         [0.1372549 ],\n",
       "         ...,\n",
       "         [0.8745098 ],\n",
       "         [0.86666667],\n",
       "         [0.84705882]]],\n",
       "\n",
       "\n",
       "       [[[0.69803922],\n",
       "         [0.68235294],\n",
       "         [0.6745098 ],\n",
       "         ...,\n",
       "         [0.30588235],\n",
       "         [0.16078431],\n",
       "         [0.22352941]],\n",
       "\n",
       "        [[0.70980392],\n",
       "         [0.69803922],\n",
       "         [0.69803922],\n",
       "         ...,\n",
       "         [0.49411765],\n",
       "         [0.24705882],\n",
       "         [0.25098039]],\n",
       "\n",
       "        [[0.70980392],\n",
       "         [0.69019608],\n",
       "         [0.69019608],\n",
       "         ...,\n",
       "         [0.69411765],\n",
       "         [0.56862745],\n",
       "         [0.32156863]],\n",
       "\n",
       "        ...,\n",
       "\n",
       "        [[0.75686275],\n",
       "         [0.74901961],\n",
       "         [0.73333333],\n",
       "         ...,\n",
       "         [0.00392157],\n",
       "         [0.00392157],\n",
       "         [0.        ]],\n",
       "\n",
       "        [[0.75686275],\n",
       "         [0.75294118],\n",
       "         [0.74901961],\n",
       "         ...,\n",
       "         [0.        ],\n",
       "         [0.        ],\n",
       "         [0.        ]],\n",
       "\n",
       "        [[0.76078431],\n",
       "         [0.74901961],\n",
       "         [0.75294118],\n",
       "         ...,\n",
       "         [0.        ],\n",
       "         [0.        ],\n",
       "         [0.        ]]],\n",
       "\n",
       "\n",
       "       [[[0.11764706],\n",
       "         [0.10980392],\n",
       "         [0.10980392],\n",
       "         ...,\n",
       "         [0.23529412],\n",
       "         [0.19607843],\n",
       "         [0.17254902]],\n",
       "\n",
       "        [[0.11764706],\n",
       "         [0.10588235],\n",
       "         [0.10980392],\n",
       "         ...,\n",
       "         [0.25098039],\n",
       "         [0.20392157],\n",
       "         [0.15686275]],\n",
       "\n",
       "        [[0.12156863],\n",
       "         [0.10980392],\n",
       "         [0.11764706],\n",
       "         ...,\n",
       "         [0.23921569],\n",
       "         [0.21176471],\n",
       "         [0.14509804]],\n",
       "\n",
       "        ...,\n",
       "\n",
       "        [[0.40784314],\n",
       "         [0.42745098],\n",
       "         [0.43137255],\n",
       "         ...,\n",
       "         [0.1372549 ],\n",
       "         [0.11764706],\n",
       "         [0.11764706]],\n",
       "\n",
       "        [[0.4       ],\n",
       "         [0.41176471],\n",
       "         [0.42352941],\n",
       "         ...,\n",
       "         [0.1372549 ],\n",
       "         [0.12156863],\n",
       "         [0.11372549]],\n",
       "\n",
       "        [[0.36470588],\n",
       "         [0.37647059],\n",
       "         [0.39215686],\n",
       "         ...,\n",
       "         [0.1372549 ],\n",
       "         [0.11764706],\n",
       "         [0.10980392]]]])"
      ]
     },
     "execution_count": 4,
     "metadata": {},
     "output_type": "execute_result"
    }
   ],
   "source": [
    "# 换成4维(N, 48, 48, 1) N为图片的数量\n",
    "img_array = np.stack(img_array, axis=0)\n",
    "img_array /= 255\n",
    "img_array"
   ]
  },
  {
   "cell_type": "code",
   "execution_count": 5,
   "metadata": {
    "ExecuteTime": {
     "end_time": "2024-05-28T03:37:19.888290Z",
     "start_time": "2024-05-28T03:37:18.199421Z"
    }
   },
   "outputs": [
    {
     "data": {
      "text/plain": [
       "torch.Size([25813, 1, 48, 48])"
      ]
     },
     "execution_count": 5,
     "metadata": {},
     "output_type": "execute_result"
    }
   ],
   "source": [
    "# 假设 inputs 是你的原始输入数据，维度为 [batch_size, height, width, channels]\n",
    "# 首先转换为 PyTorch 期望的 NCHW 格式\n",
    "import torch as t\n",
    "\n",
    "img_array = t.from_numpy(img_array).float()\n",
    "img_array = img_array.permute(0, 3, 1, 2)  # Reorder from NHWC to NCHW\n",
    "img_array.shape"
   ]
  },
  {
   "cell_type": "code",
   "execution_count": 6,
   "metadata": {
    "ExecuteTime": {
     "end_time": "2024-05-28T03:37:20.562622Z",
     "start_time": "2024-05-28T03:37:19.890420Z"
    }
   },
   "outputs": [
    {
     "name": "stdout",
     "output_type": "stream",
     "text": [
      "{0: 1, 1: 3, 2: 4, 3: 5, 4: 6}\n",
      "tensor([[0, 0, 1, 0, 0],\n",
      "        [0, 0, 0, 0, 1],\n",
      "        [0, 0, 1, 0, 0],\n",
      "        ...,\n",
      "        [0, 0, 0, 0, 1],\n",
      "        [0, 1, 0, 0, 0],\n",
      "        [0, 1, 0, 0, 0]])\n"
     ]
    }
   ],
   "source": [
    "from sklearn.preprocessing import LabelEncoder\n",
    "import pandas as pd\n",
    "import torch\n",
    "import torch.nn.functional as F\n",
    "\n",
    "# 使用 LabelEncoder 转换标签\n",
    "le = LabelEncoder()\n",
    "img_labels = le.fit_transform(df['emotion'])\n",
    "\n",
    "# 转换为 PyTorch 张量\n",
    "img_labels = torch.tensor(img_labels)\n",
    "\n",
    "# 获取类别总数\n",
    "num_classes = len(le.classes_)\n",
    "\n",
    "le_name_mapping = dict(zip(le.transform(le.classes_), le.classes_))\n",
    "print(le_name_mapping)\n",
    "\n",
    "# 转换为 one-hot 编码\n",
    "img_labels = F.one_hot(img_labels, num_classes=num_classes)\n",
    "\n",
    "# 输出\n",
    "print(img_labels)"
   ]
  },
  {
   "cell_type": "code",
   "execution_count": 7,
   "metadata": {
    "ExecuteTime": {
     "end_time": "2024-05-28T03:37:20.815153Z",
     "start_time": "2024-05-28T03:37:20.565314Z"
    }
   },
   "outputs": [
    {
     "name": "stdout",
     "output_type": "stream",
     "text": [
      "torch.Size([20650, 1, 48, 48])\n",
      "torch.Size([5163, 1, 48, 48])\n",
      "torch.Size([20650, 5])\n",
      "torch.Size([5163, 5])\n"
     ]
    }
   ],
   "source": [
    "from sklearn.model_selection import train_test_split\n",
    "\n",
    "X_train, X_test, y_train, y_test = train_test_split(img_array, img_labels, test_size=0.2, shuffle=True, random_state=42, stratify=img_labels)\n",
    "print(X_train.shape)\n",
    "print(X_test.shape)\n",
    "print(y_train.shape)\n",
    "print(y_test.shape)"
   ]
  },
  {
   "cell_type": "code",
   "execution_count": 8,
   "metadata": {
    "ExecuteTime": {
     "end_time": "2024-05-28T03:37:20.823261Z",
     "start_time": "2024-05-28T03:37:20.819526Z"
    }
   },
   "outputs": [],
   "source": [
    "img_width = X_train.shape[3]\n",
    "img_height = X_train.shape[2]\n",
    "img_depth = X_train.shape[1]\n",
    "num_classes = y_train.shape[1]"
   ]
  },
  {
   "cell_type": "code",
   "execution_count": 9,
   "metadata": {
    "ExecuteTime": {
     "end_time": "2024-05-28T03:37:20.847292Z",
     "start_time": "2024-05-28T03:37:20.825558Z"
    },
    "scrolled": false
   },
   "outputs": [],
   "source": [
    "import torch.nn as nn\n",
    "import torch.nn.functional as F\n",
    "\n",
    "class DCNN(nn.Module):\n",
    "    def __init__(self, img_depth, num_classes):\n",
    "        super(DCNN, self).__init__()\n",
    "        \n",
    "        self.conv1 = nn.Conv2d(in_channels=img_depth, out_channels=256, kernel_size=5, padding=2)\n",
    "        self.batchnorm1 = nn.BatchNorm2d(256)\n",
    "        \n",
    "        self.conv2 = nn.Conv2d(in_channels=256, out_channels=128, kernel_size=5, padding=2)\n",
    "        self.batchnorm2 = nn.BatchNorm2d(128)\n",
    "        \n",
    "        self.pool1 = nn.MaxPool2d(kernel_size=2)\n",
    "        self.dropout1 = nn.Dropout(0.4)\n",
    "        \n",
    "        self.conv3 = nn.Conv2d(in_channels=128, out_channels=128, kernel_size=3, padding=1)\n",
    "        self.batchnorm3 = nn.BatchNorm2d(128)\n",
    "        \n",
    "        self.conv4 = nn.Conv2d(in_channels=128, out_channels=128, kernel_size=3, padding=1)\n",
    "        self.batchnorm4 = nn.BatchNorm2d(128)\n",
    "        self.pool2 = nn.MaxPool2d(kernel_size=2)\n",
    "        self.dropout2 = nn.Dropout(0.4)\n",
    "        \n",
    "        self.conv5 = nn.Conv2d(in_channels=128, out_channels=256, kernel_size=3, padding=1)\n",
    "        self.batchnorm5 = nn.BatchNorm2d(256)\n",
    "        \n",
    "        self.conv6 = nn.Conv2d(in_channels=256, out_channels=256, kernel_size=3, padding=1)\n",
    "        self.batchnorm6 = nn.BatchNorm2d(256)\n",
    "        self.pool3 = nn.MaxPool2d(kernel_size=2)\n",
    "        self.dropout3 = nn.Dropout(0.5)\n",
    "        \n",
    "        # Flattening the output for the dense layer\n",
    "        self.flatten = nn.Flatten()\n",
    "        # 正确计算展平后的尺寸\n",
    "        self.dense1 = nn.Linear(256 * 6 * 6, 128)  # Adjusted size after pooling\n",
    "        self.batchnorm7 = nn.BatchNorm1d(128)\n",
    "        self.dropout4 = nn.Dropout(0.6)\n",
    "        \n",
    "        self.out_layer = nn.Linear(128, num_classes)\n",
    "\n",
    "    def forward(self, x):\n",
    "        x = F.elu(self.batchnorm1(self.conv1(x)))\n",
    "        print(f\"Shape after conv1: {x.shape}\")\n",
    "        \n",
    "        x = F.elu(self.batchnorm2(self.conv2(x)))\n",
    "        print(f\"Shape after conv2: {x.shape}\")\n",
    "        \n",
    "        x = self.dropout1(self.pool1(x))\n",
    "        print(f\"Shape after pool1: {x.shape}\")\n",
    "        \n",
    "        x = F.elu(self.batchnorm3(self.conv3(x)))\n",
    "        print(f\"Shape after conv3: {x.shape}\")\n",
    "        \n",
    "        x = F.elu(self.batchnorm4(self.conv4(x)))\n",
    "        print(f\"Shape after conv4: {x.shape}\")\n",
    "        \n",
    "        x = self.dropout2(self.pool2(x))\n",
    "        print(f\"Shape after pool2: {x.shape}\")\n",
    "        \n",
    "        x = F.elu(self.batchnorm5(self.conv5(x)))\n",
    "        print(f\"Shape after conv5: {x.shape}\")\n",
    "        \n",
    "        x = F.elu(self.batchnorm6(self.conv6(x)))\n",
    "        print(f\"Shape after conv6: {x.shape}\")\n",
    "        \n",
    "        x = self.dropout3(self.pool3(x))\n",
    "        print(f\"Shape after pool3: {x.shape}\")\n",
    "        \n",
    "        x = self.flatten(x)\n",
    "        print(f\"Shape after flatten: {x.shape}\")\n",
    "        \n",
    "        x = F.elu(self.batchnorm7(self.dense1(x)))\n",
    "        print(f\"Shape after dense1: {x.shape}\")\n",
    "        \n",
    "        x = self.dropout4(x)\n",
    "        print(f\"Shape after dropout4: {x.shape}\")\n",
    "        \n",
    "        x = self.out_layer(x)\n",
    "        print(f\"Shape after out_layer: {x.shape}\")\n",
    "        \n",
    "        return x  # 返回 logits 用于计算交叉熵损失"
   ]
  },
  {
   "cell_type": "code",
   "execution_count": 10,
   "metadata": {
    "ExecuteTime": {
     "end_time": "2024-05-28T03:37:22.769171Z",
     "start_time": "2024-05-28T03:37:20.855613Z"
    }
   },
   "outputs": [
    {
     "name": "stdout",
     "output_type": "stream",
     "text": [
      "1 5\n"
     ]
    },
    {
     "data": {
      "text/plain": [
       "DCNN(\n",
       "  (conv1): Conv2d(1, 256, kernel_size=(5, 5), stride=(1, 1), padding=(2, 2))\n",
       "  (batchnorm1): BatchNorm2d(256, eps=1e-05, momentum=0.1, affine=True, track_running_stats=True)\n",
       "  (conv2): Conv2d(256, 128, kernel_size=(5, 5), stride=(1, 1), padding=(2, 2))\n",
       "  (batchnorm2): BatchNorm2d(128, eps=1e-05, momentum=0.1, affine=True, track_running_stats=True)\n",
       "  (pool1): MaxPool2d(kernel_size=2, stride=2, padding=0, dilation=1, ceil_mode=False)\n",
       "  (dropout1): Dropout(p=0.4, inplace=False)\n",
       "  (conv3): Conv2d(128, 128, kernel_size=(3, 3), stride=(1, 1), padding=(1, 1))\n",
       "  (batchnorm3): BatchNorm2d(128, eps=1e-05, momentum=0.1, affine=True, track_running_stats=True)\n",
       "  (conv4): Conv2d(128, 128, kernel_size=(3, 3), stride=(1, 1), padding=(1, 1))\n",
       "  (batchnorm4): BatchNorm2d(128, eps=1e-05, momentum=0.1, affine=True, track_running_stats=True)\n",
       "  (pool2): MaxPool2d(kernel_size=2, stride=2, padding=0, dilation=1, ceil_mode=False)\n",
       "  (dropout2): Dropout(p=0.4, inplace=False)\n",
       "  (conv5): Conv2d(128, 256, kernel_size=(3, 3), stride=(1, 1), padding=(1, 1))\n",
       "  (batchnorm5): BatchNorm2d(256, eps=1e-05, momentum=0.1, affine=True, track_running_stats=True)\n",
       "  (conv6): Conv2d(256, 256, kernel_size=(3, 3), stride=(1, 1), padding=(1, 1))\n",
       "  (batchnorm6): BatchNorm2d(256, eps=1e-05, momentum=0.1, affine=True, track_running_stats=True)\n",
       "  (pool3): MaxPool2d(kernel_size=2, stride=2, padding=0, dilation=1, ceil_mode=False)\n",
       "  (dropout3): Dropout(p=0.5, inplace=False)\n",
       "  (flatten): Flatten(start_dim=1, end_dim=-1)\n",
       "  (dense1): Linear(in_features=9216, out_features=128, bias=True)\n",
       "  (batchnorm7): BatchNorm1d(128, eps=1e-05, momentum=0.1, affine=True, track_running_stats=True)\n",
       "  (dropout4): Dropout(p=0.6, inplace=False)\n",
       "  (out_layer): Linear(in_features=128, out_features=5, bias=True)\n",
       ")"
      ]
     },
     "execution_count": 10,
     "metadata": {},
     "output_type": "execute_result"
    }
   ],
   "source": [
    "import torch.nn as nn\n",
    "import torch.optim as optim\n",
    "from torch.utils.data import DataLoader, TensorDataset\n",
    "import torch.nn.functional as F\n",
    "from torchvision import transforms\n",
    "\n",
    "device = t.device(\"cuda\" if torch.cuda.is_available() else \"cpu\")\n",
    "\n",
    "# 创建数据加载器\n",
    "batch_size = 64\n",
    "\n",
    "# 训练集数据增强\n",
    "# 定义图像数据的转换操作\n",
    "transform = transforms.Compose([\n",
    "    transforms.ToPILImage(),  # 如果你的数据是numpy数组或torch tensor，需要先转换为PIL图像\n",
    "    transforms.RandomHorizontalFlip(),  # 随机水平翻转，概率为0.5\n",
    "    transforms.RandomRotation(15),  # 随机旋转，角度范围 [-15, 15]\n",
    "    transforms.RandomAffine(degrees=0, translate=(0.15, 0.15), scale=(0.85, 1.15), shear=15),  # 随机平移、缩放和剪切\n",
    "    transforms.ToTensor()  # 将PIL图像转换回tensor\n",
    "])\n",
    "\n",
    "# 定义 collate_fn 来处理批次\n",
    "def my_collate_fn(batch):\n",
    "    images, labels = zip(*batch)  # 解包batch中的数据\n",
    "    images = [transform(image) for image in images]  # 应用transform到每个图像\n",
    "    images = torch.stack(images)  # 将列表的tensor堆叠成一个新的tensor\n",
    "    labels = torch.stack(labels)  # 堆叠labels（如果labels已是tensor且堆叠是必要的）\n",
    "    return images, labels\n",
    "\n",
    "train_dataset = TensorDataset(X_train, y_train)\n",
    "train_loader = DataLoader(train_dataset, batch_size=batch_size, shuffle=True, collate_fn=my_collate_fn)\n",
    "\n",
    "test_dataset = TensorDataset(X_test, y_test)\n",
    "test_loader = DataLoader(test_dataset, batch_size=batch_size, shuffle=True)\n",
    "\n",
    "# 创建模型实例\n",
    "print(img_depth, num_classes)\n",
    "model = DCNN(img_depth=img_depth, num_classes=num_classes).to(device)\n",
    "model"
   ]
  },
  {
   "cell_type": "code",
   "execution_count": 10,
   "metadata": {
    "ExecuteTime": {
     "end_time": "2024-05-18T10:04:33.592342Z",
     "start_time": "2024-05-18T09:32:02.569732Z"
    }
   },
   "outputs": [
    {
     "name": "stdout",
     "output_type": "stream",
     "text": [
      "1 5\n",
      "Start trainning......\n",
      "Epoch [1/100], Train Loss: 1.4384, Train Acc: 34.47%, Test Loss: 1.2633, Test Acc: 43.27%\n",
      "Epoch [2/100], Train Loss: 1.3006, Train Acc: 43.06%, Test Loss: 1.1426, Test Acc: 52.08%\n",
      "Epoch [3/100], Train Loss: 1.1908, Train Acc: 49.54%, Test Loss: 1.0380, Test Acc: 57.21%\n",
      "Epoch [4/100], Train Loss: 1.0967, Train Acc: 54.48%, Test Loss: 1.0330, Test Acc: 57.14%\n",
      "Epoch [5/100], Train Loss: 1.0176, Train Acc: 58.20%, Test Loss: 0.8975, Test Acc: 64.73%\n",
      "Epoch [6/100], Train Loss: 0.9648, Train Acc: 60.80%, Test Loss: 0.8161, Test Acc: 67.19%\n",
      "Epoch [7/100], Train Loss: 0.9363, Train Acc: 62.57%, Test Loss: 0.8672, Test Acc: 64.96%\n",
      "Epoch [8/100], Train Loss: 0.9147, Train Acc: 63.45%, Test Loss: 0.7740, Test Acc: 69.26%\n",
      "Epoch [9/100], Train Loss: 0.8996, Train Acc: 64.49%, Test Loss: 0.7614, Test Acc: 69.84%\n",
      "Epoch [10/100], Train Loss: 0.8789, Train Acc: 65.30%, Test Loss: 0.7686, Test Acc: 70.50%\n",
      "Epoch [11/100], Train Loss: 0.8616, Train Acc: 65.86%, Test Loss: 0.8272, Test Acc: 68.39%\n",
      "Epoch [12/100], Train Loss: 0.8453, Train Acc: 66.30%, Test Loss: 0.6959, Test Acc: 72.86%\n",
      "Epoch [13/100], Train Loss: 0.8308, Train Acc: 67.40%, Test Loss: 0.7374, Test Acc: 71.92%\n",
      "Epoch [14/100], Train Loss: 0.8227, Train Acc: 67.52%, Test Loss: 0.7159, Test Acc: 72.23%\n",
      "Epoch [15/100], Train Loss: 0.8100, Train Acc: 68.29%, Test Loss: 0.7271, Test Acc: 72.50%\n",
      "Epoch [16/100], Train Loss: 0.8106, Train Acc: 67.96%, Test Loss: 0.6752, Test Acc: 73.72%\n",
      "Epoch [17/100], Train Loss: 0.7939, Train Acc: 68.97%, Test Loss: 0.6987, Test Acc: 73.27%\n",
      "Epoch [18/100], Train Loss: 0.7888, Train Acc: 68.92%, Test Loss: 0.6845, Test Acc: 73.52%\n",
      "Epoch [19/100], Train Loss: 0.7774, Train Acc: 69.60%, Test Loss: 0.7221, Test Acc: 72.34%\n",
      "Epoch [20/100], Train Loss: 0.7692, Train Acc: 69.86%, Test Loss: 0.6847, Test Acc: 73.60%\n",
      "Epoch [21/100], Train Loss: 0.7575, Train Acc: 70.42%, Test Loss: 0.6492, Test Acc: 75.11%\n",
      "Epoch [22/100], Train Loss: 0.7554, Train Acc: 70.44%, Test Loss: 0.6709, Test Acc: 74.34%\n",
      "Epoch [23/100], Train Loss: 0.7517, Train Acc: 70.87%, Test Loss: 0.6645, Test Acc: 75.01%\n",
      "Epoch [24/100], Train Loss: 0.7425, Train Acc: 70.82%, Test Loss: 0.6326, Test Acc: 75.60%\n",
      "Epoch [25/100], Train Loss: 0.7288, Train Acc: 71.59%, Test Loss: 0.6437, Test Acc: 75.05%\n",
      "Epoch [26/100], Train Loss: 0.7308, Train Acc: 71.51%, Test Loss: 0.6386, Test Acc: 75.79%\n",
      "Epoch [27/100], Train Loss: 0.7270, Train Acc: 71.60%, Test Loss: 0.6404, Test Acc: 75.31%\n",
      "Epoch [28/100], Train Loss: 0.7197, Train Acc: 72.05%, Test Loss: 0.6408, Test Acc: 74.82%\n",
      "Epoch [29/100], Train Loss: 0.7194, Train Acc: 71.86%, Test Loss: 0.6725, Test Acc: 74.41%\n",
      "Epoch [30/100], Train Loss: 0.7071, Train Acc: 72.58%, Test Loss: 0.6312, Test Acc: 76.66%\n",
      "Epoch [31/100], Train Loss: 0.7000, Train Acc: 72.94%, Test Loss: 0.6141, Test Acc: 76.33%\n",
      "Epoch [32/100], Train Loss: 0.6915, Train Acc: 72.91%, Test Loss: 0.6177, Test Acc: 76.51%\n",
      "Epoch [33/100], Train Loss: 0.7018, Train Acc: 72.88%, Test Loss: 0.6107, Test Acc: 76.93%\n",
      "Epoch [34/100], Train Loss: 0.6947, Train Acc: 73.33%, Test Loss: 0.5972, Test Acc: 76.23%\n",
      "Epoch [35/100], Train Loss: 0.6914, Train Acc: 73.23%, Test Loss: 0.6343, Test Acc: 75.67%\n",
      "Epoch [36/100], Train Loss: 0.6862, Train Acc: 73.36%, Test Loss: 0.6492, Test Acc: 75.81%\n",
      "Epoch [37/100], Train Loss: 0.6746, Train Acc: 73.67%, Test Loss: 0.6062, Test Acc: 76.84%\n",
      "Epoch [38/100], Train Loss: 0.6693, Train Acc: 74.03%, Test Loss: 0.5979, Test Acc: 77.40%\n",
      "Epoch [39/100], Train Loss: 0.6685, Train Acc: 74.15%, Test Loss: 0.6056, Test Acc: 77.07%\n",
      "Epoch [40/100], Train Loss: 0.6749, Train Acc: 73.89%, Test Loss: 0.5915, Test Acc: 77.80%\n",
      "Epoch [41/100], Train Loss: 0.6649, Train Acc: 74.37%, Test Loss: 0.6269, Test Acc: 76.70%\n",
      "Epoch [42/100], Train Loss: 0.6622, Train Acc: 74.15%, Test Loss: 0.6300, Test Acc: 76.85%\n",
      "Epoch [43/100], Train Loss: 0.6584, Train Acc: 74.47%, Test Loss: 0.6045, Test Acc: 77.44%\n",
      "Epoch [44/100], Train Loss: 0.6497, Train Acc: 74.98%, Test Loss: 0.6031, Test Acc: 77.45%\n",
      "Epoch [45/100], Train Loss: 0.6444, Train Acc: 75.32%, Test Loss: 0.6121, Test Acc: 77.38%\n",
      "Epoch [46/100], Train Loss: 0.6410, Train Acc: 75.08%, Test Loss: 0.5977, Test Acc: 78.68%\n",
      "Epoch [47/100], Train Loss: 0.6432, Train Acc: 75.08%, Test Loss: 0.5937, Test Acc: 78.37%\n",
      "Epoch [48/100], Train Loss: 0.6392, Train Acc: 75.44%, Test Loss: 0.5818, Test Acc: 78.33%\n",
      "Epoch [49/100], Train Loss: 0.6365, Train Acc: 75.42%, Test Loss: 0.6039, Test Acc: 77.86%\n",
      "Epoch [50/100], Train Loss: 0.6339, Train Acc: 75.75%, Test Loss: 0.5940, Test Acc: 78.23%\n",
      "Epoch [51/100], Train Loss: 0.6329, Train Acc: 75.54%, Test Loss: 0.5807, Test Acc: 78.46%\n",
      "Epoch [52/100], Train Loss: 0.6291, Train Acc: 75.49%, Test Loss: 0.6171, Test Acc: 76.31%\n",
      "Epoch [53/100], Train Loss: 0.6207, Train Acc: 76.04%, Test Loss: 0.5738, Test Acc: 78.81%\n",
      "Epoch [54/100], Train Loss: 0.6242, Train Acc: 76.00%, Test Loss: 0.5902, Test Acc: 77.90%\n",
      "Epoch [55/100], Train Loss: 0.6154, Train Acc: 76.05%, Test Loss: 0.5899, Test Acc: 78.35%\n",
      "Epoch [56/100], Train Loss: 0.6144, Train Acc: 76.09%, Test Loss: 0.5938, Test Acc: 77.71%\n",
      "Epoch [57/100], Train Loss: 0.6075, Train Acc: 76.49%, Test Loss: 0.5776, Test Acc: 77.98%\n",
      "Epoch [58/100], Train Loss: 0.6099, Train Acc: 76.34%, Test Loss: 0.5784, Test Acc: 78.58%\n",
      "Epoch [59/100], Train Loss: 0.6093, Train Acc: 76.72%, Test Loss: 0.5578, Test Acc: 79.00%\n",
      "Epoch [60/100], Train Loss: 0.6079, Train Acc: 76.64%, Test Loss: 0.5814, Test Acc: 78.56%\n",
      "Epoch [61/100], Train Loss: 0.5982, Train Acc: 76.98%, Test Loss: 0.5864, Test Acc: 78.19%\n",
      "Epoch [62/100], Train Loss: 0.5986, Train Acc: 76.85%, Test Loss: 0.5646, Test Acc: 78.87%\n",
      "Epoch [63/100], Train Loss: 0.5948, Train Acc: 76.74%, Test Loss: 0.6010, Test Acc: 77.92%\n",
      "Epoch [64/100], Train Loss: 0.5947, Train Acc: 77.14%, Test Loss: 0.6399, Test Acc: 77.22%\n",
      "Epoch [65/100], Train Loss: 0.5902, Train Acc: 76.93%, Test Loss: 0.6350, Test Acc: 77.05%\n",
      "Epoch [66/100], Train Loss: 0.5904, Train Acc: 77.32%, Test Loss: 0.5880, Test Acc: 78.46%\n",
      "Epoch [67/100], Train Loss: 0.5798, Train Acc: 77.78%, Test Loss: 0.6007, Test Acc: 78.00%\n",
      "Epoch [68/100], Train Loss: 0.5856, Train Acc: 77.57%, Test Loss: 0.5738, Test Acc: 78.91%\n",
      "Epoch [69/100], Train Loss: 0.5763, Train Acc: 77.85%, Test Loss: 0.5731, Test Acc: 79.04%\n",
      "Epoch [70/100], Train Loss: 0.5764, Train Acc: 78.00%, Test Loss: 0.5868, Test Acc: 78.02%\n",
      "Epoch [71/100], Train Loss: 0.5774, Train Acc: 77.68%, Test Loss: 0.5769, Test Acc: 79.49%\n",
      "Epoch [72/100], Train Loss: 0.5790, Train Acc: 77.54%, Test Loss: 0.5814, Test Acc: 79.47%\n",
      "Epoch [73/100], Train Loss: 0.5704, Train Acc: 77.99%, Test Loss: 0.5830, Test Acc: 78.64%\n",
      "Epoch [74/100], Train Loss: 0.5697, Train Acc: 77.98%, Test Loss: 0.5764, Test Acc: 79.04%\n",
      "Epoch [75/100], Train Loss: 0.5626, Train Acc: 78.44%, Test Loss: 0.5608, Test Acc: 79.45%\n",
      "Epoch [76/100], Train Loss: 0.5672, Train Acc: 78.34%, Test Loss: 0.5879, Test Acc: 78.19%\n",
      "Epoch [77/100], Train Loss: 0.5624, Train Acc: 78.44%, Test Loss: 0.5592, Test Acc: 79.20%\n",
      "Epoch [78/100], Train Loss: 0.5600, Train Acc: 78.76%, Test Loss: 0.5676, Test Acc: 79.37%\n",
      "Epoch [79/100], Train Loss: 0.5482, Train Acc: 79.09%, Test Loss: 0.5585, Test Acc: 79.93%\n",
      "Epoch [80/100], Train Loss: 0.5475, Train Acc: 78.87%, Test Loss: 0.5809, Test Acc: 79.84%\n",
      "Epoch [81/100], Train Loss: 0.5554, Train Acc: 78.45%, Test Loss: 0.5760, Test Acc: 78.93%\n",
      "Epoch [82/100], Train Loss: 0.5475, Train Acc: 79.02%, Test Loss: 0.5765, Test Acc: 79.26%\n",
      "Epoch [83/100], Train Loss: 0.5467, Train Acc: 78.97%, Test Loss: 0.5614, Test Acc: 79.86%\n",
      "Epoch [84/100], Train Loss: 0.5466, Train Acc: 78.98%, Test Loss: 0.5755, Test Acc: 78.71%\n",
      "Epoch [85/100], Train Loss: 0.5437, Train Acc: 79.25%, Test Loss: 0.5546, Test Acc: 79.57%\n",
      "Epoch [86/100], Train Loss: 0.5373, Train Acc: 79.58%, Test Loss: 0.5762, Test Acc: 79.00%\n",
      "Epoch [87/100], Train Loss: 0.5418, Train Acc: 79.32%, Test Loss: 0.5878, Test Acc: 78.06%\n",
      "Epoch [88/100], Train Loss: 0.5408, Train Acc: 79.10%, Test Loss: 0.5815, Test Acc: 79.78%\n",
      "Epoch [89/100], Train Loss: 0.5461, Train Acc: 79.18%, Test Loss: 0.5831, Test Acc: 78.89%\n",
      "Epoch [90/100], Train Loss: 0.5386, Train Acc: 79.54%, Test Loss: 0.5726, Test Acc: 79.39%\n"
     ]
    },
    {
     "name": "stdout",
     "output_type": "stream",
     "text": [
      "Epoch [91/100], Train Loss: 0.5373, Train Acc: 79.11%, Test Loss: 0.5720, Test Acc: 80.01%\n",
      "Epoch [92/100], Train Loss: 0.5232, Train Acc: 80.12%, Test Loss: 0.6144, Test Acc: 78.40%\n",
      "Epoch [93/100], Train Loss: 0.5335, Train Acc: 79.61%, Test Loss: 0.5481, Test Acc: 79.62%\n",
      "Epoch [94/100], Train Loss: 0.5347, Train Acc: 79.31%, Test Loss: 0.5466, Test Acc: 79.97%\n",
      "Epoch [95/100], Train Loss: 0.5322, Train Acc: 79.55%, Test Loss: 0.5629, Test Acc: 79.08%\n",
      "Epoch [96/100], Train Loss: 0.5230, Train Acc: 80.07%, Test Loss: 0.5496, Test Acc: 79.64%\n",
      "Epoch [97/100], Train Loss: 0.5271, Train Acc: 79.81%, Test Loss: 0.5701, Test Acc: 79.86%\n",
      "Epoch [98/100], Train Loss: 0.5224, Train Acc: 79.71%, Test Loss: 0.5635, Test Acc: 79.64%\n",
      "Epoch [99/100], Train Loss: 0.5242, Train Acc: 80.12%, Test Loss: 0.5584, Test Acc: 80.13%\n",
      "Epoch [100/100], Train Loss: 0.5138, Train Acc: 80.33%, Test Loss: 0.5671, Test Acc: 79.82%\n"
     ]
    }
   ],
   "source": [
    "# 设置优化器和损失函数\n",
    "optimizer = optim.Adam(model.parameters(), lr=0.005)\n",
    "criterion = nn.CrossEntropyLoss().to(device)\n",
    "\n",
    "# 训练模型\n",
    "num_epochs = 100\n",
    "\n",
    "print('Start trainning......')\n",
    "# 初始化记录性能的列表\n",
    "train_losses = []\n",
    "test_losses = []\n",
    "train_accuracies = []\n",
    "test_accuracies = []\n",
    "\n",
    "for epoch in range(num_epochs):\n",
    "    model.train()\n",
    "    running_loss = 0.0\n",
    "    correct_train = 0\n",
    "    total_train = 0\n",
    "\n",
    "    for images, labels in train_loader:\n",
    "        images, labels = images.to(device), labels.to(device)\n",
    "        optimizer.zero_grad()\n",
    "\n",
    "        # Forward pass\n",
    "        outputs = model(images)\n",
    "        _, labels = torch.max(labels, dim=1)  # 只在标签是独热编码时需要\n",
    "\n",
    "        # Compute loss\n",
    "        loss = criterion(outputs, labels)\n",
    "        running_loss += loss.item() * images.size(0)\n",
    "\n",
    "        # Backward pass and optimize\n",
    "        loss.backward()\n",
    "        optimizer.step()\n",
    "\n",
    "        # Calculate train accuracy\n",
    "        _, predicted = torch.max(outputs.data, 1)\n",
    "        total_train += labels.size(0)\n",
    "        correct_train += (predicted == labels).sum().item()\n",
    "\n",
    "    epoch_loss = running_loss / len(train_loader.dataset)\n",
    "    epoch_accuracy = 100 * correct_train / total_train\n",
    "    train_losses.append(epoch_loss)\n",
    "    train_accuracies.append(epoch_accuracy)\n",
    "\n",
    "    # 测试模型\n",
    "    model.eval()\n",
    "    running_loss_test = 0.0\n",
    "    correct_test = 0\n",
    "    total_test = 0\n",
    "\n",
    "    with torch.no_grad():\n",
    "        for images, labels in test_loader:\n",
    "            images, labels = images.to(device), labels.to(device)\n",
    "            outputs = model(images)\n",
    "            _, labels = torch.max(labels, dim=1)\n",
    "            _, predicted = torch.max(outputs.data, 1)\n",
    "\n",
    "            # Test loss\n",
    "            loss_test = criterion(outputs, labels)\n",
    "            running_loss_test += loss_test.item() * images.size(0)\n",
    "\n",
    "            total_test += labels.size(0)\n",
    "            correct_test += (predicted == labels).sum().item()\n",
    "\n",
    "    test_loss = running_loss_test / len(test_loader.dataset)\n",
    "    test_accuracy = 100 * correct_test / total_test\n",
    "    test_losses.append(test_loss)\n",
    "    test_accuracies.append(test_accuracy)\n",
    "\n",
    "    print(f\"Epoch [{epoch+1}/{num_epochs}], Train Loss: {epoch_loss:.4f}, Train Acc: {epoch_accuracy:.2f}%, Test Loss: {test_loss:.4f}, Test Acc: {test_accuracy:.2f}%\")"
   ]
  },
  {
   "cell_type": "code",
   "execution_count": 11,
   "metadata": {
    "ExecuteTime": {
     "end_time": "2024-05-18T10:04:33.646243Z",
     "start_time": "2024-05-18T10:04:33.594799Z"
    }
   },
   "outputs": [],
   "source": [
    "t.save(model, './models/face_emotion_rec_model_5.pth')"
   ]
  },
  {
   "cell_type": "code",
   "execution_count": 12,
   "metadata": {
    "ExecuteTime": {
     "end_time": "2024-05-18T10:04:34.627752Z",
     "start_time": "2024-05-18T10:04:33.648193Z"
    }
   },
   "outputs": [
    {
     "data": {
      "image/png": "[encoded data removed]",
      "text/plain": [
       "<Figure size 864x576 with 1 Axes>"
      ]
     },
     "metadata": {
      "needs_background": "light"
     },
     "output_type": "display_data"
    }
   ],
   "source": [
    "import matplotlib.pyplot as plt\n",
    "# 设置全局图表大小\n",
    "plt.rc('figure', figsize=(12, 8))\n",
    "plt.rc('axes', titlesize=18)  # 设置轴标题的字体大小\n",
    "plt.rc('axes', labelsize=14)  # 设置轴标签的字体大小\n",
    "plt.rc('xtick', labelsize=12)  # 设置x轴刻度标签的字体大小\n",
    "plt.rc('ytick', labelsize=12)  # 设置y轴刻度标签的字体大小\n",
    "plt.rc('legend', fontsize=12)  # 设置图例的字体大小\n",
    "\n",
    "\n",
    "plt.figure()\n",
    "plt.title('Loss and acc of the trian process')\n",
    "plt.plot(range(num_epochs), train_losses, 'b--', label='train_loss')\n",
    "plt.plot(range(num_epochs), [x / 100 for x in train_accuracies], 'g--', label = 'train_acc')\n",
    "plt.plot(range(num_epochs), test_losses, 'r', label = 'test_loss')\n",
    "plt.plot(range(num_epochs), [x / 100 for x in test_accuracies], 'black', label = 'test_acc')\n",
    "plt.xlabel('num_epochs')\n",
    "plt.ylabel('acc / loss')\n",
    "plt.legend(loc='best')\n",
    "plt.show()"
   ]
  },
  {
   "cell_type": "code",
   "execution_count": 25,
   "metadata": {
    "ExecuteTime": {
     "end_time": "2024-05-18T11:38:07.518358Z",
     "start_time": "2024-05-18T11:38:07.388231Z"
    }
   },
   "outputs": [
    {
     "name": "stdout",
     "output_type": "stream",
     "text": [
      "Shape after conv1: torch.Size([1, 256, 48, 48])\n",
      "Shape after conv2: torch.Size([1, 128, 48, 48])\n",
      "Shape after pool1: torch.Size([1, 128, 24, 24])\n",
      "Shape after conv3: torch.Size([1, 128, 24, 24])\n",
      "Shape after conv4: torch.Size([1, 128, 24, 24])\n",
      "Shape after pool2: torch.Size([1, 128, 12, 12])\n",
      "Shape after conv5: torch.Size([1, 256, 12, 12])\n",
      "Shape after conv6: torch.Size([1, 256, 12, 12])\n",
      "Shape after pool3: torch.Size([1, 256, 6, 6])\n",
      "Shape after flatten: torch.Size([1, 9216])\n",
      "Shape after dense1: torch.Size([1, 128])\n",
      "Shape after dropout4: torch.Size([1, 128])\n",
      "Shape after out_layer: torch.Size([1, 5])\n"
     ]
    }
   ],
   "source": [
    "\n",
    "X = t.from_numpy(np.random.uniform(size=(1, 1, 48, 48))).float()\n",
    "dcnn = DCNN(1, 5)\n",
    "dcnn.eval()\n",
    "X = dcnn(X)\n"
   ]
  }
 ],
 "metadata": {
  "kernelspec": {
   "display_name": "Python 3 (ipykernel)",
   "language": "python",
   "name": "python3"
  },
  "language_info": {
   "codemirror_mode": {
    "name": "ipython",
    "version": 3
   },
   "file_extension": ".py",
   "mimetype": "text/x-python",
   "name": "python",
   "nbconvert_exporter": "python",
   "pygments_lexer": "ipython3",
   "version": "3.10.12"
  },
  "toc": {
   "base_numbering": 1,
   "nav_menu": {},
   "number_sections": true,
   "sideBar": true,
   "skip_h1_title": false,
   "title_cell": "Table of Contents",
   "title_sidebar": "Contents",
   "toc_cell": false,
   "toc_position": {},
   "toc_section_display": true,
   "toc_window_display": false
  },
  "varInspector": {
   "cols": {
    "lenName": 16,
    "lenType": 16,
    "lenVar": 40
   },
   "kernels_config": {
    "python": {
     "delete_cmd_postfix": "",
     "delete_cmd_prefix": "del ",
     "library": "var_list.py",
     "varRefreshCmd": "print(var_dic_list())"
    },
    "r": {
     "delete_cmd_postfix": ") ",
     "delete_cmd_prefix": "rm(",
     "library": "var_list.r",
     "varRefreshCmd": "cat(var_dic_list()) "
    }
   },
   "types_to_exclude": [
    "module",
    "function",
    "builtin_function_or_method",
    "instance",
    "_Feature"
   ],
   "window_display": false
  }
 },
 "nbformat": 4,
 "nbformat_minor": 2
}
