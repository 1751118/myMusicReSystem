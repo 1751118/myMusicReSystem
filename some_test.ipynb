{
 "cells": [
  {
   "cell_type": "code",
   "execution_count": 3,
   "id": "232f4457",
   "metadata": {
    "ExecuteTime": {
     "end_time": "2024-04-15T01:48:20.494272Z",
     "start_time": "2024-04-15T01:48:20.473932Z"
    }
   },
   "outputs": [
    {
     "name": "stdout",
     "output_type": "stream",
     "text": [
      "tensor([[[ 0.8645, -0.9604,  0.6479,  ..., -0.0306, -0.4634, -0.2139],\n",
      "         [-1.7756,  0.3736, -0.5327,  ...,  0.0622, -0.0450,  0.3024],\n",
      "         [ 0.1342,  1.6346, -1.1602,  ...,  1.2846, -0.8656, -0.4891],\n",
      "         ...,\n",
      "         [-0.4969,  2.0936, -0.0146,  ...,  0.0622,  1.2908,  0.9433],\n",
      "         [ 1.7050, -0.6364, -2.7957,  ...,  0.9960, -1.4117,  0.7537],\n",
      "         [ 1.5403, -0.4150,  1.2392,  ...,  0.3647,  2.2697, -1.0428]],\n",
      "\n",
      "        [[ 1.0432, -1.2039,  0.9774,  ...,  3.1006, -0.5853,  1.2694],\n",
      "         [-0.9962,  1.7231, -0.6628,  ..., -0.3905,  2.0796,  0.9763],\n",
      "         [-1.0774,  0.5247,  0.0530,  ..., -0.2097, -0.0495, -0.6792],\n",
      "         ...,\n",
      "         [-2.2331,  0.5132, -0.6668,  ...,  0.1516,  0.8890, -0.7754],\n",
      "         [ 0.8002, -0.9116, -1.5469,  ..., -0.2146, -0.7510,  0.1266],\n",
      "         [-0.3556, -1.9285,  1.7392,  ...,  1.1319,  0.2130, -1.3954]],\n",
      "\n",
      "        [[-0.8965,  0.2250, -0.4470,  ..., -0.3166, -0.1447, -1.1427],\n",
      "         [-0.8171,  1.8621, -0.4181,  ..., -0.4405, -0.9689,  0.0733],\n",
      "         [ 0.9717, -0.3915,  0.1864,  ...,  0.4719,  0.2020, -0.1940],\n",
      "         ...,\n",
      "         [ 1.4452,  0.1283,  0.6666,  ...,  0.0311, -0.3751, -0.6284],\n",
      "         [ 2.1678,  0.4371,  0.9600,  ...,  1.9163, -0.4716,  0.3498],\n",
      "         [ 0.6656,  1.1428,  0.8743,  ...,  0.2863,  0.9627, -0.4506]],\n",
      "\n",
      "        ...,\n",
      "\n",
      "        [[ 0.3890,  1.0074,  0.9816,  ...,  0.6772,  0.5941,  0.9428],\n",
      "         [ 0.0426,  0.0035, -0.5575,  ..., -1.0291, -0.2818, -1.4635],\n",
      "         [ 0.6961, -1.2337,  1.0738,  ..., -2.1636, -0.1496, -0.7003],\n",
      "         ...,\n",
      "         [-0.5267, -0.2408,  0.4596,  ..., -0.0283,  0.7330, -3.0366],\n",
      "         [-0.5505, -1.2819, -0.8278,  ...,  0.3347,  1.1300, -0.9632],\n",
      "         [-0.4644, -0.7159, -2.0438,  ..., -0.8685,  0.0448,  0.0330]],\n",
      "\n",
      "        [[-0.4842,  0.6846,  0.5127,  ...,  2.2904, -0.3826,  1.9962],\n",
      "         [-0.2047, -2.3746, -0.2089,  ..., -0.1900,  0.5708, -0.9295],\n",
      "         [ 1.1408,  1.1946, -0.9017,  ..., -0.9097,  0.4012, -1.1406],\n",
      "         ...,\n",
      "         [-2.5455,  1.0061,  1.0780,  ...,  1.3056,  0.3913, -0.2749],\n",
      "         [-0.7958, -0.7532,  0.2796,  ..., -0.1387, -1.3053, -1.0308],\n",
      "         [ 0.1451,  0.1215, -0.2112,  ...,  1.1301,  0.5563,  1.0942]],\n",
      "\n",
      "        [[ 0.0137,  0.6216,  0.3622,  ...,  0.4565, -2.0848, -0.1948],\n",
      "         [ 1.0502,  0.9463, -0.3168,  ..., -1.7829, -0.4922, -0.0176],\n",
      "         [ 0.0400,  0.0421,  0.5907,  ..., -1.4434,  2.1895, -1.2050],\n",
      "         ...,\n",
      "         [ 0.3883,  0.9550, -1.7565,  ...,  0.6148,  0.8969, -0.3122],\n",
      "         [-0.4702, -0.1846, -1.6947,  ..., -0.7684,  0.8510, -0.4119],\n",
      "         [-0.3054, -0.0659,  0.5250,  ...,  0.9600,  0.9576, -1.0536]]])\n",
      "torch.Size([32, 8, 12])\n"
     ]
    },
    {
     "name": "stderr",
     "output_type": "stream",
     "text": [
      "/home/s1751118/.local/lib/python3.10/site-packages/torch/nn/modules/transformer.py:286: UserWarning: enable_nested_tensor is True, but self.use_nested_tensor is False because encoder_layer.self_attn.batch_first was not True(use batch_first for better inference performance)\n",
      "  warnings.warn(f\"enable_nested_tensor is True, but self.use_nested_tensor is False because {why_not_sparsity_fast_path}\")\n"
     ]
    }
   ],
   "source": [
    "import torch\n",
    "import torch.nn as nn\n",
    "import torch.optim as optim\n",
    "\n",
    "# 定义一个基础的 Transformer 模型\n",
    "class MusicTransformer(nn.Module):\n",
    "    def __init__(self, feature_size, num_classes, num_heads=4, num_layers=2, dropout=0.1):\n",
    "        super(MusicTransformer, self).__init__()\n",
    "        self.embed = nn.Linear(feature_size, feature_size)\n",
    "        encoder_layer = nn.TransformerEncoderLayer(d_model=feature_size, nhead=num_heads, dropout=dropout)\n",
    "        self.transformer_encoder = nn.TransformerEncoder(encoder_layer, num_layers=num_layers)\n",
    "        self.classifier = nn.Linear(feature_size, num_classes)\n",
    "\n",
    "    def forward(self, x):\n",
    "        # 假设 x 的维度为 (batch_size, sequence_length, feature_size)\n",
    "        x = self.embed(x)  # 线性层用于特征维度的调整\n",
    "        x = x.permute(1, 0, 2)  # 调整维度以符合 Transformer 输入要求\n",
    "        x = self.transformer_encoder(x)\n",
    "        x = x.mean(dim=0)  # 对序列维度进行平均，用于分类\n",
    "        x = self.classifier(x)\n",
    "        return x\n",
    "\n",
    "# 创建模型实例\n",
    "feature_size = 12  # 假设特征维度为 10\n",
    "num_classes = 5   # 假设有 5 个类别\n",
    "model = MusicTransformer(feature_size, num_classes)\n",
    "\n",
    "# 定义损失函数和优化器\n",
    "criterion = nn.CrossEntropyLoss()\n",
    "optimizer = optim.Adam(model.parameters(), lr=0.001)\n",
    "\n",
    "# 模拟一些随机数据作为示例\n",
    "batch_size = 32\n",
    "sequence_length = 8\n",
    "data = torch.randn(batch_size, sequence_length, feature_size)\n",
    "labels = torch.randint(0, num_classes, (batch_size,))\n",
    "print(data)\n",
    "print(data.shape)"
   ]
  },
  {
   "cell_type": "code",
   "execution_count": 4,
   "id": "e4cd5d9b",
   "metadata": {
    "ExecuteTime": {
     "end_time": "2024-04-15T01:49:33.250404Z",
     "start_time": "2024-04-15T01:49:30.499891Z"
    }
   },
   "outputs": [
    {
     "name": "stdout",
     "output_type": "stream",
     "text": [
      "Epoch 1, Loss: 1.5850192308425903\n",
      "Epoch 2, Loss: 1.4721674919128418\n",
      "Epoch 3, Loss: 1.4222235679626465\n",
      "Epoch 4, Loss: 1.3755425214767456\n",
      "Epoch 5, Loss: 1.3312842845916748\n",
      "Epoch 6, Loss: 1.3140437602996826\n",
      "Epoch 7, Loss: 1.2597897052764893\n",
      "Epoch 8, Loss: 1.2308610677719116\n",
      "Epoch 9, Loss: 1.193207025527954\n",
      "Epoch 10, Loss: 1.1880677938461304\n"
     ]
    }
   ],
   "source": [
    "# 训练过程\n",
    "model.train()\n",
    "for epoch in range(10):  # 训练 10 个 epoch\n",
    "    optimizer.zero_grad()\n",
    "    output = model(data)\n",
    "    loss = criterion(output, labels)\n",
    "    loss.backward()\n",
    "    optimizer.step()\n",
    "    print(f'Epoch {epoch + 1}, Loss: {loss.item()}')"
   ]
  },
  {
   "cell_type": "code",
   "execution_count": 5,
   "id": "5d48a94d",
   "metadata": {
    "ExecuteTime": {
     "end_time": "2024-04-15T01:51:33.979974Z",
     "start_time": "2024-04-15T01:51:33.855349Z"
    }
   },
   "outputs": [
    {
     "name": "stdout",
     "output_type": "stream",
     "text": [
      "Test Loss: 1.7740390300750732, Test Accuracy: 0.12\n"
     ]
    }
   ],
   "source": [
    "# 函数来评估模型在测试集上的性能\n",
    "def evaluate_model(model, test_data, test_labels):\n",
    "    model.eval()  # 将模型设置为评估模式\n",
    "    with torch.no_grad():  # 关闭梯度计算\n",
    "        outputs = model(test_data)\n",
    "        loss = criterion(outputs, test_labels)\n",
    "        _, predicted = torch.max(outputs, 1)\n",
    "        correct = (predicted == test_labels).sum().item()\n",
    "        total = test_labels.size(0)\n",
    "        accuracy = correct / total\n",
    "    return loss.item(), accuracy\n",
    "\n",
    "# 创建一些模拟的测试数据\n",
    "test_data = torch.randn(batch_size, sequence_length, feature_size)\n",
    "test_labels = torch.randint(0, num_classes, (batch_size,))\n",
    "\n",
    "# 评估模型\n",
    "test_loss, test_accuracy = evaluate_model(model, test_data, test_labels)\n",
    "print(f'Test Loss: {test_loss}, Test Accuracy: {test_accuracy:.2f}')"
   ]
  },
  {
   "cell_type": "code",
   "execution_count": 3,
   "id": "ccac3bb9",
   "metadata": {
    "ExecuteTime": {
     "end_time": "2024-04-14T06:10:57.360008Z",
     "start_time": "2024-04-14T06:10:56.547763Z"
    }
   },
   "outputs": [
    {
     "name": "stdout",
     "output_type": "stream",
     "text": [
      "tensor([[[-0.5373, -0.6627, -0.6078,  ...,  0.2392,  0.1922,  0.1608],\n",
      "         [-0.8745, -1.0000, -0.8588,  ..., -0.0353, -0.0667, -0.0431],\n",
      "         [-0.8039, -0.8745, -0.6157,  ..., -0.0745, -0.0588, -0.1451],\n",
      "         ...,\n",
      "         [ 0.6314,  0.5765,  0.5529,  ...,  0.2549, -0.5608, -0.5843],\n",
      "         [ 0.4118,  0.3569,  0.4588,  ...,  0.4431, -0.2392, -0.3490],\n",
      "         [ 0.3882,  0.3176,  0.4039,  ...,  0.6941,  0.1843, -0.0353]],\n",
      "\n",
      "        [[-0.5137, -0.6392, -0.6235,  ...,  0.0353, -0.0196, -0.0275],\n",
      "         [-0.8431, -1.0000, -0.9373,  ..., -0.3098, -0.3490, -0.3176],\n",
      "         [-0.8118, -0.9451, -0.7882,  ..., -0.3412, -0.3412, -0.4275],\n",
      "         ...,\n",
      "         [ 0.3333,  0.2000,  0.2627,  ...,  0.0431, -0.7569, -0.7333],\n",
      "         [ 0.0902, -0.0353,  0.1294,  ...,  0.1608, -0.5137, -0.5843],\n",
      "         [ 0.1294,  0.0118,  0.1137,  ...,  0.4431, -0.0745, -0.2784]],\n",
      "\n",
      "        [[-0.5059, -0.6471, -0.6627,  ..., -0.1529, -0.2000, -0.1922],\n",
      "         [-0.8431, -1.0000, -1.0000,  ..., -0.5686, -0.6078, -0.5529],\n",
      "         [-0.8353, -1.0000, -0.9373,  ..., -0.6078, -0.6078, -0.6706],\n",
      "         ...,\n",
      "         [-0.2471, -0.7333, -0.7961,  ..., -0.4510, -0.9451, -0.8431],\n",
      "         [-0.2471, -0.6706, -0.7647,  ..., -0.2627, -0.7333, -0.7333],\n",
      "         [-0.0902, -0.2627, -0.3176,  ...,  0.0980, -0.3412, -0.4353]]])\n",
      "6\n"
     ]
    }
   ],
   "source": [
    "transform = transforms.Compose([\n",
    "    transforms.ToTensor(),\n",
    "    transforms.Normalize([0.5 ,0.5, 0.5], [0.5 ,0.5, 0.5])\n",
    "])\n",
    "\n",
    "train_set = tv.datasets.CIFAR10(root='./data', train=True, transform=transform)\n",
    "image, label = train_set[0]\n",
    "print(image)\n",
    "print(label)\n",
    "\n",
    "train_loader = DataLoader(train_set, shuffle=True, batch_size=64, num_workers=4, drop_last=True)"
   ]
  },
  {
   "cell_type": "code",
   "execution_count": 9,
   "id": "63c0d78c",
   "metadata": {
    "ExecuteTime": {
     "end_time": "2024-04-14T06:11:39.128922Z",
     "start_time": "2024-04-14T06:11:38.911394Z"
    }
   },
   "outputs": [
    {
     "name": "stdout",
     "output_type": "stream",
     "text": [
      "torch.Size([64, 6, 15, 15])\n"
     ]
    },
    {
     "data": {
      "image/png": "[encoded data removed]",
      "text/plain": [
       "<PIL.Image.Image image mode=RGB size=138x274 at 0x7F8ED88B1570>"
      ]
     },
     "execution_count": 9,
     "metadata": {},
     "output_type": "execute_result"
    }
   ],
   "source": [
    "import torch\n",
    "import torch.nn as nn\n",
    "\n",
    "class youmeng(torch.nn.Module):\n",
    "    def __init__(self):\n",
    "        super().__init__()\n",
    "        self.conv1 = nn.Conv2d(in_channels=3, out_channels=6, kernel_size=3, padding=0, stride=1)\n",
    "        self.maxpool1=  nn.MaxPool2d(kernel_size=2, ceil_mode=True)\n",
    "        self.sigmoid1 = nn.Sigmoid()\n",
    "        self.batchnorm1 = nn.BatchNorm2d(num_features=6)\n",
    "        self.dropout1 = nn.Dropout2d(p=0.5)\n",
    "    def forward(self, x):\n",
    "        x = self.conv1(x)\n",
    "        x = self.maxpool1(x)\n",
    "        x = self.sigmoid1(x)\n",
    "        x = self.batchnorm1(x)\n",
    "        x = self.dropout1(x)\n",
    "        return x\n",
    "\n",
    "y = youmeng()\n",
    "dataiter = iter(train_loader)\n",
    "images, labels = next(dataiter)\n",
    "outputs = y(images)\n",
    "print(outputs.shape)\n",
    "outputs = torch.reshape(outputs, (-1, 3, 15, 15))\n",
    "show(tv.utils.make_grid(outputs))"
   ]
  },
  {
   "cell_type": "code",
   "execution_count": 1,
   "id": "25661a90",
   "metadata": {
    "ExecuteTime": {
     "end_time": "2024-04-14T13:30:09.980790Z",
     "start_time": "2024-04-14T13:10:31.962425Z"
    }
   },
   "outputs": [
    {
     "name": "stdout",
     "output_type": "stream",
     "text": [
      "Files already downloaded and verified\n",
      "Files already downloaded and verified\n",
      "youmeng(\n",
      "  (model): Sequential(\n",
      "    (0): Conv2d(3, 32, kernel_size=(5, 5), stride=(1, 1), padding=(2, 2))\n",
      "    (1): MaxPool2d(kernel_size=2, stride=2, padding=0, dilation=1, ceil_mode=False)\n",
      "    (2): Conv2d(32, 32, kernel_size=(5, 5), stride=(1, 1), padding=(2, 2))\n",
      "    (3): MaxPool2d(kernel_size=2, stride=2, padding=0, dilation=1, ceil_mode=False)\n",
      "    (4): Conv2d(32, 64, kernel_size=(5, 5), stride=(1, 1), padding=(2, 2))\n",
      "    (5): MaxPool2d(kernel_size=2, stride=2, padding=0, dilation=1, ceil_mode=False)\n",
      "    (6): Flatten(start_dim=1, end_dim=-1)\n",
      "    (7): Linear(in_features=1024, out_features=64, bias=True)\n",
      "    (8): Linear(in_features=64, out_features=10, bias=True)\n",
      "  )\n",
      ")\n",
      "--------------------------第1轮训练--------------------------\n",
      "Epoch 1 loss sum: 1562.3238525390625\n",
      "第1轮训练测试集准确率为：37.06399917602539\n",
      "--------------------------第2轮训练--------------------------\n",
      "Epoch 2 loss sum: 1276.6190185546875\n",
      "第2轮训练测试集准确率为：43.65599822998047\n",
      "--------------------------第3轮训练--------------------------\n",
      "Epoch 3 loss sum: 1147.0374755859375\n",
      "第3轮训练测试集准确率为：48.43000030517578\n",
      "--------------------------第4轮训练--------------------------\n",
      "Epoch 4 loss sum: 1058.8125\n",
      "第4轮训练测试集准确率为：52.83799743652344\n",
      "--------------------------第5轮训练--------------------------\n",
      "Epoch 5 loss sum: 987.533447265625\n",
      "第5轮训练测试集准确率为：56.46999740600586\n",
      "--------------------------第6轮训练--------------------------\n",
      "Epoch 6 loss sum: 927.558837890625\n",
      "第6轮训练测试集准确率为：59.17799758911133\n",
      "--------------------------第7轮训练--------------------------\n",
      "Epoch 7 loss sum: 878.2801513671875\n",
      "第7轮训练测试集准确率为：61.62199783325195\n",
      "--------------------------第8轮训练--------------------------\n",
      "Epoch 8 loss sum: 836.1438598632812\n",
      "第8轮训练测试集准确率为：63.69199752807617\n",
      "--------------------------第9轮训练--------------------------\n",
      "Epoch 9 loss sum: 798.5835571289062\n",
      "第9轮训练测试集准确率为：65.53599548339844\n",
      "--------------------------第10轮训练--------------------------\n",
      "Epoch 10 loss sum: 764.7608032226562\n",
      "第10轮训练测试集准确率为：67.02999877929688\n",
      "--------------------------第11轮训练--------------------------\n",
      "Epoch 11 loss sum: 733.5875854492188\n",
      "第11轮训练测试集准确率为：68.43199920654297\n",
      "--------------------------第12轮训练--------------------------\n",
      "Epoch 12 loss sum: 704.8087768554688\n",
      "第12轮训练测试集准确率为：70.08200073242188\n",
      "--------------------------第13轮训练--------------------------\n",
      "Epoch 13 loss sum: 678.1583251953125\n",
      "第13轮训练测试集准确率为：71.19599914550781\n",
      "--------------------------第14轮训练--------------------------\n",
      "Epoch 14 loss sum: 653.4103393554688\n",
      "第14轮训练测试集准确率为：72.46599578857422\n",
      "--------------------------第15轮训练--------------------------\n",
      "Epoch 15 loss sum: 630.5469970703125\n",
      "第15轮训练测试集准确率为：73.4219970703125\n",
      "--------------------------第16轮训练--------------------------\n",
      "Epoch 16 loss sum: 609.0936889648438\n",
      "第16轮训练测试集准确率为：74.33799743652344\n",
      "--------------------------第17轮训练--------------------------\n",
      "Epoch 17 loss sum: 588.614013671875\n",
      "第17轮训练测试集准确率为：75.18999481201172\n",
      "--------------------------第18轮训练--------------------------\n",
      "Epoch 18 loss sum: 569.084716796875\n",
      "第18轮训练测试集准确率为：75.89599609375\n",
      "--------------------------第19轮训练--------------------------\n",
      "Epoch 19 loss sum: 550.0685424804688\n",
      "第19轮训练测试集准确率为：76.63800048828125\n",
      "--------------------------第20轮训练--------------------------\n",
      "Epoch 20 loss sum: 531.7676391601562\n",
      "第20轮训练测试集准确率为：77.37799835205078\n",
      "--------------------------第21轮训练--------------------------\n",
      "Epoch 21 loss sum: 513.8870239257812\n",
      "第21轮训练测试集准确率为：77.86399841308594\n",
      "--------------------------第22轮训练--------------------------\n",
      "Epoch 22 loss sum: 496.489501953125\n",
      "第22轮训练测试集准确率为：78.5979995727539\n",
      "--------------------------第23轮训练--------------------------\n",
      "Epoch 23 loss sum: 479.2268981933594\n",
      "第23轮训练测试集准确率为：79.18599700927734\n",
      "--------------------------第24轮训练--------------------------\n",
      "Epoch 24 loss sum: 462.3799743652344\n",
      "第24轮训练测试集准确率为：79.72200012207031\n",
      "--------------------------第25轮训练--------------------------\n",
      "Epoch 25 loss sum: 445.85540771484375\n",
      "第25轮训练测试集准确率为：80.5459976196289\n",
      "--------------------------第26轮训练--------------------------\n",
      "Epoch 26 loss sum: 429.2139587402344\n",
      "第26轮训练测试集准确率为：81.3219985961914\n",
      "--------------------------第27轮训练--------------------------\n",
      "Epoch 27 loss sum: 413.2154541015625\n",
      "第27轮训练测试集准确率为：82.16199493408203\n",
      "--------------------------第28轮训练--------------------------\n",
      "Epoch 28 loss sum: 397.3306884765625\n",
      "第28轮训练测试集准确率为：82.8499984741211\n",
      "--------------------------第29轮训练--------------------------\n",
      "Epoch 29 loss sum: 381.79522705078125\n",
      "第29轮训练测试集准确率为：83.60199737548828\n",
      "--------------------------第30轮训练--------------------------\n",
      "Epoch 30 loss sum: 366.02032470703125\n",
      "第30轮训练测试集准确率为：84.17399597167969\n",
      "--------------------------第31轮训练--------------------------\n",
      "Epoch 31 loss sum: 350.53729248046875\n",
      "第31轮训练测试集准确率为：84.77799987792969\n",
      "--------------------------第32轮训练--------------------------\n",
      "Epoch 32 loss sum: 334.8984375\n",
      "第32轮训练测试集准确率为：85.23199462890625\n",
      "--------------------------第33轮训练--------------------------\n",
      "Epoch 33 loss sum: 319.652587890625\n",
      "第33轮训练测试集准确率为：85.6780014038086\n",
      "--------------------------第34轮训练--------------------------\n",
      "Epoch 34 loss sum: 304.8074951171875\n",
      "第34轮训练测试集准确率为：86.11000061035156\n",
      "--------------------------第35轮训练--------------------------\n",
      "Epoch 35 loss sum: 290.2333679199219\n",
      "第35轮训练测试集准确率为：86.43199920654297\n",
      "--------------------------第36轮训练--------------------------\n",
      "Epoch 36 loss sum: 275.1109924316406\n",
      "第36轮训练测试集准确率为：86.85399627685547\n",
      "--------------------------第37轮训练--------------------------\n",
      "Epoch 37 loss sum: 260.10467529296875\n",
      "第37轮训练测试集准确率为：87.11599731445312\n",
      "--------------------------第38轮训练--------------------------\n",
      "Epoch 38 loss sum: 247.25656127929688\n",
      "第38轮训练测试集准确率为：87.56999969482422\n",
      "--------------------------第39轮训练--------------------------\n",
      "Epoch 39 loss sum: 235.0093994140625\n",
      "第39轮训练测试集准确率为：87.9219970703125\n",
      "--------------------------第40轮训练--------------------------\n",
      "Epoch 40 loss sum: 227.02981567382812\n",
      "第40轮训练测试集准确率为：87.7699966430664\n"
     ]
    }
   ],
   "source": [
    "import torch.nn as nn\n",
    "import torch\n",
    "import torchvision as tv\n",
    "import torchvision.transforms as transforms\n",
    "from torch.utils.data import DataLoader\n",
    "\n",
    "device = torch.device(\"cuda\" if torch.cuda.is_available() else \"cpu\")\n",
    "\n",
    "transform = transforms.Compose([\n",
    "    transforms.ToTensor(),\n",
    "    transforms.Normalize([0.5, 0.5, 0.5], [0.5, 0.5, 0.5])\n",
    "])\n",
    "train_set = tv.datasets.CIFAR10('./data', download=True, transform=transform)\n",
    "test_set = tv.datasets.CIFAR10('./data/', download=True, transform=transform)\n",
    "trainloader = DataLoader(train_set, batch_size=64)\n",
    "testloader = DataLoader(test_set, batch_size=64)\n",
    "\n",
    "# 定义网络\n",
    "class youmeng(nn.Module):\n",
    "    def __init__(self):\n",
    "        super().__init__()\n",
    "        self.model = nn.Sequential(\n",
    "            nn.Conv2d(3, 32, 5,padding=2),\n",
    "            nn.MaxPool2d(2),\n",
    "            nn.Conv2d(32, 32, 5, padding=2),\n",
    "            nn.MaxPool2d(2),\n",
    "            nn.Conv2d(32, 64, 5, padding=2),\n",
    "            nn.MaxPool2d(2),\n",
    "            nn.Flatten(),\n",
    "            nn.Linear(1024, 64),\n",
    "            nn.Linear(64, 10)\n",
    "        )\n",
    "        \n",
    "    def forward(self, x):\n",
    "        x = self.model(x)\n",
    "        return x\n",
    "\n",
    "ynet = youmeng()\n",
    "ynet.to(device)\n",
    "\n",
    "print(ynet)\n",
    "loss = nn.CrossEntropyLoss()\n",
    "loss.to(device)\n",
    "optim = torch.optim.SGD(ynet.parameters(), lr=0.01)\n",
    "\n",
    "epoches = 40\n",
    "for epoch in range(epoches):\n",
    "    running_loss = 0.0\n",
    "    \n",
    "    ynet.train()\n",
    "    print(f'--------------------------第{epoch + 1}轮训练--------------------------')\n",
    "    for images, labels in trainloader:\n",
    "        images, labels = images.to(device), labels.to(device)\n",
    "        \n",
    "        outputs = ynet(images)\n",
    "        result_loss = loss(outputs, labels)\n",
    "        \n",
    "        optim.zero_grad()\n",
    "        result_loss.backward()\n",
    "        optim.step()\n",
    "        running_loss += result_loss\n",
    "    print(f'Epoch {epoch + 1} loss sum: {running_loss}')\n",
    "    \n",
    "    # 测试开始\n",
    "    correct, total = 0, 0\n",
    "    ynet.eval()\n",
    "    with torch.no_grad():\n",
    "        for images, labels in testloader:\n",
    "            images, labels = images.to(device), labels.to(device)\n",
    "            outputs = ynet(images)\n",
    "            test_loss = loss(outputs, labels)\n",
    "            \n",
    "            _, predicted = torch.max(outputs, 1)\n",
    "            total += labels.size(0)\n",
    "            correct += (predicted == labels).sum()\n",
    "    print(f'第{epoch + 1}轮训练测试集准确率为：{100 * correct / total}')"
   ]
  },
  {
   "cell_type": "code",
   "execution_count": 2,
   "id": "878cbc54",
   "metadata": {
    "ExecuteTime": {
     "end_time": "2024-04-14T13:30:10.009731Z",
     "start_time": "2024-04-14T13:30:09.983563Z"
    }
   },
   "outputs": [],
   "source": [
    "torch.save(ynet, './models/ynet.pth')"
   ]
  },
  {
   "cell_type": "code",
   "execution_count": 3,
   "id": "2a4f67ee",
   "metadata": {
    "ExecuteTime": {
     "end_time": "2024-04-14T13:30:10.025443Z",
     "start_time": "2024-04-14T13:30:10.011879Z"
    }
   },
   "outputs": [
    {
     "name": "stdout",
     "output_type": "stream",
     "text": [
      "youmeng(\n",
      "  (model): Sequential(\n",
      "    (0): Conv2d(3, 32, kernel_size=(5, 5), stride=(1, 1), padding=(2, 2))\n",
      "    (1): MaxPool2d(kernel_size=2, stride=2, padding=0, dilation=1, ceil_mode=False)\n",
      "    (2): Conv2d(32, 32, kernel_size=(5, 5), stride=(1, 1), padding=(2, 2))\n",
      "    (3): MaxPool2d(kernel_size=2, stride=2, padding=0, dilation=1, ceil_mode=False)\n",
      "    (4): Conv2d(32, 64, kernel_size=(5, 5), stride=(1, 1), padding=(2, 2))\n",
      "    (5): MaxPool2d(kernel_size=2, stride=2, padding=0, dilation=1, ceil_mode=False)\n",
      "    (6): Flatten(start_dim=1, end_dim=-1)\n",
      "    (7): Linear(in_features=1024, out_features=64, bias=True)\n",
      "    (8): Linear(in_features=64, out_features=10, bias=True)\n",
      "  )\n",
      ")\n"
     ]
    }
   ],
   "source": [
    "model = torch.load('./models/ynet.pth')\n",
    "print(model)"
   ]
  },
  {
   "cell_type": "code",
   "execution_count": 4,
   "id": "57dc4b41",
   "metadata": {
    "ExecuteTime": {
     "end_time": "2024-04-14T13:30:10.036249Z",
     "start_time": "2024-04-14T13:30:10.028063Z"
    }
   },
   "outputs": [
    {
     "data": {
      "text/plain": [
       "True"
      ]
     },
     "execution_count": 4,
     "metadata": {},
     "output_type": "execute_result"
    }
   ],
   "source": [
    "torch.cuda.is_available()"
   ]
  },
  {
   "cell_type": "code",
   "execution_count": 21,
   "id": "974ec069",
   "metadata": {
    "ExecuteTime": {
     "end_time": "2024-04-14T14:07:07.151861Z",
     "start_time": "2024-04-14T14:07:07.108174Z"
    }
   },
   "outputs": [
    {
     "name": "stdout",
     "output_type": "stream",
     "text": [
      "youmeng(\n",
      "  (model): Sequential(\n",
      "    (0): Conv2d(3, 32, kernel_size=(5, 5), stride=(1, 1), padding=(2, 2))\n",
      "    (1): MaxPool2d(kernel_size=2, stride=2, padding=0, dilation=1, ceil_mode=False)\n",
      "    (2): Conv2d(32, 32, kernel_size=(5, 5), stride=(1, 1), padding=(2, 2))\n",
      "    (3): MaxPool2d(kernel_size=2, stride=2, padding=0, dilation=1, ceil_mode=False)\n",
      "    (4): Conv2d(32, 64, kernel_size=(5, 5), stride=(1, 1), padding=(2, 2))\n",
      "    (5): MaxPool2d(kernel_size=2, stride=2, padding=0, dilation=1, ceil_mode=False)\n",
      "    (6): Flatten(start_dim=1, end_dim=-1)\n",
      "    (7): Linear(in_features=1024, out_features=64, bias=True)\n",
      "    (8): Linear(in_features=64, out_features=10, bias=True)\n",
      "  )\n",
      ")\n",
      "horse\n"
     ]
    }
   ],
   "source": [
    "from PIL import Image\n",
    "from torchvision.transforms import ToPILImage\n",
    "\n",
    "transform = transforms.Compose([\n",
    "    transforms.Resize((32, 32)),\n",
    "    transforms.ToTensor(),\n",
    "    transforms.Normalize([0.5, 0.5, 0.5], [0.5, 0.5, 0.5])\n",
    "])\n",
    "\n",
    "image_path = './data/horse.jpg'\n",
    "image_test = Image.open(image_path)\n",
    "image_tensor = transform(image_test)\n",
    "\n",
    "show = ToPILImage()\n",
    "\n",
    "model = torch.load('./models/ynet.pth', map_location='cpu')\n",
    "print(model)\n",
    "\n",
    "model.eval()\n",
    "labels = ['airplane', 'automobile', 'bird', 'cat', 'deer', 'dog', 'frog' ,'horse', 'ship', 'truck']\n",
    "with torch.no_grad():\n",
    "    image_tensor = torch.reshape(image_tensor, (1, 3, 32, 32))\n",
    "    outputs = model(image_tensor)\n",
    "    print(labels[outputs.argmax()])"
   ]
  }
 ],
 "metadata": {
  "kernelspec": {
   "display_name": "Python 3 (ipykernel)",
   "language": "python",
   "name": "python3"
  },
  "language_info": {
   "codemirror_mode": {
    "name": "ipython",
    "version": 3
   },
   "file_extension": ".py",
   "mimetype": "text/x-python",
   "name": "python",
   "nbconvert_exporter": "python",
   "pygments_lexer": "ipython3",
   "version": "3.10.12"
  },
  "toc": {
   "base_numbering": 1,
   "nav_menu": {},
   "number_sections": true,
   "sideBar": true,
   "skip_h1_title": false,
   "title_cell": "Table of Contents",
   "title_sidebar": "Contents",
   "toc_cell": false,
   "toc_position": {},
   "toc_section_display": true,
   "toc_window_display": false
  },
  "varInspector": {
   "cols": {
    "lenName": 16,
    "lenType": 16,
    "lenVar": 40
   },
   "kernels_config": {
    "python": {
     "delete_cmd_postfix": "",
     "delete_cmd_prefix": "del ",
     "library": "var_list.py",
     "varRefreshCmd": "print(var_dic_list())"
    },
    "r": {
     "delete_cmd_postfix": ") ",
     "delete_cmd_prefix": "rm(",
     "library": "var_list.r",
     "varRefreshCmd": "cat(var_dic_list()) "
    }
   },
   "types_to_exclude": [
    "module",
    "function",
    "builtin_function_or_method",
    "instance",
    "_Feature"
   ],
   "window_display": false
  }
 },
 "nbformat": 4,
 "nbformat_minor": 5
}
